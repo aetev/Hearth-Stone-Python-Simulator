{
  "cells": [
    {
      "cell_type": "markdown",
      "metadata": {
        "id": "view-in-github",
        "colab_type": "text"
      },
      "source": [
        "<a href=\"https://colab.research.google.com/github/aetev/Hearth-Stone-Python-Simulator/blob/main/Welcome_To_Colab.ipynb\" target=\"_parent\"><img src=\"https://colab.research.google.com/assets/colab-badge.svg\" alt=\"Open In Colab\"/></a>"
      ]
    },
    {
      "cell_type": "code",
      "source": [
        "from google.colab import drive\n",
        "drive.mount('/content/drive')"
      ],
      "metadata": {
        "id": "Cucuv_birivV"
      },
      "execution_count": null,
      "outputs": []
    },
    {
      "cell_type": "code",
      "source": [
        "import pandas as pd\n",
        "import re"
      ],
      "metadata": {
        "id": "S-_po4xqrjrV"
      },
      "execution_count": null,
      "outputs": []
    },
    {
      "cell_type": "code",
      "source": [
        "df = pd.read_json('/content/drive/MyDrive/MTGdata/AtomicCards.json')"
      ],
      "metadata": {
        "id": "bNk74K2xrlcM"
      },
      "execution_count": null,
      "outputs": []
    },
    {
      "cell_type": "code",
      "source": [
        "def replace_card_name(index,text):\n",
        "  name_parts = index.split()\n",
        "\n",
        "  possible_matches = [index]\n",
        "\n",
        "  if len(name_parts) > 1:\n",
        "    possible_matches.append(name_parts[0])\n",
        "\n",
        "  for name in possible_matches:\n",
        "    text = text.replace(name,'this')\n",
        "  return text"
      ],
      "metadata": {
        "id": "uRDWz2gErzRI"
      },
      "execution_count": null,
      "outputs": []
    },
    {
      "cell_type": "code",
      "source": [
        "def clean_text(text):\n",
        "  text = text.lower()\n",
        "  text = re.sub(r'[^\\w\\s+-]','',text)\n",
        "  return text"
      ],
      "metadata": {
        "id": "Deo6Hcei0RWH"
      },
      "execution_count": null,
      "outputs": []
    },
    {
      "cell_type": "code",
      "source": [
        "for index, row in df.iterrows():\n",
        "  try:\n",
        "    text = row['data'][0]['text']\n",
        "    print(index)\n",
        "    print(replace_card_name(index,text))\n",
        "    print('__________________________________________________________________')\n",
        "  except:\n",
        "    None"
      ],
      "metadata": {
        "id": "AcV0DPJ3sEgG"
      },
      "execution_count": null,
      "outputs": []
    }
  ],
  "metadata": {
    "colab": {
      "name": "Welcome To Colab",
      "provenance": [],
      "include_colab_link": true
    },
    "kernelspec": {
      "display_name": "Python 3",
      "name": "python3"
    }
  },
  "nbformat": 4,
  "nbformat_minor": 0
}
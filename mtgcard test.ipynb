{
  "cells": [
    {
      "cell_type": "markdown",
      "metadata": {
        "id": "view-in-github",
        "colab_type": "text"
      },
      "source": [
        "<a href=\"https://colab.research.google.com/github/aetev/Hearth-Stone-Python-Simulator/blob/main/mtgcard%20test.ipynb\" target=\"_parent\"><img src=\"https://colab.research.google.com/assets/colab-badge.svg\" alt=\"Open In Colab\"/></a>"
      ]
    },
    {
      "cell_type": "code",
      "source": [
        "import requests\n",
        "from bs4 import BeautifulSoup\n",
        "import re\n",
        "\n",
        "def scrape_edhrec_card_data(card_name):\n",
        "  \"\"\"\n",
        "  Scrapes card data from EDHREC for a given card name.\n",
        "\n",
        "  Args:\n",
        "    card_name: The name of the card to search for.\n",
        "\n",
        "  Returns:\n",
        "    A dictionary containing the card's data, or None if the card is not found.\n",
        "  \"\"\"\n",
        "\n",
        "  card_name = card_name.lower()\n",
        "  # Replace spaces with '+' for the URL\n",
        "  url = f\"https://edhrec.com/cards/{card_name.replace(' ', '-').replace(',','')}\"\n",
        "  response = requests.get(url)\n",
        "  if response.status_code != 200:\n",
        "    return None\n",
        "\n",
        "  soup = BeautifulSoup(response.text, \"html.parser\")\n",
        "  card_data = soup.find_all(\"div\", class_=\"d-flex justify-content-center mb-2\")\n",
        "\n",
        "  my_list = []\n",
        "  for div in card_data:\n",
        "    card_name = div.find(class_=lambda x: x and x.startswith(\"Card_name_\"))\n",
        "    card_info = div.find(class_=lambda x: x and x.startswith(\"CardLabel\"))\n",
        "    card_name = card_name.text\n",
        "    card_info = card_info.text\n",
        "    m = re.search('\\n(.+?)%',card_info)\n",
        "\n",
        "    if m:\n",
        "      card_info = int(m.group(1))\n",
        "    else:\n",
        "      card_info = None\n",
        "\n",
        "    if card_info is None or card_name is None:\n",
        "      pass\n",
        "    else:\n",
        "      my_list.append([card_name,card_info])\n",
        "\n",
        "  return my_list\n",
        "\n",
        "# Example usage\n",
        "card_list = scrape_edhrec_card_data(\"Queen Marchesa\")\n",
        "\n",
        "print(card_list)\n",
        "\n"
      ],
      "metadata": {
        "colab": {
          "base_uri": "https://localhost:8080/"
        },
        "id": "eNPlbRFleGgf",
        "outputId": "aca6a7e6-5326-4215-f3f8-18b56b472310"
      },
      "execution_count": 120,
      "outputs": [
        {
          "output_type": "stream",
          "name": "stdout",
          "text": [
            "[['Bleachbone Verge', -3], ['Sunbillow Verge', -2], ['Wastewood Verge', -2], ['Gonti, Night Minister', 0], ['Full Throttle', -1], ['Basim Ibn Ishaq', 65], ['Ezio, Blade of Vengeance', 64], ['Achilles Davenport', 60], ['Ramses, Assassin Lord', 56], ['Eagle Vision', 53], ['Ratonhnhaké꞉ton', 49], ['Lydia Frye', 48], ['Evie Frye', 46], ['Viewpoint Synchronization', 46], ['Mari, the Killing Quill', 45], ['Swords to Plowshares', -12], ['Path to Exile', 3], ['Farseek', 14], ['Bayek of Siwa', 45], ['Aya of Alexandria', 45], ['Edward Kenway', 45], ['Desmond Miles', 45], ['Arno Dorian', 44], [\"Assassin's Trophy\", 15], ['Rooftop Bypass', 42], ['Smothering Tithe', 0], ['Rhystic Study', -8], ['Cyclonic Rift', -10], ['Fierce Guardianship', -5], ['Demonic Tutor', -9], ['Vampiric Tutor', -9], ['Enlightened Tutor', -11], ['The One Ring', -2], ['Olivia, Opulent Outlaw', 37], ['Layla Hassan', 37], ['Thraximundar', 35], ['Etrata, the Silencer', 34], ['Arbaaz Mir', 31], ['Massacre Girl, Known Killer', 31], ['Callidus Assassin', 31], ['Aveline de Grandpré', 28], [\"Altaïr Ibn-La'Ahad\", 26], ['Shao Jun', 26], ['Etrata, Deadly Fugitive', 25], ['Royal Assassin', 24], ['Jacob Frye', 25], ['Unstoppable Slasher', 23], ['Assassin Initiate', 22], ['Vraska, the Silencer', 21], ['Roshan, Hidden Magister', 21], ['Massacre Girl', 19], ['Adéwalé, Breaker of Chains', 19], ['Changeling Outcast', 15], ['The Lord of Pain', 14], ['Vein Ripper', 17], ['Loyal Inventor', 17], ['Shay Cormac', 16], ['Captain Lannery Storm', 15], ['Brotherhood Spy', 17], ['Birds of Paradise', -10], ['Breena, the Demagogue', 14], ['Vihaan, Goldwaker', 14], ['Shaun & Rebecca, Agents', 15], ['Morbid Opportunist', 10], ['Morophon, the Boundless', 2], ['Lotho, Corrupt Shirriff', 2], ['Virtus the Veiled', 14], ['Eivor, Wolf-Kissed', 13], ['Ruthless Lawbringer', 12], ['Kassandra, Eagle Bearer', 12], ['Roaming Throne', 6], ['Realmwalker', 8], [\"Shanid, Sleepers' Scourge\", 9], ['Kelsien, the Plague', 12], ['Isshin, Two Heavens as One', 7], ['Merciless Harlequin', 12], ['Kellogg, Dangerous Mind', 9], [\"Graywater's Fixer\", 11], ['Big Game Hunter', 10], ['Odric, Lunarch Marshal', 9], ['Faeburrow Elder', 0], ['Angelic Sell-Sword', 11], ['Esper Sentinel', -9], ['Desynchronization', 35], ['Counterspell', -15], ['Heroic Intervention', -4], ['Boros Charm', -1], ['Anguished Unmaking', -1], ['Chain Assassination', 21], ['Generous Gift', -5], [\"Teferi's Protection\", -1], ['Mortify', 6], ['Deadly Dispute', 7], ['Terminate', -4], ['Beast Within', -25], ['Chaos Warp', -20], ['Flawless Maneuver', 2], ['Go for the Throat', 4], ['Shoot the Sheriff', 10], ['Dark Ritual', -12], ['Become Anonymous', 10], ['Deflecting Swat', -6], ['Negate', -13], ['Thrill of Possibility', 0], ['Big Score', 0], ['Dead Before Sunrise', 9], [\"An Offer You Can't Refuse\", -12], ['Arcane Denial', -11], ['Despark', -6], ['Demand Answers', 3], [\"Akroma's Will\", -1], ['Crackling Doom', 1], ['Deadly Rollick', -2], ['Great Train Heist', 5], ['Murder', 4], ['Stroke of Midnight', -3], [\"Heliod's Intervention\", 4], ['Escape Detection', 7], ['Wear // Tear', -1], ['Mana Drain', -9], ['Bedevil', -8], ['Split Decision', 6], ['Entomb', -2], ['Rakdos Charm', -9], ['Swan Song', -11], [\"Dawn's Truce\", -3], ['Unexpected Windfall', -1], [\"Dovin's Veto\", -13], ['Worldly Tutor', -9], ['Illusion of Choice', 5], ['Cultivate', -9], ['Overpowering Attack', 27], ['Restart Sequence', 27], ['Ruinous Ultimatum', 8], ['Back in Town', 25], [\"Nature's Lore\", -7], ['Three Visits', -3], [\"Kodama's Reach\", -11], ['Rampant Growth', -15], ['Blasphemous Act', -16], ['Faithless Looting', -1], [\"Urza's Ruinous Blast\", 10], [\"Primevals' Glorious Rebirth\", 9], ['Requisition Raid', 10], ['Painful Truths', 9], ['Auditore Ambush', 11], ['Feed the Swarm', -7], ['Raise the Palisade', 8], ['Kindred Dominance', 7], ['Tempt with Discovery', 6], ['Seize the Spotlight', 8], ['What Must Be Done', 9], ['Buried Alive', 3], ['Damn', -7], [\"Council's Judgment\", 8], ['Farewell', -4], ['Cathartic Reunion', 5], ['Toxic Deluge', -10], [\"Night's Whisper\", -1], ['Reanimate', -9], ['Petty Larceny', 7], ['Vandalblast', -9], ['Plea for Power', 6], ['Skyshroud Claim', -3], ['Distant Melody', 1], ['Mythos of Snapdax', 2], ['Read the Bones', -2], ['Austere Command', -7], ['Brotherhood Regalia', 37], ['Lightning Greaves', 14], ['Assassin Gauntlet', 27], ['Haystack', 24], ['Hidden Blade', 24], ['Swiftfoot Boots', -3], ['The Animus', 23], ['Smoke Bomb', 20], ['Whispersilk Cloak', 14], [\"Commander's Sphere\", 2], ['The Spear of Leonidas', 15], ['Sword of Feast and Famine', 11], ['Excalibur, Sword of Eden', 11], ['Bident of Thassa', 4], ['Idol of Oblivion', 5], [\"Herald's Horn\", 3], [\"Trailblazer's Boots\", 8], ['The Reaver Cleaver', 6], [\"Heroes' Podium\", 8], ['Hookblade', 8], ['Vorpal Sword', 6], ['Quietus Spike', 7], ['Sword of the Animist', 3], ['Mithril Coat', 3], ['Caduceus, Staff of Hermes', 4], ['Phantom Blade', 6], [\"Vanquisher's Banner\", 2], ['Adrestia', 6], ['Blackblade Reforged', 2], ['Glittering Stockpile', 4], ['Skullclamp', -6], ['Sword of Light and Shadow', 5], ['Basilisk Collar', 2], [\"Wayfarer's Bauble\", -4], ['Maskwood Nexus', 3], [\"Hunter's Bow\", 4], ['Cover of Darkness', 28], ['Black Market Connections', 18], ['Propaganda', 16], ['Kindred Discovery', 17], ['Coastal Piracy', 19], ['The Revelations of Ezio', 19], ['Vraska Joins Up', 16], ['Reconnaissance', 12], ['Rhythm of the Wild', -9], ['Bleeding Effect', 13], ['Discreet Retreat', 13], ['Leyline of the Guildpact', -3], ['Rain of Riches', 9], ['Flowering of the White Tree', 6], ['Phyrexian Arena', -5], ['Training Grounds', 7], ['Ghostly Prison', -2], ['Court of Bounty', 8], ['Aqueous Form', 5], ['Double Down', 8], ['At Knifepoint', 7], ['Origin of the Hidden Ones', 8], ['Rising of the Day', 3], ['Life Insurance', 6], ['We Ride at Dawn', 8], ['Annie Joins Up', -5], ['Revel in Riches', 4], [\"Warleader's Call\", -1], ['Shiny Impetus', 5], ['Wilderness Reclamation', 3], ['Anointed Procession', -2], ['Impact Tremors', -3], ['Reconnaissance Mission', 2], ['Shared Animosity', 2], ['Court of Grace', 3], ['Court of Vantress', 4], ['Ballad of the Black Flag', 5], ['Court of Cunning', 4], ['Mystic Remora', -12], ['Curse of Opulence', 1], [\"Mirari's Wake\", -8], ['Vraska the Unseen', 8], ['Dihada, Binder of Wills', 5], ['Sorin Markov', 8], [\"Rogue's Passage\", 17], ['Bojuka Bog', -1], ['Reliquary Tower', -8], ['Urborg, Tomb of Yawgmoth', 10], ['Vault of the Archangel', 8], [\"Shizo, Death's Storehouse\", 13], ['Command Beacon', 7], ['Takenuma, Abandoned Mire', 0], ['Minas Tirith', 2], ['Three Tree City', 3], ['Eiganjo, Seat of the Empire', 0], ['Sunhome, Fortress of the Legion', 4], ['Access Tunnel', 6], ['Temple of the False God', -2], ['Great Hall of the Citadel', 6], ['Mines of Moria', 3], ['Sokenzan, Crucible of Defiance', 2], ['Geier Reach Sanitarium', 3], ['Boseiju, Who Endures', -13], [\"Bonders' Enclave\", 4], ['Cascading Cataracts', 5], ['The Black Gate', 3], ['Mikokoro, Center of the Sea', 3], ['Arcane Signet', 15], ['Sol Ring', 2], ['Chromatic Lantern', 27], ['Fellwar Stone', 12], ['Orzhov Signet', -2], ['Rakdos Signet', -4], ['Talisman of Hierarchy', -3], ['Crystal Skull, Isu Spyglass', 18], ['Talisman of Conviction', -4], ['Talisman of Indulgence', -8], ['Boros Signet', -6], ['Relic of Legends', 11], ['Patchwork Banner', 7], ['Timeless Lotus', -3], ['Bounty Board', 8], ['Talisman of Dominance', -24], [\"Bandit's Haul\", 7], ['Mox Amber', 3], ['Command Tower', 19], ['Exotic Orchard', 27], ['Path of Ancestry', 28], ['Nomad Outpost', 17], ['Brotherhood Headquarters', 42], ['Godless Shrine', -2], ['Overgrown Tomb', -6], ['Blood Crypt', -2], ['Watery Grave', -5], ['Dragonskull Summit', 2], ['Savai Triome', 7], ['Isolated Chapel', 2], ['Smoldering Marsh', -3], ['Sacred Foundry', -6], ['Clifftop Retreat', 0], ['Caves of Koilos', 1], ['Indatha Triome', -1], ['The World Tree', -5], ['Marsh Flats', 16], ['Zagoth Triome', -3], ['Battlefield Forge', 1], ['Bloodstained Mire', 16], [\"Raffine's Tower\", -1], [\"Ziatora's Proving Ground\", -5], [\"Xander's Lounge\", -2], ['Vault of Champions', -2], ['Temple Garden', -17], ['Hallowed Fountain', -17], ['Arid Mesa', 12], ['Luxury Suite', -4], ['Evolving Wilds', 1], ['Breeding Pool', -20], ['Stomping Ground', -20], ['Sulfurous Springs', 0], ['Spectator Seating', -4], ['Arcane Sanctum', -8], ['Temple of Silence', 1], ['Crumbling Necropolis', -13], ['Steam Vents', -20], ['Sandsteppe Citadel', -8], ['Temple of Triumph', 1], ['Opulent Palace', -9], ['Temple of Malice', 3], ['Ketria Triome', -15], ['Abstergo Entertainment', 16], [\"Jetmir's Garden\", -15], ['Unclaimed Territory', 11], ['Terramorphic Expanse', 0], ['Sunken Hollow', -19], [\"Spara's Headquarters\", -15]]\n"
          ]
        }
      ]
    }
  ],
  "metadata": {
    "colab": {
      "name": "Welcome To Colab",
      "provenance": [],
      "include_colab_link": true
    },
    "kernelspec": {
      "display_name": "Python 3",
      "name": "python3"
    }
  },
  "nbformat": 4,
  "nbformat_minor": 0
}
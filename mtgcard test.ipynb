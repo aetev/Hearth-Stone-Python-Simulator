{
  "cells": [
    {
      "cell_type": "markdown",
      "metadata": {
        "id": "view-in-github",
        "colab_type": "text"
      },
      "source": [
        "<a href=\"https://colab.research.google.com/github/aetev/Hearth-Stone-Python-Simulator/blob/main/mtgcard%20test.ipynb\" target=\"_parent\"><img src=\"https://colab.research.google.com/assets/colab-badge.svg\" alt=\"Open In Colab\"/></a>"
      ]
    },
    {
      "cell_type": "code",
      "source": [
        "import requests\n",
        "from bs4 import BeautifulSoup\n",
        "import re\n",
        "\n",
        "def scrape_edhrec_card_data(card_name):\n",
        "  \"\"\"\n",
        "  Scrapes card data from EDHREC for a given card name.\n",
        "\n",
        "  Args:\n",
        "    card_name: The name of the card to search for.\n",
        "\n",
        "  Returns:\n",
        "    A dictionary containing the card's data, or None if the card is not found.\n",
        "  \"\"\"\n",
        "\n",
        "  card_name = card_name.lower()\n",
        "  # Replace spaces with '+' for the URL\n",
        "  url = f\"https://edhrec.com/cards/{card_name.replace(' ', '-').replace(',','')}\"\n",
        "  print(url)\n",
        "  response = requests.get(url)\n",
        "  if response.status_code != 200:\n",
        "    return None\n",
        "\n",
        "  soup = BeautifulSoup(response.text, \"html.parser\")\n",
        "  card_data = soup.find_all(\"div\", class_=\"d-flex justify-content-center mb-2\")\n",
        "\n",
        "  my_list = []\n",
        "  for div in card_data:\n",
        "    card_name = div.find(class_=lambda x: x and x.startswith(\"Card_name_\"))\n",
        "    card_info = div.find(class_=lambda x: x and x.startswith(\"CardLabel\"))\n",
        "\n",
        "    if card_name is None:\n",
        "      pass\n",
        "    else:\n",
        "      card_name = card_name.text\n",
        "\n",
        "    if card_info is None:\n",
        "      pass\n",
        "    else:\n",
        "      card_info = card_info.text\n",
        "      m = re.search('\\n(.+?)%',card_info)\n",
        "      if m:\n",
        "        card_info = float(m.group(1))\n",
        "      else:\n",
        "        card_info = None\n",
        "\n",
        "\n",
        "    my_list.append([card_name,card_info])\n",
        "  return my_list\n",
        "\n",
        "# Example usage\n",
        "card_list = scrape_edhrec_card_data(\"Morska, Undersea Sleuth\")\n",
        "\n",
        "print(card_list)\n",
        "\n"
      ],
      "metadata": {
        "colab": {
          "base_uri": "https://localhost:8080/"
        },
        "id": "eNPlbRFleGgf",
        "outputId": "ba5c7bcd-b0cf-48e2-d88b-65dd4929b22a"
      },
      "execution_count": 104,
      "outputs": [
        {
          "output_type": "stream",
          "name": "stdout",
          "text": [
            "https://edhrec.com/cards/morska-undersea-sleuth\n",
            "[['Sophia, Dogged Detective', None], ['Ms. Bumbleflower', None], ['Chulane, Teller of Tales', None], ['The Third Doctor // Sarah Jane Smith', None], ['Elmar, Ulvenwald Informant // Hargilde, Kindly Runechanter', None], ['Cecily, Haunted Mage // Othelm, Sigardian Outcast', None], ['The Fourth Doctor // Sarah Jane Smith', None], ['Kynaios and Tiro of Meletis', None], ['Mr. Foxglove', None], ['Aragorn, the Uniter', None], ['Omnath, Locus of All', None], ['Galadriel, Light of Valinor', None], ['The Second Doctor // Leela, Sevateem Warrior', None], ['Kydele, Chosen of Kruphix // Tymna the Weaver', None], ['Alistair, the Brigadier', None], ['Helga, Skittish Seer', None], ['Kenrith, the Returned King', None], ['The Seventh Doctor // Ace, Fearless Rebel', None], ['District Mascot', 3.0], ['Willowrush Verge', -0.0], ['Loot, the Pathfinder', 1.0], ['Stridehangar Automaton', 1.0], ['Thopter Fabricator', 1.0], ['Academy Manufactor', 42.0], ['Lonis, Cryptozoologist', 37.0], ['Tireless Tracker', 37.0], ['Reliquary Tower', 32.0], [\"Wernog, Rider's Chaplain\", 31.0], ['Tangletrove Kelp', 30.0], ['Merchant of Truth', 29.0], ['Adrix and Nev, Twincasters', 29.0], ['Erdwal Illuminator', 29.0], ['Inspiring Statuary', 29.0], ['Swords to Plowshares', 4.0], ['Path to Exile', 4.0], ['Farseek', 8.0], ['Cultivate', -6.0], ['Counterspell', -8.0], ['Beast Within', -7.0], ['Ruinous Ultimatum', 12.0], [\"Nature's Lore\", -3.0], ['Generous Gift', 4.0], ['Sophina, Spearsage Deserter', 28.0], ['Smothering Tithe', -4.0], ['Cyclonic Rift', -12.0], ['Rhystic Study', -14.0], ['Demonic Tutor', -10.0], ['Vampiric Tutor', -7.0], ['Urza, Lord High Artificer', 7.0], ['Fierce Guardianship', -10.0], ['Enlightened Tutor', -11.0], ['Eloise, Nephalia Sleuth', 27.0], ['Reckless Fireweaver', 22.0], ['Teysa, Opulent Oligarch', 25.0], ['Jaheira, Friend of the Forest', 21.0], ['Peregrin Took', 20.0], ['Ethereal Investigator', 23.0], ['Tireless Provisioner', 13.0], ['K-9, Mark I', 22.0], ['Birds of Paradise', -4.0], ['Forensic Gadgeteer', 20.0], ['Jolrael, Mwonvuli Recluse', 20.0], ['Malcolm, the Eyes', 20.0], ['Elmar, Ulvenwald Informant', 20.0], ['Inquisitor Greyfax', 19.0], ['Mirkwood Bats', 9.0], ['Detective of the Month', 18.0], ['Bennie Bracks, Zoologist', 16.0], ['Pack Leader', 17.0], ['Mowu, Loyal Companion', 17.0], ['Faeburrow Elder', 6.0], ['Persuasive Interrogators', 17.0], ['Bjorna, Nightfall Alchemist', 17.0], ['Lazav, Wearer of Faces', 16.0], ['Baylen, the Haymaker', 13.0], ['Rosie Cotton of South Lane', 13.0], ['Kappa Cannoneer', 14.0], ['Lavinia, Foil to Conspiracy', 15.0], ['Shimmer Dragon', 14.0], ['Ingenious Artillerist', 14.0], ['Tivit, Seller of Secrets', 14.0], ['Junk Winder', 14.0], ['Noble Hierarch', 0.0], ['Kellan, Inquisitive Prodigy', 14.0], ['Gleaming Geardrake', 15.0], ['Piper Wright, Publick Reporter', 15.0], ['Floodhound', 15.0], ['Spirited Companion', 11.0], ['Martha Jones', 14.0], ['Selfless Savior', 13.0], ['Twenty-Toed Toad', 12.0], ['Ainok Bond-Kin', 13.0], ['Jenny Flint', 14.0], ['Samwise Gamgee', 9.0], ['Loyal Warhound', 11.0], ['Alandra, Sky Dreamer', 12.0], ['Selvala, Explorer Returned', 10.0], ['Crime Novelist', 11.0], ['Whitemane Lion', 12.0], ['Cyberdrive Awakener', 11.0], ['Psychosis Crawler', 10.0], ['Heroic Intervention', -2.0], ['Disorder in the Court', 24.0], ['Officious Interrogation', 23.0], ['Growth Spiral', 1.0], [\"Assassin's Trophy\", -12.0], [\"An Offer You Can't Refuse\", -4.0], ['Arcane Denial', -3.0], ['Peerless Recycling', 14.0], ['Negate', -8.0], ['Void Rend', -0.0], ['Inspiring Call', 5.0], [\"Dovin's Veto\", -6.0], [\"Long River's Pull\", 9.0], [\"Dawn's Truce\", 3.0], [\"Teferi's Protection\", -8.0], ['Brainstorm', -9.0], ['Anguished Unmaking', -13.0], ['Confront the Unknown', 10.0], ['Deduce', 9.0], ['Unite the Coalition', 6.0], ['Chaos Warp', -22.0], ['Stroke of Midnight', -1.0], ['Frantic Search', -3.0], ['Confirm Suspicions', 9.0], ['Perch Protection', 7.0], ['Dispatch', 4.0], ['Opt', -2.0], ['Into the Flood Maw', 5.0], ['Snap', 0.0], ['Reverse the Polarity', 6.0], [\"Nature's Claim\", -2.0], ['Boros Charm', -18.0], ['Rewind', 3.0], ['Pongify', -5.0], ['Swan Song', -10.0], ['Abzan Charm', 1.0], ['Naya Charm', -1.0], ['Worldly Tutor', -8.0], ['Consider', -1.0], ['Deflecting Swat', -11.0], ['Mana Drain', -10.0], ['Three Visits', 3.0], ['Farewell', 14.0], ['Rampant Growth', -10.0], [\"Kodama's Reach\", -10.0], ['Eerie Ultimatum', 8.0], ['Rise and Shine', 17.0], ['Blasphemous Act', -17.0], ['Wear Down', 11.0], [\"In Garruk's Wake\", 10.0], ['Conflux', 9.0], ['Genesis Ultimatum', 7.0], ['Follow the Bodies', 11.0], ['Release the Dogs', 11.0], ['Austere Command', -2.0], ['Cruel Ultimatum', 6.0], ['Time Wipe', 3.0], ['Tempt with Bunnies', 7.0], ['Supreme Verdict', -5.0], ['Tempt with Discovery', 4.0], ['Explore', -2.0], ['They Went This Way', 7.0], ['Promise of Loyalty', 4.0], ['Emergent Ultimatum', 4.0], ['Villainous Wealth', -2.0], ['Fumigate', 3.0], ['Finale of Revelation', 4.0], ['Bala Ged Recovery', -3.0], ['Root Out', 5.0], ['Many Partings', 3.0], ['Inspired Ultimatum', 4.0], ['Approach of the Second Sun', 1.0], [\"Tamiyo's Journal\", 28.0], ['Swiftfoot Boots', -2.0], ['Idol of Oblivion', 16.0], ['Lightning Greaves', -5.0], ['Time Sieve', 15.0], [\"Commander's Sphere\", -3.0], ['Nettlecyst', 10.0], ['Nuka-Cola Vending Machine', 9.0], ['Maskwood Nexus', 6.0], ['Mind Stone', -9.0], ['Thousand Moons Smithy', 4.0], ['Worldwalker Helm', 5.0], ['Transmutation Font', 6.0], ['Ozolith, the Shattered Spire', 1.0], ['Magnifying Glass', 6.0], [\"Detective's Satchel\", 5.0], ['On the Trail', 27.0], ['Ongoing Investigation', 24.0], ['Search the Premises', 23.0], ['Wilderness Reclamation', 19.0], ['Hardened Scales', 12.0], ['Ulvenwald Mysteries', 20.0], [\"Teferi's Ageless Insight\", 15.0], ['Leyline of the Guildpact', 3.0], ['Mechanized Production', 16.0], ['Armed with Proof', 16.0], ['Annie Joins Up', 3.0], ['Thorough Investigation', 15.0], ['Wizard Class', 11.0], ['Heaven Sent', 14.0], ['Doubling Season', 1.0], ['Knowledge Is Power', 9.0], ['Brokers Ascendancy', 3.0], ['Storm the Vault', 7.0], ['Ghirapur Aether Grid', 8.0], ['Ominous Seas', 6.0], ['Maelstrom Nexus', 1.0], ['City of Death', 7.0], [\"Proft's Eidetic Memory\", 7.0], ['Parallel Lives', 1.0], ['Communal Brewing', 7.0], ['Propaganda', -4.0], [\"Innkeeper's Talent\", 2.0], ['Simic Ascendancy', 1.0], ['Ghostly Prison', -5.0], ['Anointed Procession', -2.0], ['Vraska Joins Up', 3.0], ['Improbable Alliance', 6.0], ['Agent of the Iron Throne', 4.0], ['Rites of Flourishing', 4.0], [\"Night of the Sweets' Revenge\", 4.0], ['Felidar Retreat', -1.0], ['Kellan Joins Up', 4.0], ['Branching Evolution', 0.0], ['Monk Class', 5.0], ['Phyrexian Arena', -10.0], ['Tezzeret, Betrayer of Flesh', 14.0], ['Tezzeret, Master of the Bridge', 8.0], ['Tamiyo, Field Researcher', 4.0], ['Oko, Thief of Crowns', 2.0], ['Dihada, Binder of Wills', 3.0], ['Jared Carthalion', 4.0], ['Mordenkainen', 5.0], ['Havengul Laboratory', 24.0], [\"Rogue's Passage\", -4.0], ['The Shire', 8.0], ['Boseiju, Who Endures', -7.0], ['Yavimaya, Cradle of Growth', 1.0], ['Temple of the False God', -0.0], ['Otawara, Soaring City', -7.0], ['Trenzalore Clocktower', 8.0], ['Archway of Innovation', 5.0], ['Animal Sanctuary', 7.0], ['Bojuka Bog', -23.0], ['Great Furnace', 1.0], ['Gavony Township', -3.0], ['Seat of the Synod', 0.0], ['Ancient Den', 1.0], [\"Alchemist's Refuge\", -1.0], ['Rivendell', 1.0], ['Tree of Tales', 3.0], ['Sol Ring', -1.0], ['Arcane Signet', 7.0], ['Thought Vessel', 16.0], ['Five Hundred Year Diary', 24.0], ['Talisman of Progress', -1.0], ['Talisman of Unity', 15.0], ['Talisman of Curiosity', 8.0], ['Fellwar Stone', -2.0], ['Simic Signet', 3.0], ['Chromatic Lantern', 8.0], ['Azorius Signet', -9.0], ['Decanter of Endless Water', 9.0], ['Selesnya Signet', -0.0], ['Sonic Screwdriver', 6.0], ['Izzet Signet', -21.0], ['Timeless Lotus', -6.0], ['Talisman of Creativity', -23.0], ['Gruul Signet', -6.0], ['Boros Signet', -18.0], ['Command Tower', 16.0], ['Exotic Orchard', 29.0], ['Seaside Citadel', 31.0], ['Canopy Vista', 11.0], ['Prairie Stream', 13.0], ['Glacial Fortress', 11.0], ['Path of Ancestry', 15.0], [\"Spara's Headquarters\", 6.0], ['The World Tree', 3.0], ['Hinterland Harbor', 6.0], ['Hallowed Fountain', -6.0], ['Breeding Pool', -7.0], ['Temple Garden', -7.0], ['Stomping Ground', -8.0], ['Overgrown Tomb', -9.0], ['Ketria Triome', 0.0], ['Steam Vents', -7.0], ['Watery Grave', -9.0], ['Zagoth Triome', 1.0], ['Dreamroot Cascade', 10.0], ['Godless Shrine', -11.0], ['Indatha Triome', -2.0], ['Rejuvenating Springs', -1.0], ['Frontier Bivouac', -0.0], ['Temple of Mystery', 10.0], ['Sacred Foundry', -8.0], [\"Jetmir's Garden\", -4.0], [\"Raffine's Tower\", -1.0], ['Sunpetal Grove', 1.0], ['Temple of Enlightenment', 8.0], ['Jungle Shrine', -8.0], ['Temple of Plenty', 11.0], ['Sea of Clouds', -2.0], ['Sungrass Prairie', 12.0], ['Raugrin Triome', -2.0], ['Skycloud Expanse', 11.0], ['Deserted Beach', 8.0], ['Simic Growth Chamber', 4.0], ['Bountiful Promenade', -1.0], ['Mystic Monastery', -4.0], ['Overgrown Farmland', 7.0], [\"Ziatora's Proving Ground\", -8.0], ['Evolving Wilds', 1.0], ['Yavimaya Coast', -5.0], ['Windswept Heath', 11.0], ['Selesnya Sanctuary', 7.0], ['Flooded Strand', 10.0], ['Misty Rainforest', 9.0], ['Azorius Chancery', 5.0], ['Blood Crypt', -18.0]]\n"
          ]
        }
      ]
    }
  ],
  "metadata": {
    "colab": {
      "name": "Welcome To Colab",
      "provenance": [],
      "include_colab_link": true
    },
    "kernelspec": {
      "display_name": "Python 3",
      "name": "python3"
    }
  },
  "nbformat": 4,
  "nbformat_minor": 0
}
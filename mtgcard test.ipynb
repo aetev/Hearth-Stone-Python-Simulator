{
  "cells": [
    {
      "cell_type": "markdown",
      "metadata": {
        "id": "view-in-github",
        "colab_type": "text"
      },
      "source": [
        "<a href=\"https://colab.research.google.com/github/aetev/Hearth-Stone-Python-Simulator/blob/main/mtgcard%20test.ipynb\" target=\"_parent\"><img src=\"https://colab.research.google.com/assets/colab-badge.svg\" alt=\"Open In Colab\"/></a>"
      ]
    },
    {
      "cell_type": "code",
      "source": [
        "import requests\n",
        "from bs4 import BeautifulSoup\n",
        "import re"
      ],
      "metadata": {
        "id": "g6eSTdtuT3IU"
      },
      "execution_count": 130,
      "outputs": []
    },
    {
      "cell_type": "code",
      "source": [
        "def scrape_edhrec_card_data(card_name):\n",
        "  \"\"\"\n",
        "  Scrapes card data from EDHREC for a given card name.\n",
        "\n",
        "  Args:\n",
        "    card_name: The name of the card to search for.\n",
        "\n",
        "  Returns:\n",
        "    A dictionary containing the card's data, or None if the card is not found.\n",
        "  \"\"\"\n",
        "\n",
        "  card_name = card_name.lower()\n",
        "  text = re.sub(r'[^a-zA-Z\\s]', '', card_name) # Remove non-letters and non-spaces\n",
        "  text = text.replace(' ', '-') # Replace spaces with hyphens\n",
        "  # Replace spaces with '+' for the URL\n",
        "  url = f\"https://edhrec.com/cards/{text}\"\n",
        "  response = requests.get(url)\n",
        "  if response.status_code != 200:\n",
        "    return None\n",
        "\n",
        "  soup = BeautifulSoup(response.text, \"html.parser\")\n",
        "  card_data = soup.find_all(\"div\", class_=\"d-flex justify-content-center mb-2\")\n",
        "\n",
        "  my_list = []\n",
        "  for div in card_data:\n",
        "    card_name = div.find(class_=lambda x: x and x.startswith(\"Card_name_\"))\n",
        "    card_info = div.find(class_=lambda x: x and x.startswith(\"CardLabel\"))\n",
        "    card_name = card_name.text\n",
        "    card_info = card_info.text\n",
        "    m = re.search('\\n(.+?)%',card_info)\n",
        "\n",
        "    if m:\n",
        "      card_info = int(m.group(1))\n",
        "    else:\n",
        "      card_info = None\n",
        "\n",
        "    if card_info is None or card_name is None:\n",
        "      pass\n",
        "    else:\n",
        "      my_list.append([card_name,card_info])\n",
        "\n",
        "  return my_list"
      ],
      "metadata": {
        "id": "eNPlbRFleGgf"
      },
      "execution_count": 131,
      "outputs": []
    },
    {
      "cell_type": "code",
      "source": [
        "card_list = scrape_edhrec_card_data(\"Lotho, Corrupt Shirriff\")\n",
        "\n",
        "print(card_list)"
      ],
      "metadata": {
        "id": "2QgMFdzHTzLS",
        "outputId": "68d96f03-1489-4e0d-f1f5-ec99d5f4cdee",
        "colab": {
          "base_uri": "https://localhost:8080/"
        }
      },
      "execution_count": 133,
      "outputs": [
        {
          "output_type": "stream",
          "name": "stdout",
          "text": [
            "[['Bleachbone Verge', 3], ['Rhet-Tomb Mystic', 4], ['Renewed Solidarity', 0], ['Monument to Endurance', 1], ['Sunbillow Verge', -1], ['Birds of Paradise', 50], ['Mystic Remora', 48], ['Noble Hierarch', 46], ['Swan Song', 43], ['Flusterstorm', 42], ['Mental Misstep', 42], ['Delighted Halfling', 41], ['Mindbreak Trap', 38], ['Ragavan, Nimble Pilferer', 37], ['Otawara, Soaring City', 36], ['Swords to Plowshares', 13], ['Ignoble Hierarch', 32], [\"An Offer You Can't Refuse\", 33], ['Esper Sentinel', 31], ['Path to Exile', 1], ['Deathrite Shaman', 33], ['Force of Negation', 35], ['Pact of Negation', 36], ['Demonic Tutor', 22], ['Deflecting Swat', 27], ['Rhystic Study', 42], ['Cyclonic Rift', 28], ['Force of Will', 43], ['Fierce Guardianship', 33], ['Smothering Tithe', 26], [\"Thassa's Oracle\", 41], ['Kinnan, Bonder Prodigy', 36], ['The One Ring', 27], ['Chrome Mox', 25], ['Underworld Breach', 24], ['Bloom Tender', 27], ['Orcish Bowmasters', 26], ['Grand Abolisher', 24], ['Dockside Extortionist', 23], ['Derevi, Empyrial Tactician', 28], ['Kutzil, Malamet Exemplar', 16], ['Faeburrow Elder', 17], ['Professional Face-Breaker', 19], ['Talion, the Kindly Lord', 22], ['Ranger-Captain of Eos', 22], ['Opposition Agent', 19], ['Samwise Gamgee', 21], ['Drannith Magistrate', 19], ['Mockingbird', 21], ['Phyrexian Metamorph', 17], ['Elvish Spirit Guide', 20], ['Peregrin Took', 19], ['Displacer Kitten', 18], ['Simian Spirit Guide', 18], ['Pollywog Prodigy', 18], ['Gilded Goose', 18], ['Tireless Provisioner', 10], ['Archivist of Oghma', 16], ['Mirkwood Bats', 11], ['Farmer Cotton', 17], ['Faerie Mastermind', 14], ['Mayhem Devil', 9], [\"Avacyn's Pilgrim\", 4], ['Dauthi Voidwalker', 11], ['Emiel the Blessed', 15], ['Treebeard, Gracious Host', 16], ['Xorn', 14], ['Valley Floodcaller', 15], ['Phantasmal Image', 13], ['Pippin, Warden of Isengard', 14], ['Elves of Deep Shadow', 6], ['Banquet Guests', 14], ['Elas il-Kor, Sadistic Pilgrim', 6], ['Jegantha, the Wellspring', 10], ['Savvy Hunter', 13], ['Esika, God of the Tree', 9], ['Eternal Witness', -4], ['Meriadoc Brandybuck', 15], ['Merry, Warden of Isengard', 14], ['Kambal, Profiteering Mayor', 9], ['Prize Pig', 14], ['Kellogg, Dangerous Mind', 12], ['Magda, Brazen Outlaw', 13], ['Academy Manufactor', 11], ['Feasting Hobbit', 14], ['Worldly Tutor', 29], ['Vampiric Tutor', 23], ['Mystical Tutor', 24], ['Enlightened Tutor', 21], ['Abrupt Decay', 26], ['Dark Ritual', 13], ['Silence', 25], ['Anguished Unmaking', 7], [\"Assassin's Trophy\", -1], ['Chain of Vapor', 23], ['Mana Drain', 11], [\"Eladamri's Call\", 15], ['Tainted Pact', 19], ['Veil of Summer', 17], ['Borne Upon a Wind', 19], ['Counterspell', -21], ['Red Elemental Blast', 15], [\"Dovin's Veto\", 2], ['Demonic Consultation', 16], ['Chord of Calling', 13], ['Generous Gift', -7], ['Deadly Rollick', 7], [\"Teferi's Protection\", -2], ['Heroic Intervention', -12], ['Pyroblast', 11], ['Intuition', 16], ['Final Fortune', 15], ['Boros Charm', -8], ['Brain Freeze', 13], ['Into the Flood Maw', 12], ['Deadly Dispute', 4], ['Dispel', 9], ['Despark', -1], ['Sink into Stupor', 4], ['Void Rend', -1], ['Strix Serenade', 8], ['Arcane Denial', -7], ['Noxious Revival', 7], ['Crop Rotation', 2], ['Ad Nauseam', 9], ['Beast Within', -26], ['Cabal Ritual', 7], ['Big Score', 2], ['Entomb', 3], ['Brainstorm', -10], ['Mortify', -2], ['Chaos Warp', -22], ['Muddle the Mixture', 4], ['Stroke of Midnight', -1], ['Culling the Weak', 5], ['Farseek', -2], ['Finale of Devastation', 22], ['Eldritch Evolution', 24], ['Gamble', 18], ['Toxic Deluge', 10], ['Neoform', 22], ['Culling Ritual', 14], [\"Sevinne's Reclamation\", 17], ['Cultivate', -22], ['Imperial Seal', 17], ['Damn', 5], ['Diabolic Intent', 12], ['Reanimate', 4], ['Mnemonic Betrayal', 17], ['Windfall', 6], [\"Nature's Lore\", -13], ['Wheel of Fortune', 14], ['Ruinous Ultimatum', 0], ['Rite of Flame', 13], [\"Jeska's Will\", -1], ['Three Visits', -9], ['Revive the Shire', 12], ['Blasphemous Act', -20], ['Many Partings', 9], [\"Night's Whisper\", 2], ['Farewell', -3], ['Rampant Growth', -25], ['Beseech the Mirror', 6], ['Supreme Verdict', -4], ['Faithless Looting', -7], ['Gitaxian Probe', 2], [\"Kodama's Reach\", -24], ['The Battle of Bywater', 5], ['Austere Command', -6], ['Victimize', -5], [\"Green Sun's Zenith\", 1], ['Bring to Light', 5], [\"Praetor's Grasp\", 4], ['Dusk // Dawn', 2], ['Sign in Blood', -4], ['Vandalblast', -10], ['Seize the Spotlight', 4], ['Hell to Pay', 4], ['Reckless Endeavor', 4], ['Harmonize', -3], ['The Ring Goes South', 5], ['Ponder', -7], [\"Primevals' Glorious Rebirth\", 1], ['Blasphemous Edict', -3], ['Lotus Petal', 25], ['Wishclaw Talisman', 19], ['Lightning Greaves', -5], ['Skullclamp', 4], ['Swiftfoot Boots', -13], ['Jeweled Lotus', 10], [\"Bolas's Citadel\", 3], ['Time Sieve', 9], [\"Lion's Eye Diamond\", 10], ['Mind Stone', -6], [\"Ashnod's Altar\", 3], ['The Reaver Cleaver', 6], [\"Commander's Sphere\", -6], ['Idol of Oblivion', 4], [\"Wayfarer's Bauble\", -3], ['Wand of Wonder', 5], ['Aetherflux Reservoir', 3], [\"Sensei's Divining Top\", 1], ['Birthing Pod', 4], ['Well of Lost Dreams', 4], [\"Agatha's Soul Cauldron\", 5], ['Phyrexian Altar', 2], ['Shorikai, Genesis Engine', 3], ['Imposter Mech', 3], ['The Great Henge', -5], ['Black Market Connections', 9], ['Carpet of Flowers', 16], ['Blind Obedience', 11], ['Sylvan Library', 4], ['Animate Dead', 4], ['Rhythm of the Wild', -11], ['Necropotence', 7], ['Phyrexian Arena', -3], ['Sanguine Bond', 5], ['Survival of the Fittest', 9], ['Annie Joins Up', -2], ['Trouble in Pairs', 5], ['Anointed Procession', 1], [\"Night of the Sweets' Revenge\", 8], ['Leyline of the Guildpact', -6], ['Rain of Riches', 7], ['Touch the Spirit Realm', 7], ['Ghostly Prison', -3], ['Dress Down', 7], ['Call of the Ring', 5], ['Food Chain', 7], ['Propaganda', -4], ['Barbarian Class', 7], ['Authority of the Consuls', 3], ['Vraska Joins Up', 4], ['The Meathook Massacre', 2], ['Exquisite Blood', 1], ['Revel in Riches', 3], [\"Alchemist's Talent\", 5], ['Monologue Tax', 4], ['Necromancy', 3], ['Wild Growth', -4], ['Spiteful Banditry', 4], ['Oath of Teferi', 3], ['Trail of Crumbs', 5], ['Flowering of the White Tree', 1], ['Training Grounds', 3], ['Descent into Avernus', 3], ['Assemble the Entmoot', 5], ['Parallel Lives', -1], [\"Caretaker's Talent\", 0], ['Land Tax', -1], ['Bastion of Remembrance', -1], ['Bitterblossom', 1], ['Widespread Thieving', 3], ['Rakdos Joins Up', 3], [\"Mirari's Wake\", -8], ['Invasion of Ikoria', 7], ['Teferi, Time Raveler', 24], ['Nicol Bolas, Dragon-God', 10], ['Oko, Thief of Crowns', 8], ['Tyvar, Jubilant Brawler', 9], ['Saheeli Rai', 12], ['Dihada, Binder of Wills', 7], ['Aminatou, the Fateshifter', 4], ['Comet, Stellar Pup', 5], ['Boseiju, Who Endures', 31], ['Ancient Tomb', 23], [\"Gaea's Cradle\", 21], ['Bojuka Bog', -6], ['The Shire', 17], ['Reliquary Tower', -12], ['Urborg, Tomb of Yawgmoth', 8], [\"Urza's Saga\", 7], ['Takenuma, Abandoned Mire', 3], [\"Rogue's Passage\", -8], ['Vault of the Archangel', 1], ['Eiganjo, Seat of the Empire', 3], ['Mines of Moria', 7], [\"Minamo, School at Water's Edge\", 6], ['Phyrexian Tower', 2], ['Minas Tirith', 2], ['Shifting Woodland', 2], [\"Shizo, Death's Storehouse\", 1], ['Cabal Coffers', -5], ['Sokenzan, Crucible of Defiance', 1], ['Sol Ring', 8], ['Arcane Signet', 17], ['Talisman of Dominance', 14], ['Fellwar Stone', 23], ['Talisman of Hierarchy', 14], ['Talisman of Progress', 15], ['Orzhov Signet', 0], ['Mana Vault', 20], ['Talisman of Indulgence', -1], ['Mox Diamond', 21], ['Talisman of Conviction', -1], ['Mox Opal', 17], ['Mana Crypt', 12], ['Mox Amber', 14], ['Rakdos Signet', -14], ['Dimir Signet', -15], ['Azorius Signet', -12], ['Boros Signet', -11], ['Chromatic Lantern', 1], ['Talisman of Curiosity', -3], ['Thought Vessel', -7], ['Relic of Legends', 7], ['Talisman of Creativity', -20], ['Grim Monolith', 7], ['Timeless Lotus', -6], ['Talisman of Resilience', -6], ['Command Tower', 21], ['Watery Grave', 23], ['Hallowed Fountain', 21], ['Exotic Orchard', 23], ['Marsh Flats', 46], ['Godless Shrine', 17], ['Tropical Island', 40], ['Volcanic Island', 39], ['Tundra', 35], ['Underground Sea', 35], ['Breeding Pool', 8], ['Taiga', 34], ['Blood Crypt', 8], ['Overgrown Tomb', 4], ['Sacred Foundry', 7], ['Temple Garden', 2], ['Bayou', 28], ['Savannah', 28], ['Polluted Delta', 29], ['Flooded Strand', 29], ['Vault of Champions', 14], ['Morphic Pool', 13], ['Plateau', 25], ['Isolated Chapel', 8], ['Verdant Catacombs', 26], ['Caves of Koilos', 8], ['Bloodstained Mire', 26], ['City of Brass', 29], ['Sea of Clouds', 10], ['Arid Mesa', 26], ['Badlands', 22], ['Stomping Ground', -5], ['Steam Vents', -4], ['Windswept Heath', 24], ['Mana Confluence', 27], ['Scrubland', 20], ['Scalding Tarn', 19], ['Misty Rainforest', 17], ['Gemstone Caverns', 23], ['Luxury Suite', 0], ['Spectator Seating', 1], ['Savai Triome', -2], ['Nomad Outpost', -3], [\"Raffine's Tower\", -3], ['Dragonskull Summit', -8], ['Battlefield Forge', -3], ['Woodland Cemetery', -6], ['Brushland', 5], ['Sunpetal Grove', -2], ['Clifftop Retreat', -9]]\n"
          ]
        }
      ]
    }
  ],
  "metadata": {
    "colab": {
      "name": "Welcome To Colab",
      "provenance": [],
      "include_colab_link": true
    },
    "kernelspec": {
      "display_name": "Python 3",
      "name": "python3"
    }
  },
  "nbformat": 4,
  "nbformat_minor": 0
}
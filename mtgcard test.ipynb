{
  "cells": [
    {
      "cell_type": "markdown",
      "metadata": {
        "id": "view-in-github",
        "colab_type": "text"
      },
      "source": [
        "<a href=\"https://colab.research.google.com/github/aetev/Hearth-Stone-Python-Simulator/blob/main/mtgcard%20test.ipynb\" target=\"_parent\"><img src=\"https://colab.research.google.com/assets/colab-badge.svg\" alt=\"Open In Colab\"/></a>"
      ]
    },
    {
      "cell_type": "code",
      "source": [
        "import requests\n",
        "from bs4 import BeautifulSoup\n",
        "import re\n",
        "\n",
        "def scrape_edhrec_card_data(card_name):\n",
        "  \"\"\"\n",
        "  Scrapes card data from EDHREC for a given card name.\n",
        "\n",
        "  Args:\n",
        "    card_name: The name of the card to search for.\n",
        "\n",
        "  Returns:\n",
        "    A dictionary containing the card's data, or None if the card is not found.\n",
        "  \"\"\"\n",
        "\n",
        "  card_name = card_name.lower()\n",
        "  # Replace spaces with '+' for the URL\n",
        "  url = f\"https://edhrec.com/cards/{card_name.replace(' ', '-').replace(',','')}\"\n",
        "  response = requests.get(url)\n",
        "  if response.status_code != 200:\n",
        "    return None\n",
        "\n",
        "  soup = BeautifulSoup(response.text, \"html.parser\")\n",
        "  card_data = soup.find_all(\"div\", class_=\"d-flex justify-content-center mb-2\")\n",
        "\n",
        "  my_list = []\n",
        "  for div in card_data:\n",
        "    card_name = div.find(class_=lambda x: x and x.startswith(\"Card_name_\"))\n",
        "    card_info = div.find(class_=lambda x: x and x.startswith(\"CardLabel\"))\n",
        "    card_name = card_name.text\n",
        "    card_info = card_info.text\n",
        "    m = re.search('\\n(.+?)%',card_info)\n",
        "\n",
        "    if m:\n",
        "      card_info = int(m.group(1))\n",
        "    else:\n",
        "      card_info = None\n",
        "\n",
        "    if card_info is None or card_name is None:\n",
        "      pass\n",
        "    else:\n",
        "      my_list.append([card_name,card_info])\n",
        "\n",
        "  return my_list\n",
        "\n",
        "# Example usage\n",
        "card_list = scrape_edhrec_card_data(\"Lightning Greaves\")\n",
        "\n",
        "print(card_list)\n",
        "\n"
      ],
      "metadata": {
        "colab": {
          "base_uri": "https://localhost:8080/"
        },
        "id": "eNPlbRFleGgf",
        "outputId": "d3699886-9280-4fc9-c7ba-5372a457c34a"
      },
      "execution_count": 121,
      "outputs": [
        {
          "output_type": "stream",
          "name": "stdout",
          "text": [
            "[['Pia Nalaar, Chief Mechanic', 5], ['Bleachbone Verge', 1], ['Riverpyre Verge', 1], ['Sunbillow Verge', 1], ['Willowrush Verge', 1], ['Swiftfoot Boots', 21], ['Heroic Intervention', 18], [\"Assassin's Trophy\", 11], [\"Teferi's Protection\", 11], ['Beast Within', 11], ['Path to Exile', 11], ['Swords to Plowshares', 11], ['Boros Charm', 10], ['Rhythm of the Wild', 10], ['Blasphemous Act', 10], ['Counterspell', 10], ['Cultivate', 5], ['Farseek', 8], [\"Nature's Lore\", 9], ['Chaos Warp', 9], ['Rampant Growth', 2], [\"Kodama's Reach\", 5], ['Ignoble Hierarch', 9], ['Birds of Paradise', 7], ['Three Visits', 10], ['Cyclonic Rift', 9], ['Smothering Tithe', 10], ['Rhystic Study', 6], ['Demonic Tutor', 4], [\"Jeska's Will\", 7], ['Fierce Guardianship', 4], ['Enlightened Tutor', 2], ['Vampiric Tutor', 2], ['Ancient Tomb', 2], [\"Bolas's Citadel\", 2], ['Esper Sentinel', 6], ['Eternal Witness', 5], ['Llanowar Elves', 3], ['Sakura-Tribe Elder', 4], ['Elvish Mystic', 3], ['Morophon, the Boundless', 7], ['Noble Hierarch', 2], ['Baleful Strix', 5], ['Solemn Simulacrum', 4], ['Kutzil, Malamet Exemplar', 1], ['Beast Whisperer', 3], ['Goblin Anarchomancer', 1], ['Tiamat', 8], ['Fyndhorn Elves', 2], ['Aurelia, the Warleader', 7], ['Delighted Halfling', 3], ['Ramos, Dragon Engine', 6], [\"Avacyn's Pilgrim\", -1], ['Blood Artist', 1], ['Reclamation Sage', 3], ['Two-Headed Hellkite', 5], ['Tireless Provisioner', 1], ['Faeburrow Elder', 1], ['Zacama, Primal Calamity', 3], ['Gisela, Blade of Goldnight', 6], ['Isshin, Two Heavens as One', 7], ['Lotho, Corrupt Shirriff', -1], ['Tatyova, Benthic Druid', -1], ['Professional Face-Breaker', 3], ['Mayhem Devil', 1], ['Etali, Primal Conqueror', 1], ['Gray Merchant of Asphodel', 2], ['Deathrite Shaman', -1], ['Seedborn Muse', 3], ['Dockside Extortionist', 1], ['Mother of Runes', 5], ['Sun Titan', 1], ['Scute Swarm', 1], ['Mirkwood Bats', 0], ['Roaming Throne', 3], ['Mondrak, Glory Dominus', 3], ['Scion of the Ur-Dragon', 6], ['Avenger of Zendikar', 1], ['Syr Konrad, the Grim', 1], ['Etali, Primal Storm', 1], ['Miirym, Sentinel Wyrm', 4], ['Elves of Deep Shadow', 0], ['Elas il-Kor, Sadistic Pilgrim', 0], ['Grand Abolisher', 1], ['Maelstrom Wanderer', 3], ['Anguished Unmaking', 9], ['Generous Gift', 5], ['Terminate', 6], ['Dark Ritual', 4], ['Arcane Denial', 5], ['Negate', 2], [\"An Offer You Can't Refuse\", 3], [\"Dovin's Veto\", 5], ['Brainstorm', 3], ['Growth Spiral', 1], ['Deflecting Swat', 6], ['Mana Drain', 4], ['Void Rend', 5], ['Swan Song', 3], ['Rakdos Charm', 4], ['Bedevil', 4], ['Flawless Maneuver', 7], ['Worldly Tutor', 3], ['Despark', 1], ['Putrefy', 0], [\"Akroma's Will\", 6], ['Pongify', 4], ['Deadly Rollick', 4], ['Return of the Wildspeaker', 2], ['Mystical Tutor', 0], ['Frantic Search', 1], ['Stroke of Midnight', 3], ['Withering Torment', 4], ['Deadly Dispute', 1], [\"Eladamri's Call\", 1], [\"Dawn's Truce\", 3], ['Abrade', 0], ['Rapid Hybridization', 2], ['Malakir Rebirth', 3], ['Mortify', -1], ['Thrill of Possibility', 1], ['Lightning Bolt', 0], ['Revitalizing Repast', 2], [\"Nature's Claim\", 2], ['Big Score', 1], ['Infernal Grasp', 3], ['Untimely Malfunction', 3], ['Fell the Profane', 2], ['Sink into Stupor', 1], ['Crackling Doom', 2], ['Reality Shift', 1], ['Abrupt Decay', -1], ['Crop Rotation', 0], ['Force of Will', -2], ['Opt', -1], ['Ruinous Ultimatum', 10], ['Feed the Swarm', 7], ['Toxic Deluge', 6], ['Vandalblast', 7], ['Damn', 5], ['Reanimate', 4], ['Farewell', 6], ['Faithless Looting', 2], ['Supreme Verdict', 2], ['Windfall', 2], ['Ponder', 3], ['Eerie Ultimatum', 3], ['Austere Command', 1], ['Sign in Blood', 3], [\"Rishkar's Expertise\", 2], ['Villainous Wealth', 4], ['Preordain', 1], [\"Night's Whisper\", 3], ['Victimize', 0], ['Blasphemous Edict', 3], ['Damnation', 3], ['Skyshroud Claim', 2], ['Bala Ged Recovery', 2], ['Gamble', 0], ['Shamanic Revelation', 0], ['Culling Ritual', -2], ['Finale of Devastation', 1], ['Read the Bones', 1], ['Decimate', 0], ['Mana Geyser', 2], ['Wrath of God', 2], ['Exsanguinate', 2], ['Overwhelming Stampede', 2], ['Harmonize', -1], ['Explore', -2], ['Fabricate', 2], ['Diabolic Intent', -1], ['Vindicate', 1], ['Buried Alive', 2], [\"Green Sun's Zenith\", 1], ['Torment of Hailfire', 2], ['Diabolic Tutor', 0], ['Open the Armory', 1], ['Genesis Ultimatum', 1], ['Last March of the Ents', 2], ['Expressive Iteration', -1], [\"Sevinne's Reclamation\", -1], ['Time Wipe', -1], ['Stump Stomp', 0], [\"Chandra's Ignition\", 1], ['Mind Stone', 3], ['The Great Henge', 5], ['Skullclamp', 3], ['Fist of Suns', 6], [\"Commander's Sphere\", -2], [\"Wayfarer's Bauble\", 1], [\"Ashnod's Altar\", 1], ['The One Ring', 1], ['Mithril Coat', 4], ['Whispersilk Cloak', 4], ['Bident of Thassa', 1], [\"Herald's Horn\", 1], [\"Sensei's Divining Top\", 2], ['Sword of the Animist', 3], ['The Reaver Cleaver', 2], ['Conduit of Worlds', 0], ['Sunforger', 1], ['Shadowspear', 2], [\"Archaeomancer's Map\", 2], ['Ozolith, the Shattered Spire', 0], ['Lotus Petal', -1], ['Jeweled Lotus', 1], ['Whip of Erebos', 2], ['Basilisk Collar', 1], ['Temur Ascendancy', 10], ['Phyrexian Arena', 6], [\"Garruk's Uprising\", 4], ['Leyline of the Guildpact', 3], ['Annie Joins Up', 6], ['Mystic Remora', 1], [\"Mirari's Wake\", 4], ['Black Market Connections', 5], ['Propaganda', 3], ['Sylvan Library', 3], ['Ghostly Prison', 1], ['Aura Shards', 4], ['Guardian Project', 4], ['Whirlwind of Thought', 2], ['Doubling Season', 2], ['Anointed Procession', 3], ['Animate Dead', 2], ['Impact Tremors', 1], ['Land Tax', 4], ['Parallel Lives', 3], [\"Warleader's Call\", 2], ['Exploration', 1], ['Wild Growth', -2], ['Tribute to the World Tree', 2], ['Hardened Scales', 0], ['Kindred Discovery', 1], ['Moldervine Reclamation', 0], ['Maelstrom Nexus', 1], ['Goblin Bombardment', 2], ['Rising of the Day', 3], ['Leyline of Mutation', 2], ['Elemental Bond', 2], ['Beastmaster Ascension', 2], ['Unnatural Growth', 1], ['Growing Rites of Itlimoc', 1], ['Blind Obedience', 0], ['Utopia Sprawl', -1], [\"Cathars' Crusade\", 1], ['Jeskai Ascendancy', 1], ['Brokers Ascendancy', 0], ['Exquisite Blood', 1], ['Flowering of the White Tree', 2], [\"Caretaker's Talent\", 1], ['Darksteel Mutation', 0], ['The Meathook Massacre', 1], [\"Kenrith's Transformation\", 0], ['Felidar Retreat', -1], ['Trouble in Pairs', 1], ['Bastion of Remembrance', 0], ['Sanguine Bond', 0], ['Oko, Thief of Crowns', 1], ['Dihada, Binder of Wills', 1], ['Tyvar, Jubilant Brawler', 1], ['Reliquary Tower', 7], ['Bojuka Bog', 7], [\"Rogue's Passage\", 6], ['Boseiju, Who Endures', 4], ['Kessig Wolf Run', 4], ['Otawara, Soaring City', 1], ['Cabal Coffers', 5], ['Vault of the Archangel', 3], ['Urborg, Tomb of Yawgmoth', 4], ['Mystic Sanctuary', 1], ['Takenuma, Abandoned Mire', 2], ['Mosswort Bridge', 1], ['Minas Tirith', 3], ['Temple of the False God', 1], ['Yavimaya, Cradle of Growth', 2], ['Eiganjo, Seat of the Empire', 2], ['Gavony Township', 1], ['Arena of Glory', 4], ['War Room', 4], ['Phyrexian Tower', 1], [\"Urza's Saga\", 2], ['Nykthos, Shrine to Nyx', 3], ['Shifting Woodland', 1], [\"Slayers' Stronghold\", 2], [\"Alchemist's Refuge\", 1], ['Command Beacon', 3], [\"Shizo, Death's Storehouse\", 3], ['Seat of the Synod', 1], ['Academy Ruins', 2], ['Three Tree City', 1], ['Castle Garenbrig', 2], ['Great Furnace', 1], ['Buried Ruin', 2], ['Castle Locthwain', 1], ['Sunhome, Fortress of the Legion', 1], [\"Hall of Heliod's Generosity\", -1], ['Ancient Den', 1], ['Spinerock Knoll', 1], [\"Gaea's Cradle\", 0], ['Rivendell', 1], ['Emeria, the Sky Ruin', 2], [\"Inventors' Fair\", 2], ['Cabal Stronghold', 2], ['Sokenzan, Crucible of Defiance', 1], [\"Minamo, School at Water's Edge\", 1], ['Dryad Arbor', 1], ['Castle Ardenvale', 0], ['Sol Ring', 7], ['Arcane Signet', 6], ['Rakdos Signet', 9], ['Talisman of Indulgence', 11], ['Talisman of Dominance', 6], ['Talisman of Creativity', 8], ['Dimir Signet', 6], ['Izzet Signet', 4], ['Orzhov Signet', 5], ['Talisman of Conviction', 8], ['Talisman of Hierarchy', 6], ['Talisman of Progress', 5], ['Boros Signet', 5], ['Azorius Signet', 1], ['Fellwar Stone', 2], ['Thought Vessel', 6], ['Timeless Lotus', 5], ['Simic Signet', 0], ['Talisman of Curiosity', 1], ['Talisman of Resilience', 2], ['Gruul Signet', 2], ['Golgari Signet', 1], ['Talisman of Impulse', 2], ['Relic of Sauron', 3], ['Selesnya Signet', 2], ['Chromatic Lantern', 1], ['Talisman of Unity', 1], ['Mana Crypt', 1], ['Thran Dynamo', 2], ['Cursed Mirror', 1], ['Mana Vault', -1], ['Everflowing Chalice', 1], ['Patchwork Banner', 0], ['Midnight Clock', 0], ['Command Tower', 0], ['Overgrown Tomb', 11], ['Stomping Ground', 12], ['Godless Shrine', 11], ['Temple Garden', 11], ['Breeding Pool', 10], ['Hallowed Fountain', 9], ['Watery Grave', 9], ['Blood Crypt', 11], ['Steam Vents', 10], ['Sacred Foundry', 11], ['Dragonskull Summit', 13], ['Cinder Glade', 4], ['Ketria Triome', 10], [\"Jetmir's Garden\", 9], ['Sulfur Falls', 9], [\"Ziatora's Proving Ground\", 10], ['Zagoth Triome', 10], ['Sunken Hollow', 5], ['Rejuvenating Springs', 11], ['Clifftop Retreat', 9], ['Smoldering Marsh', 6], ['Crumbling Necropolis', 7], [\"Xander's Lounge\", 12], ['The World Tree', 5], ['Indatha Triome', 8], ['Training Center', 11], [\"Spara's Headquarters\", 7], ['Savai Triome', 10], ['Isolated Chapel', 8], ['Luxury Suite', 10], ['Canopy Vista', 0], ['Hinterland Harbor', 8], ['Drowned Catacomb', 10], ['Exotic Orchard', 0], ['Woodland Cemetery', 7], ['Spectator Seating', 10], ['Undergrowth Stadium', 9], ['Vault of Champions', 9], ['Prairie Stream', 1], ['Glacial Fortress', 8], [\"Raffine's Tower\", 8], ['Nomad Outpost', 6], ['Morphic Pool', 8], ['Jungle Shrine', 1], ['Sea of Clouds', 7], ['Caves of Koilos', 4], ['Spire Garden', 9], ['Rootbound Crag', 8], ['Raugrin Triome', 6]]\n"
          ]
        }
      ]
    }
  ],
  "metadata": {
    "colab": {
      "name": "Welcome To Colab",
      "provenance": [],
      "include_colab_link": true
    },
    "kernelspec": {
      "display_name": "Python 3",
      "name": "python3"
    }
  },
  "nbformat": 4,
  "nbformat_minor": 0
}
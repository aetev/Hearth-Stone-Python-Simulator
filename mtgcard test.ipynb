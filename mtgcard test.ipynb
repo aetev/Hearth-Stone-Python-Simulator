{
  "cells": [
    {
      "cell_type": "markdown",
      "metadata": {
        "id": "view-in-github",
        "colab_type": "text"
      },
      "source": [
        "<a href=\"https://colab.research.google.com/github/aetev/Hearth-Stone-Python-Simulator/blob/main/mtgcard%20test.ipynb\" target=\"_parent\"><img src=\"https://colab.research.google.com/assets/colab-badge.svg\" alt=\"Open In Colab\"/></a>"
      ]
    },
    {
      "cell_type": "code",
      "source": [
        "# prompt: if i use soup.find_all(\"span\", class_=\"\") how can i make the class find all classes with \"Card_name...\" in the first text\n",
        "\n",
        "import requests\n",
        "from bs4 import BeautifulSoup\n",
        "\n",
        "\n",
        "def scrape_edhrec_card_data(card_name):\n",
        "  \"\"\"\n",
        "  Scrapes card data from EDHREC for a given card name.\n",
        "\n",
        "  Args:\n",
        "    card_name: The name of the card to search for.\n",
        "\n",
        "  Returns:\n",
        "    A dictionary containing the card's data, or None if the card is not found.\n",
        "  \"\"\"\n",
        "\n",
        "  card_name = card_name.lower()\n",
        "  # Replace spaces with '+' for the URL\n",
        "  url = f\"https://edhrec.com/cards/{card_name.replace(' ', '-')}\"\n",
        "\n",
        "  response = requests.get(url)\n",
        "  if response.status_code != 200:\n",
        "    return None\n",
        "\n",
        "  soup = BeautifulSoup(response.text, \"html.parser\")\n",
        "  card_data = soup.find_all(\"div\", class_=\"d-flex justify-content-center mb-2\")\n",
        "\n",
        "  my_list = []\n",
        "  for div in card_data:\n",
        "    card_name = div.find(class_=lambda x: x and x.startswith(\"Card_name_\"))\n",
        "    card_data = div.find(class_=lambda x: x and x.startswith(\"CardLable\"))\n",
        "    my_list.append([card_name.text, card_data.text])\n",
        "  return my_list\n",
        "\n",
        "\n",
        "# Example usage\n",
        "card_list = scrape_edhrec_card_data(\"Sol Ring\")\n",
        "\n",
        "print(card_list)\n",
        "\n"
      ],
      "metadata": {
        "colab": {
          "base_uri": "https://localhost:8080/",
          "height": 332
        },
        "id": "eNPlbRFleGgf",
        "outputId": "793a86e5-4334-444e-f597-4fd1db9c0aa7"
      },
      "execution_count": 77,
      "outputs": [
        {
          "output_type": "error",
          "ename": "AttributeError",
          "evalue": "'NoneType' object has no attribute 'text'",
          "traceback": [
            "\u001b[0;31m---------------------------------------------------------------------------\u001b[0m",
            "\u001b[0;31mAttributeError\u001b[0m                            Traceback (most recent call last)",
            "\u001b[0;32m<ipython-input-77-6a62e82c702b>\u001b[0m in \u001b[0;36m<cell line: 0>\u001b[0;34m()\u001b[0m\n\u001b[1;32m     36\u001b[0m \u001b[0;34m\u001b[0m\u001b[0m\n\u001b[1;32m     37\u001b[0m \u001b[0;31m# Example usage\u001b[0m\u001b[0;34m\u001b[0m\u001b[0;34m\u001b[0m\u001b[0m\n\u001b[0;32m---> 38\u001b[0;31m \u001b[0mcard_list\u001b[0m \u001b[0;34m=\u001b[0m \u001b[0mscrape_edhrec_card_data\u001b[0m\u001b[0;34m(\u001b[0m\u001b[0;34m\"Sol Ring\"\u001b[0m\u001b[0;34m)\u001b[0m\u001b[0;34m\u001b[0m\u001b[0;34m\u001b[0m\u001b[0m\n\u001b[0m\u001b[1;32m     39\u001b[0m \u001b[0;34m\u001b[0m\u001b[0m\n\u001b[1;32m     40\u001b[0m \u001b[0mprint\u001b[0m\u001b[0;34m(\u001b[0m\u001b[0mcard_list\u001b[0m\u001b[0;34m)\u001b[0m\u001b[0;34m\u001b[0m\u001b[0;34m\u001b[0m\u001b[0m\n",
            "\u001b[0;32m<ipython-input-77-6a62e82c702b>\u001b[0m in \u001b[0;36mscrape_edhrec_card_data\u001b[0;34m(card_name)\u001b[0m\n\u001b[1;32m     31\u001b[0m     \u001b[0mcard_name\u001b[0m \u001b[0;34m=\u001b[0m \u001b[0mdiv\u001b[0m\u001b[0;34m.\u001b[0m\u001b[0mfind\u001b[0m\u001b[0;34m(\u001b[0m\u001b[0mclass_\u001b[0m\u001b[0;34m=\u001b[0m\u001b[0;32mlambda\u001b[0m \u001b[0mx\u001b[0m\u001b[0;34m:\u001b[0m \u001b[0mx\u001b[0m \u001b[0;32mand\u001b[0m \u001b[0mx\u001b[0m\u001b[0;34m.\u001b[0m\u001b[0mstartswith\u001b[0m\u001b[0;34m(\u001b[0m\u001b[0;34m\"Card_name_\"\u001b[0m\u001b[0;34m)\u001b[0m\u001b[0;34m)\u001b[0m\u001b[0;34m\u001b[0m\u001b[0;34m\u001b[0m\u001b[0m\n\u001b[1;32m     32\u001b[0m     \u001b[0mcard_data\u001b[0m \u001b[0;34m=\u001b[0m \u001b[0mdiv\u001b[0m\u001b[0;34m.\u001b[0m\u001b[0mfind\u001b[0m\u001b[0;34m(\u001b[0m\u001b[0mclass_\u001b[0m\u001b[0;34m=\u001b[0m\u001b[0;32mlambda\u001b[0m \u001b[0mx\u001b[0m\u001b[0;34m:\u001b[0m \u001b[0mx\u001b[0m \u001b[0;32mand\u001b[0m \u001b[0mx\u001b[0m\u001b[0;34m.\u001b[0m\u001b[0mstartswith\u001b[0m\u001b[0;34m(\u001b[0m\u001b[0;34m\"CardLable\"\u001b[0m\u001b[0;34m)\u001b[0m\u001b[0;34m)\u001b[0m\u001b[0;34m\u001b[0m\u001b[0;34m\u001b[0m\u001b[0m\n\u001b[0;32m---> 33\u001b[0;31m     \u001b[0mmy_list\u001b[0m\u001b[0;34m.\u001b[0m\u001b[0mappend\u001b[0m\u001b[0;34m(\u001b[0m\u001b[0;34m[\u001b[0m\u001b[0mcard_name\u001b[0m\u001b[0;34m.\u001b[0m\u001b[0mtext\u001b[0m\u001b[0;34m,\u001b[0m \u001b[0mcard_data\u001b[0m\u001b[0;34m.\u001b[0m\u001b[0mtext\u001b[0m\u001b[0;34m]\u001b[0m\u001b[0;34m)\u001b[0m\u001b[0;34m\u001b[0m\u001b[0;34m\u001b[0m\u001b[0m\n\u001b[0m\u001b[1;32m     34\u001b[0m   \u001b[0;32mreturn\u001b[0m \u001b[0mmy_list\u001b[0m\u001b[0;34m\u001b[0m\u001b[0;34m\u001b[0m\u001b[0m\n\u001b[1;32m     35\u001b[0m \u001b[0;34m\u001b[0m\u001b[0m\n",
            "\u001b[0;31mAttributeError\u001b[0m: 'NoneType' object has no attribute 'text'"
          ]
        }
      ]
    },
    {
      "cell_type": "code",
      "source": [
        "# prompt: once i use soup.find_all how can i further refine whats in those div containers\n",
        "\n",
        "import requests\n",
        "from bs4 import BeautifulSoup\n",
        "\n",
        "def scrape_edhrec_card_data(card_name):\n",
        "  \"\"\"\n",
        "  Scrapes card data from EDHREC for a given card name.\n",
        "\n",
        "  Args:\n",
        "    card_name: The name of the card to search for.\n",
        "\n",
        "  Returns:\n",
        "    A dictionary containing the card's data, or None if the card is not found.\n",
        "  \"\"\"\n",
        "\n",
        "  card_name = card_name.lower()\n",
        "  # Replace spaces with '+' for the URL\n",
        "  url = f\"https://edhrec.com/cards/{card_name.replace(' ', '-')}\"\n",
        "\n",
        "  response = requests.get(url)\n",
        "  if response.status_code != 200:\n",
        "    return None\n",
        "\n",
        "  soup = BeautifulSoup(response.text, \"html.parser\")\n",
        "\n",
        "  # Find the main container for the card details (adjust the selector if needed)\n",
        "  card_details_container = soup.find(\"div\", class_=\"card-details\") # Example selector, adjust as necessary\n",
        "\n",
        "  if card_details_container:\n",
        "    # Now refine within the container\n",
        "    card_name_element = card_details_container.find(\"h1\", class_=\"card-title\") # Example selector\n",
        "    if card_name_element:\n",
        "      card_name = card_name_element.text.strip()\n",
        "\n",
        "    # Example: Find all the \"CardLable\" elements within the container\n",
        "    card_data_elements = card_details_container.find_all(class_=lambda x: x and x.startswith(\"CardLable\"))\n",
        "\n",
        "    # Process each data element further\n",
        "    card_data = {}\n",
        "    for element in card_data_elements:\n",
        "      # Extract label and value (adjust selectors and logic as per the website's structure)\n",
        "      label = element.find(\"span\", class_=\"label\").text.strip() # Example\n",
        "      value = element.find(\"span\", class_=\"value\").text.strip() # Example\n",
        "\n",
        "      card_data[label] = value\n",
        "\n",
        "    return card_name, card_data  # Return card name and the refined data\n",
        "  else:\n",
        "    return None, None\n",
        "\n",
        "\n",
        "# Example usage\n",
        "card_name, card_data = scrape_edhrec_card_data(\"Sol Ring\")\n",
        "\n",
        "if card_data:\n",
        "    print(f\"Card Name: {card_name}\")\n",
        "    for label, value in card_data.items():\n",
        "        print(f\"{label}: {value}\")\n",
        "else:\n",
        "    print(\"Card data not found or error occurred.\")\n"
      ],
      "metadata": {
        "id": "W3vwWrCK1hsb",
        "outputId": "3b6d0d3d-9048-4367-8785-142f4092a1bf",
        "colab": {
          "base_uri": "https://localhost:8080/"
        }
      },
      "execution_count": 64,
      "outputs": [
        {
          "output_type": "stream",
          "name": "stdout",
          "text": [
            "Card data not found or error occurred.\n"
          ]
        }
      ]
    }
  ],
  "metadata": {
    "colab": {
      "name": "Welcome To Colab",
      "provenance": [],
      "include_colab_link": true
    },
    "kernelspec": {
      "display_name": "Python 3",
      "name": "python3"
    }
  },
  "nbformat": 4,
  "nbformat_minor": 0
}
{
  "cells": [
    {
      "cell_type": "markdown",
      "metadata": {
        "id": "view-in-github",
        "colab_type": "text"
      },
      "source": [
        "<a href=\"https://colab.research.google.com/github/aetev/Hearth-Stone-Python-Simulator/blob/main/mtgcard%20test.ipynb\" target=\"_parent\"><img src=\"https://colab.research.google.com/assets/colab-badge.svg\" alt=\"Open In Colab\"/></a>"
      ]
    },
    {
      "cell_type": "code",
      "source": [
        "import requests\n",
        "from bs4 import BeautifulSoup\n",
        "import re\n",
        "\n",
        "def scrape_edhrec_card_data(card_name):\n",
        "  \"\"\"\n",
        "  Scrapes card data from EDHREC for a given card name.\n",
        "\n",
        "  Args:\n",
        "    card_name: The name of the card to search for.\n",
        "\n",
        "  Returns:\n",
        "    A dictionary containing the card's data, or None if the card is not found.\n",
        "  \"\"\"\n",
        "\n",
        "  card_name = card_name.lower()\n",
        "  # Replace spaces with '+' for the URL\n",
        "  url = f\"https://edhrec.com/commanders/{card_name.replace(' ', '-').replace(',','')}\"\n",
        "  print(url)\n",
        "  response = requests.get(url)\n",
        "  if response.status_code != 200:\n",
        "    return None\n",
        "\n",
        "  soup = BeautifulSoup(response.text, \"html.parser\")\n",
        "  card_data = soup.find_all(\"div\", class_=\"d-flex justify-content-center mb-2\")\n",
        "\n",
        "  my_list = []\n",
        "  for div in card_data:\n",
        "    card_name = div.find(class_=lambda x: x and x.startswith(\"Card_name_\"))\n",
        "    card_info = div.find(class_=lambda x: x and x.startswith(\"CardLabel\"))\n",
        "\n",
        "    if card_name is None:\n",
        "      pass\n",
        "    else:\n",
        "      card_name = card_name.text\n",
        "\n",
        "    if card_info is None:\n",
        "      pass\n",
        "    else:\n",
        "      card_info = card_info.text\n",
        "      m = re.search('\\n(.+?)%',card_info)\n",
        "      if m:\n",
        "        card_info = m.group(1)\n",
        "      else:\n",
        "        card_info = None\n",
        "\n",
        "\n",
        "    my_list.append([card_name,card_info])\n",
        "  return my_list\n",
        "\n",
        "# Example usage\n",
        "card_list = scrape_edhrec_card_data(\"Morska, Undersea Sleuth\")\n",
        "\n",
        "print(card_list)\n",
        "\n"
      ],
      "metadata": {
        "colab": {
          "base_uri": "https://localhost:8080/"
        },
        "id": "eNPlbRFleGgf",
        "outputId": "ed06634a-1d74-44ce-dccf-997a36c73254"
      },
      "execution_count": 102,
      "outputs": [
        {
          "output_type": "stream",
          "name": "stdout",
          "text": [
            "https://edhrec.com/commanders/morska-undersea-sleuth\n",
            "[['Stridehangar Automaton', '+6'], ['Thopter Fabricator', '+5'], ['Radiant Lotus', '+5'], ['Willowrush Verge', '+1'], ['Vnwxt, Verbose Host', '+2'], ['Academy Manufactor', '+81'], ['Tireless Tracker', '+80'], ['Erdwal Illuminator', '+79'], ['Tangletrove Kelp', '+75'], ['Lonis, Cryptozoologist', '+74'], ['Detective of the Month', '+74'], ['Ethereal Investigator', '+73'], ['Adrix and Nev, Twincasters', '+72'], ['Inspiring Statuary', '+71'], [\"Teferi's Ageless Insight\", '+71'], ['Swords to Plowshares', '+21'], ['Merchant of Truth', '+68'], ['Bennie Bracks, Zoologist', '+68'], ['Farewell', '+57'], ['Tezzeret, Betrayer of Flesh', '+67'], ['Kappa Cannoneer', '+67'], ['Idol of Oblivion', '+64'], ['On the Trail', '+61'], ['Alandra, Sky Dreamer', '+65'], ['Mechanized Production', '+64'], ['Urza, Lord High Artificer', '+30'], ['Rhystic Study', '+1'], ['Smothering Tithe', '+2'], ['Cyclonic Rift', '-5'], ['Fierce Guardianship', '-5'], ['Enlightened Tutor', '-8'], ['Trouble in Pairs', '+3'], ['Jolrael, Mwonvuli Recluse', '+59'], ['Junk Winder', '+62'], ['Shimmer Dragon', '+61'], ['Forensic Gadgeteer', '+46'], ['Jaheira, Friend of the Forest', '+43'], ['Psychosis Crawler', '+39'], ['Chulane, Teller of Tales', '+35'], ['Kellan, Inquisitive Prodigy', '+36'], ['Whirler Rogue', '+40'], ['Koma, Cosmos Serpent', '+34'], ['Esix, Fractal Bloom', '+38'], ['Thought Monitor', '+37'], ['Wavesifter', '+35'], ['Cyberdrive Awakener', '+34'], ['Innocuous Researcher', '+34'], ['Graf Mole', '+31'], ['Piper Wright, Publick Reporter', '+29'], ['Alquist Proft, Master Sleuth', '+29'], ['Hydroid Krasis', '+22'], ['Selvala, Explorer Returned', '+18'], ['Aerial Extortionist', '+24'], ['Lavinia, Foil to Conspiracy', '+24'], ['Homunculus Horde', '+21'], ['Martha Jones', '+23'], ['Nadir Kraken', '+23'], ['Seedborn Muse', '+11'], ['Duggan, Private Detective', '+18'], ['Sophia, Dogged Detective', '+18'], ['Private Eye', '+18'], ['Wojek Investigator', '+18'], ['Lonis, Genetics Expert', '+17'], ['Peregrin Took', '+12'], ['Serene Sleuth', '+17'], ['Ezrim, Agency Chief', '+16'], ['Minn, Wily Illusionist', '+16'], ['Mondrak, Glory Dominus', '+11'], ['Yotian Dissident', '+16'], ['Displaced Dinosaurs', '+13'], ['Birds of Paradise', '-13'], ['Mischievous Mystic', '+14'], ['Noble Hierarch', '-10'], ['Tamiyo, Inquisitive Student', '+13'], [\"Emrakul's Messenger\", '+14'], ['James, Wandering Dad', '+13'], ['Esper Sentinel', '-3'], ['Senator Peacock', '+11'], ['The Third Doctor', '+10'], ['Sarah Jane Smith', '+10'], ['Novice Inspector', '+11'], ['Sarinth Steelseeker', '+10'], ['Disorder in the Court', '+63'], ['Counterspell', '+4'], ['Path to Exile', '-3'], ['Officious Interrogation', '+38'], ['Beast Within', '-4'], ['Generous Gift', '-3'], ['Confirm Suspicions', '+24'], ['Heroic Intervention', '-8'], ['Arcane Denial', '+5'], ['Dispatch', '+15'], [\"Dovin's Veto\", '-1'], ['Deduce', '+14'], ['Negate', '-3'], ['Growth Spiral', '-1'], [\"An Offer You Can't Refuse\", '-7'], [\"Teferi's Protection\", '-7'], ['Confront the Unknown', '+10'], ['Brainstorm', '+1'], ['Stroke of Midnight', '+1'], ['Mana Drain', '-2'], ['Second Harvest', '+4'], ['No More Lies', '+6'], ['Swan Song', '-7'], ['Worldly Tutor', '-7'], [\"Dawn's Truce\", '-7'], ['Fumigate', '+39'], ['Rise and Shine', '+34'], ['Follow the Bodies', '+33'], ['Finale of Revelation', '+32'], ['Farseek', '-9'], ['Organic Extinction', '+25'], ['Cultivate', '-17'], [\"Nature's Lore\", '-5'], ['Three Visits', '-2'], ['Rampant Growth', '-12'], [\"Kodama's Reach\", '-10'], ['Supreme Verdict', '+0'], ['Austere Command', '-2'], ['They Went This Way', '+7'], ['Enter the Enigma', '+5'], ['Explore', '+1'], [\"Tamiyo's Journal\", '+49'], ['Nettlecyst', '+48'], ['Swiftfoot Boots', '-13'], ['Magnifying Glass', '+15'], ['Thousand Moons Smithy', '+12'], ['Lightning Greaves', '-8'], ['Ransom Note', '+10'], ['Krark-Clan Ironworks', '+7'], ['Transmutation Font', '+6'], ['Shorikai, Genesis Engine', '+5'], ['Worldwalker Helm', '+5'], ['Wilderness Reclamation', '+59'], ['Ulvenwald Mysteries', '+54'], ['Ongoing Investigation', '+53'], ['Search the Premises', '+48'], ['Knowledge Is Power', '+46'], ['Armed with Proof', '+41'], ['Killer Service', '+25'], ['Doubling Season', '+13'], ['Thorough Investigation', '+18'], [\"Proft's Eidetic Memory\", '+12'], ['Parallel Lives', '+8'], ['Anointed Procession', '+7'], ['Mystic Remora', '-2'], [\"Caretaker's Talent\", '+6'], ['Wizard Class', '+0'], ['All That Glitters', '+1'], ['Case of the Pilfered Proof', '+7'], ['Primal Vigor', '+4'], ['Sylvan Library', '-3'], ['In Too Deep', '+5'], ['Tamiyo, Field Researcher', '-1'], ['Oko, Thief of Crowns', '+0'], ['Reliquary Tower', '+36'], ['Lonely Sandbar', '+40'], ['Tranquil Thicket', '+39'], ['Secluded Steppe', '+38'], ['Temple of the False God', '+25'], [\"Rogue's Passage\", '+7'], ['Archway of Innovation', '+17'], ['Boseiju, Who Endures', '-7'], ['Otawara, Soaring City', '-5'], ['Yavimaya, Cradle of Growth', '-8'], ['Seat of the Synod', '+4'], [\"Inventors' Fair\", '+4'], [\"Alchemist's Refuge\", '-2'], ['Tree of Tales', '+3'], ['Sol Ring', '+13'], ['Arcane Signet', '+22'], ['Talisman of Curiosity', '+52'], ['Talisman of Progress', '+52'], ['Talisman of Unity', '+47'], ['Azorius Signet', '+36'], ['Simic Signet', '+35'], ['Five Hundred Year Diary', '+39'], ['Thought Vessel', '-4'], ['Fellwar Stone', '-7'], ['Selesnya Signet', '-4'], ['Command Tower', '+6'], ['Exotic Orchard', '+22'], ['Seaside Citadel', '+22'], ['Prairie Stream', '+29'], ['Canopy Vista', '+28'], ['Spire of Industry', '+58'], ['Path of Ancestry', '+38'], ['Irrigated Farmland', '+47'], ['Scattered Groves', '+45'], ['Skycloud Expanse', '+37'], ['Sungrass Prairie', '+35'], ['Temple of Enlightenment', '+30'], ['Temple of Mystery', '+27'], ['Simic Growth Chamber', '+29'], ['Temple of Plenty', '+29'], ['Azorius Chancery', '+28'], ['Selesnya Sanctuary', '+27'], ['Krosan Verge', '+32'], ['Hallowed Fountain', '-11'], [\"Spara's Headquarters\", '-11'], ['Breeding Pool', '-10'], ['Temple Garden', '-13'], ['Rejuvenating Springs', '-9'], ['Glacial Fortress', '-12'], ['Hinterland Harbor', '-13'], ['Sea of Clouds', '-8'], ['Dreamroot Cascade', '-2'], ['Bountiful Promenade', '-11'], ['Yavimaya Coast', '-8'], ['Deserted Beach', '-1'], ['Flooded Strand', '-10'], ['Windswept Heath', '-12'], ['Misty Rainforest', '-11'], ['Sunpetal Grove', '-18'], ['Tranquil Landscape', '-3'], ['Overgrown Farmland', '-6'], ['Adarkar Wastes', '-8'], ['Port Town', '-1'], ['Brushland', '-9'], ['Vineglimmer Snarl', '+3'], ['Hedge Maze', '+0'], ['Fortified Village', '-2'], ['Meticulous Archive', '+1'], ['Lush Portico', '-1'], ['Floodfarm Verge', '-0'], ['Study', '+7'], ['Flooded Grove', '-8'], ['Hushwood Verge', '-2'], ['Evolving Wilds', '-18'], ['Tropical Island', '-5']]\n"
          ]
        }
      ]
    }
  ],
  "metadata": {
    "colab": {
      "name": "Welcome To Colab",
      "provenance": [],
      "include_colab_link": true
    },
    "kernelspec": {
      "display_name": "Python 3",
      "name": "python3"
    }
  },
  "nbformat": 4,
  "nbformat_minor": 0
}
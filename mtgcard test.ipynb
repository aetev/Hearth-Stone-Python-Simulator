{
  "cells": [
    {
      "cell_type": "markdown",
      "metadata": {
        "id": "view-in-github",
        "colab_type": "text"
      },
      "source": [
        "<a href=\"https://colab.research.google.com/github/aetev/Hearth-Stone-Python-Simulator/blob/main/mtgcard%20test.ipynb\" target=\"_parent\"><img src=\"https://colab.research.google.com/assets/colab-badge.svg\" alt=\"Open In Colab\"/></a>"
      ]
    },
    {
      "cell_type": "code",
      "source": [
        "import requests\n",
        "from bs4 import BeautifulSoup\n",
        "import re\n",
        "\n",
        "def scrape_edhrec_card_data(card_name):\n",
        "  \"\"\"\n",
        "  Scrapes card data from EDHREC for a given card name.\n",
        "\n",
        "  Args:\n",
        "    card_name: The name of the card to search for.\n",
        "\n",
        "  Returns:\n",
        "    A dictionary containing the card's data, or None if the card is not found.\n",
        "  \"\"\"\n",
        "\n",
        "  card_name = card_name.lower()\n",
        "  # Replace spaces with '+' for the URL\n",
        "  url = f\"https://edhrec.com/cards/{card_name.replace(' ', '-').replace(',','')}\"\n",
        "  print(url)\n",
        "  response = requests.get(url)\n",
        "  if response.status_code != 200:\n",
        "    return None\n",
        "\n",
        "  soup = BeautifulSoup(response.text, \"html.parser\")\n",
        "  card_data = soup.find_all(\"div\", class_=\"d-flex justify-content-center mb-2\")\n",
        "\n",
        "  my_list = []\n",
        "  for div in card_data:\n",
        "    card_name = div.find(class_=lambda x: x and x.startswith(\"Card_name_\"))\n",
        "    card_info = div.find(class_=lambda x: x and x.startswith(\"CardLabel\"))\n",
        "\n",
        "    if card_name is None:\n",
        "      pass\n",
        "    else:\n",
        "      card_name = card_name.text\n",
        "\n",
        "    if card_info is None:\n",
        "      pass\n",
        "    else:\n",
        "      card_info = card_info.text\n",
        "      m = re.search('\\n(.+?)%',card_info)\n",
        "      if m:\n",
        "        card_info = int(m.group(1))\n",
        "      else:\n",
        "        card_info = None\n",
        "\n",
        "\n",
        "    my_list.append([card_name,card_info])\n",
        "  return my_list\n",
        "\n",
        "# Example usage\n",
        "card_list = scrape_edhrec_card_data(\"Morska, Undersea Sleuth\")\n",
        "\n",
        "print(card_list)\n",
        "\n"
      ],
      "metadata": {
        "colab": {
          "base_uri": "https://localhost:8080/"
        },
        "id": "eNPlbRFleGgf",
        "outputId": "1bcb4f2e-5333-4435-da8a-52297f52c52b"
      },
      "execution_count": 105,
      "outputs": [
        {
          "output_type": "stream",
          "name": "stdout",
          "text": [
            "https://edhrec.com/cards/morska-undersea-sleuth\n",
            "[['Sophia, Dogged Detective', None], ['Ms. Bumbleflower', None], ['Chulane, Teller of Tales', None], ['The Third Doctor // Sarah Jane Smith', None], ['Elmar, Ulvenwald Informant // Hargilde, Kindly Runechanter', None], ['Cecily, Haunted Mage // Othelm, Sigardian Outcast', None], ['The Fourth Doctor // Sarah Jane Smith', None], ['Kynaios and Tiro of Meletis', None], ['Mr. Foxglove', None], ['Aragorn, the Uniter', None], ['Omnath, Locus of All', None], ['Galadriel, Light of Valinor', None], ['The Second Doctor // Leela, Sevateem Warrior', None], ['Kydele, Chosen of Kruphix // Tymna the Weaver', None], ['Alistair, the Brigadier', None], ['Helga, Skittish Seer', None], ['Kenrith, the Returned King', None], ['The Seventh Doctor // Ace, Fearless Rebel', None], ['District Mascot', 3], ['Willowrush Verge', 0], ['Loot, the Pathfinder', 1], ['Stridehangar Automaton', 1], ['Thopter Fabricator', 1], ['Academy Manufactor', 42], ['Lonis, Cryptozoologist', 37], ['Tireless Tracker', 37], ['Reliquary Tower', 32], [\"Wernog, Rider's Chaplain\", 31], ['Tangletrove Kelp', 30], ['Merchant of Truth', 29], ['Adrix and Nev, Twincasters', 29], ['Erdwal Illuminator', 29], ['Inspiring Statuary', 29], ['Swords to Plowshares', 4], ['Path to Exile', 4], ['Farseek', 8], ['Cultivate', -6], ['Counterspell', -8], ['Beast Within', -7], ['Ruinous Ultimatum', 12], [\"Nature's Lore\", -3], ['Generous Gift', 4], ['Sophina, Spearsage Deserter', 28], ['Smothering Tithe', -4], ['Cyclonic Rift', -12], ['Rhystic Study', -14], ['Demonic Tutor', -10], ['Vampiric Tutor', -7], ['Urza, Lord High Artificer', 7], ['Fierce Guardianship', -10], ['Enlightened Tutor', -11], ['Eloise, Nephalia Sleuth', 27], ['Reckless Fireweaver', 22], ['Teysa, Opulent Oligarch', 25], ['Jaheira, Friend of the Forest', 21], ['Peregrin Took', 20], ['Ethereal Investigator', 23], ['Tireless Provisioner', 13], ['K-9, Mark I', 22], ['Birds of Paradise', -4], ['Forensic Gadgeteer', 20], ['Jolrael, Mwonvuli Recluse', 20], ['Malcolm, the Eyes', 20], ['Elmar, Ulvenwald Informant', 20], ['Inquisitor Greyfax', 19], ['Mirkwood Bats', 9], ['Detective of the Month', 18], ['Bennie Bracks, Zoologist', 16], ['Pack Leader', 17], ['Mowu, Loyal Companion', 17], ['Faeburrow Elder', 6], ['Persuasive Interrogators', 17], ['Bjorna, Nightfall Alchemist', 17], ['Lazav, Wearer of Faces', 16], ['Baylen, the Haymaker', 13], ['Rosie Cotton of South Lane', 13], ['Kappa Cannoneer', 14], ['Lavinia, Foil to Conspiracy', 15], ['Shimmer Dragon', 14], ['Ingenious Artillerist', 14], ['Tivit, Seller of Secrets', 14], ['Junk Winder', 14], ['Noble Hierarch', 0], ['Kellan, Inquisitive Prodigy', 14], ['Gleaming Geardrake', 15], ['Piper Wright, Publick Reporter', 15], ['Floodhound', 15], ['Spirited Companion', 11], ['Martha Jones', 14], ['Selfless Savior', 13], ['Twenty-Toed Toad', 12], ['Ainok Bond-Kin', 13], ['Jenny Flint', 14], ['Samwise Gamgee', 9], ['Loyal Warhound', 11], ['Alandra, Sky Dreamer', 12], ['Selvala, Explorer Returned', 10], ['Crime Novelist', 11], ['Whitemane Lion', 12], ['Cyberdrive Awakener', 11], ['Psychosis Crawler', 10], ['Heroic Intervention', -2], ['Disorder in the Court', 24], ['Officious Interrogation', 23], ['Growth Spiral', 1], [\"Assassin's Trophy\", -12], [\"An Offer You Can't Refuse\", -4], ['Arcane Denial', -3], ['Peerless Recycling', 14], ['Negate', -8], ['Void Rend', 0], ['Inspiring Call', 5], [\"Dovin's Veto\", -6], [\"Long River's Pull\", 9], [\"Dawn's Truce\", 3], [\"Teferi's Protection\", -8], ['Brainstorm', -9], ['Anguished Unmaking', -13], ['Confront the Unknown', 10], ['Deduce', 9], ['Unite the Coalition', 6], ['Chaos Warp', -22], ['Stroke of Midnight', -1], ['Frantic Search', -3], ['Confirm Suspicions', 9], ['Perch Protection', 7], ['Dispatch', 4], ['Opt', -2], ['Into the Flood Maw', 5], ['Snap', 0], ['Reverse the Polarity', 6], [\"Nature's Claim\", -2], ['Boros Charm', -18], ['Rewind', 3], ['Pongify', -5], ['Swan Song', -10], ['Abzan Charm', 1], ['Naya Charm', -1], ['Worldly Tutor', -8], ['Consider', -1], ['Deflecting Swat', -11], ['Mana Drain', -10], ['Three Visits', 3], ['Farewell', 14], ['Rampant Growth', -10], [\"Kodama's Reach\", -10], ['Eerie Ultimatum', 8], ['Rise and Shine', 17], ['Blasphemous Act', -17], ['Wear Down', 11], [\"In Garruk's Wake\", 10], ['Conflux', 9], ['Genesis Ultimatum', 7], ['Follow the Bodies', 11], ['Release the Dogs', 11], ['Austere Command', -2], ['Cruel Ultimatum', 6], ['Time Wipe', 3], ['Tempt with Bunnies', 7], ['Supreme Verdict', -5], ['Tempt with Discovery', 4], ['Explore', -2], ['They Went This Way', 7], ['Promise of Loyalty', 4], ['Emergent Ultimatum', 4], ['Villainous Wealth', -2], ['Fumigate', 3], ['Finale of Revelation', 4], ['Bala Ged Recovery', -3], ['Root Out', 5], ['Many Partings', 3], ['Inspired Ultimatum', 4], ['Approach of the Second Sun', 1], [\"Tamiyo's Journal\", 28], ['Swiftfoot Boots', -2], ['Idol of Oblivion', 16], ['Lightning Greaves', -5], ['Time Sieve', 15], [\"Commander's Sphere\", -3], ['Nettlecyst', 10], ['Nuka-Cola Vending Machine', 9], ['Maskwood Nexus', 6], ['Mind Stone', -9], ['Thousand Moons Smithy', 4], ['Worldwalker Helm', 5], ['Transmutation Font', 6], ['Ozolith, the Shattered Spire', 1], ['Magnifying Glass', 6], [\"Detective's Satchel\", 5], ['On the Trail', 27], ['Ongoing Investigation', 24], ['Search the Premises', 23], ['Wilderness Reclamation', 19], ['Hardened Scales', 12], ['Ulvenwald Mysteries', 20], [\"Teferi's Ageless Insight\", 15], ['Leyline of the Guildpact', 3], ['Mechanized Production', 16], ['Armed with Proof', 16], ['Annie Joins Up', 3], ['Thorough Investigation', 15], ['Wizard Class', 11], ['Heaven Sent', 14], ['Doubling Season', 1], ['Knowledge Is Power', 9], ['Brokers Ascendancy', 3], ['Storm the Vault', 7], ['Ghirapur Aether Grid', 8], ['Ominous Seas', 6], ['Maelstrom Nexus', 1], ['City of Death', 7], [\"Proft's Eidetic Memory\", 7], ['Parallel Lives', 1], ['Communal Brewing', 7], ['Propaganda', -4], [\"Innkeeper's Talent\", 2], ['Simic Ascendancy', 1], ['Ghostly Prison', -5], ['Anointed Procession', -2], ['Vraska Joins Up', 3], ['Improbable Alliance', 6], ['Agent of the Iron Throne', 4], ['Rites of Flourishing', 4], [\"Night of the Sweets' Revenge\", 4], ['Felidar Retreat', -1], ['Kellan Joins Up', 4], ['Branching Evolution', 0], ['Monk Class', 5], ['Phyrexian Arena', -10], ['Tezzeret, Betrayer of Flesh', 14], ['Tezzeret, Master of the Bridge', 8], ['Tamiyo, Field Researcher', 4], ['Oko, Thief of Crowns', 2], ['Dihada, Binder of Wills', 3], ['Jared Carthalion', 4], ['Mordenkainen', 5], ['Havengul Laboratory', 24], [\"Rogue's Passage\", -4], ['The Shire', 8], ['Boseiju, Who Endures', -7], ['Yavimaya, Cradle of Growth', 1], ['Temple of the False God', 0], ['Otawara, Soaring City', -7], ['Trenzalore Clocktower', 8], ['Archway of Innovation', 5], ['Animal Sanctuary', 7], ['Bojuka Bog', -23], ['Great Furnace', 1], ['Gavony Township', -3], ['Seat of the Synod', 0], ['Ancient Den', 1], [\"Alchemist's Refuge\", -1], ['Rivendell', 1], ['Tree of Tales', 3], ['Sol Ring', -1], ['Arcane Signet', 7], ['Thought Vessel', 16], ['Five Hundred Year Diary', 24], ['Talisman of Progress', -1], ['Talisman of Unity', 15], ['Talisman of Curiosity', 8], ['Fellwar Stone', -2], ['Simic Signet', 3], ['Chromatic Lantern', 8], ['Azorius Signet', -9], ['Decanter of Endless Water', 9], ['Selesnya Signet', 0], ['Sonic Screwdriver', 6], ['Izzet Signet', -21], ['Timeless Lotus', -6], ['Talisman of Creativity', -23], ['Gruul Signet', -6], ['Boros Signet', -18], ['Command Tower', 16], ['Exotic Orchard', 29], ['Seaside Citadel', 31], ['Canopy Vista', 11], ['Prairie Stream', 13], ['Glacial Fortress', 11], ['Path of Ancestry', 15], [\"Spara's Headquarters\", 6], ['The World Tree', 3], ['Hinterland Harbor', 6], ['Hallowed Fountain', -6], ['Breeding Pool', -7], ['Temple Garden', -7], ['Stomping Ground', -8], ['Overgrown Tomb', -9], ['Ketria Triome', 0], ['Steam Vents', -7], ['Watery Grave', -9], ['Zagoth Triome', 1], ['Dreamroot Cascade', 10], ['Godless Shrine', -11], ['Indatha Triome', -2], ['Rejuvenating Springs', -1], ['Frontier Bivouac', 0], ['Temple of Mystery', 10], ['Sacred Foundry', -8], [\"Jetmir's Garden\", -4], [\"Raffine's Tower\", -1], ['Sunpetal Grove', 1], ['Temple of Enlightenment', 8], ['Jungle Shrine', -8], ['Temple of Plenty', 11], ['Sea of Clouds', -2], ['Sungrass Prairie', 12], ['Raugrin Triome', -2], ['Skycloud Expanse', 11], ['Deserted Beach', 8], ['Simic Growth Chamber', 4], ['Bountiful Promenade', -1], ['Mystic Monastery', -4], ['Overgrown Farmland', 7], [\"Ziatora's Proving Ground\", -8], ['Evolving Wilds', 1], ['Yavimaya Coast', -5], ['Windswept Heath', 11], ['Selesnya Sanctuary', 7], ['Flooded Strand', 10], ['Misty Rainforest', 9], ['Azorius Chancery', 5], ['Blood Crypt', -18]]\n"
          ]
        }
      ]
    }
  ],
  "metadata": {
    "colab": {
      "name": "Welcome To Colab",
      "provenance": [],
      "include_colab_link": true
    },
    "kernelspec": {
      "display_name": "Python 3",
      "name": "python3"
    }
  },
  "nbformat": 4,
  "nbformat_minor": 0
}
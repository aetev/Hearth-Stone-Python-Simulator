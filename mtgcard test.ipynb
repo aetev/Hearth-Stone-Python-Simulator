{
  "cells": [
    {
      "cell_type": "markdown",
      "metadata": {
        "id": "view-in-github",
        "colab_type": "text"
      },
      "source": [
        "<a href=\"https://colab.research.google.com/github/aetev/Hearth-Stone-Python-Simulator/blob/main/mtgcard%20test.ipynb\" target=\"_parent\"><img src=\"https://colab.research.google.com/assets/colab-badge.svg\" alt=\"Open In Colab\"/></a>"
      ]
    },
    {
      "cell_type": "code",
      "source": [
        "# prompt: if i use soup.find_all(\"span\", class_=\"\") how can i make the class find all classes with \"Card_name...\" in the first text\n",
        "\n",
        "import requests\n",
        "from bs4 import BeautifulSoup\n",
        "\n",
        "\n",
        "def scrape_edhrec_card_data(card_name):\n",
        "  \"\"\"\n",
        "  Scrapes card data from EDHREC for a given card name.\n",
        "\n",
        "  Args:\n",
        "    card_name: The name of the card to search for.\n",
        "\n",
        "  Returns:\n",
        "    A dictionary containing the card's data, or None if the card is not found.\n",
        "  \"\"\"\n",
        "\n",
        "  card_name = card_name.lower()\n",
        "  # Replace spaces with '+' for the URL\n",
        "  url = f\"https://edhrec.com/cards/{card_name.replace(' ', '-')}\"\n",
        "\n",
        "  response = requests.get(url)\n",
        "  if response.status_code != 200:\n",
        "    return None\n",
        "\n",
        "  soup = BeautifulSoup(response.text, \"html.parser\")\n",
        "  card_data = soup.find_all(\"div\", class_=\"d-flex justify-content-center mb-2\")\n",
        "\n",
        "\n",
        "  return card_data\n",
        "\n",
        "\n",
        "# Example usage\n",
        "card_data = scrape_edhrec_card_data(\"Sol Ring\")\n",
        "\n",
        "print(card_data[1])\n",
        "\n",
        "\n"
      ],
      "metadata": {
        "colab": {
          "base_uri": "https://localhost:8080/"
        },
        "id": "eNPlbRFleGgf",
        "outputId": "53520f70-d96b-445d-f426-579a75f82cae"
      },
      "execution_count": 55,
      "outputs": [
        {
          "output_type": "stream",
          "name": "stdout",
          "text": [
            "<div class=\"d-flex justify-content-center mb-2\"><div class=\"Card_container__Ng56K\"><div class=\"Card_nameWrapper__oeNTe\"><span class=\"Card_name__Mpa7S\">Atraxa, Praetors' Voice</span></div><div class=\"lazyload-wrapper\"><div class=\"lazyload-placeholder\" style=\"height:359.19px\"></div></div><div class=\"CardLabel_label__iAM7T\">85.43% of 35711 decks\n",
            "30508 decks</div></div></div>\n"
          ]
        }
      ]
    }
  ],
  "metadata": {
    "colab": {
      "name": "Welcome To Colab",
      "provenance": [],
      "include_colab_link": true
    },
    "kernelspec": {
      "display_name": "Python 3",
      "name": "python3"
    }
  },
  "nbformat": 4,
  "nbformat_minor": 0
}
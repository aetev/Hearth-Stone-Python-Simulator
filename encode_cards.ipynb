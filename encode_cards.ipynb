{
  "cells": [
    {
      "cell_type": "markdown",
      "metadata": {
        "id": "view-in-github",
        "colab_type": "text"
      },
      "source": [
        "<a href=\"https://colab.research.google.com/github/aetev/Hearth-Stone-Python-Simulator/blob/main/encode_cards.ipynb\" target=\"_parent\"><img src=\"https://colab.research.google.com/assets/colab-badge.svg\" alt=\"Open In Colab\"/></a>"
      ]
    },
    {
      "cell_type": "code",
      "source": [
        "from google.colab import drive\n",
        "drive.mount('/content/drive')"
      ],
      "metadata": {
        "id": "3kHFncULcoGR",
        "outputId": "32074035-4954-4fa3-bc6f-06284788982f",
        "colab": {
          "base_uri": "https://localhost:8080/"
        }
      },
      "execution_count": 3,
      "outputs": [
        {
          "output_type": "stream",
          "name": "stdout",
          "text": [
            "Drive already mounted at /content/drive; to attempt to forcibly remount, call drive.mount(\"/content/drive\", force_remount=True).\n"
          ]
        }
      ]
    },
    {
      "cell_type": "code",
      "source": [
        "import json\n",
        "\n",
        "# Assuming AtomicCards.json is in your Google Drive, adjust the path if necessary\n",
        "file_path = '/content/drive/MyDrive/AtomicCards.json'\n",
        "\n",
        "\n",
        "with open(file_path, 'r') as f:\n",
        "  data = json.load(f)['data'])"
      ],
      "metadata": {
        "id": "Mx4GYeOpd3Ka"
      },
      "execution_count": 4,
      "outputs": []
    },
    {
      "cell_type": "code",
      "source": [
        "def filter_legal_cards(data):\n",
        "    legal_commander_data = {}\n",
        "    for card_name, card_data in data.items():\n",
        "        try:\n",
        "            if card_data[0]['legalities']['commander'] == 'Legal':\n",
        "                legal_commander_data[card_name] = card_data[0] # Store only the first element of card_data\n",
        "        except (KeyError, IndexError):\n",
        "            # Handle cases where 'legalities' or 'commander' key is missing or card_data is empty\n",
        "            pass  # Or print a message, log it, etc.\n",
        "    return legal_commander_data\n",
        "\n",
        "filtered_data = filter_legal_cards(data)\n"
      ],
      "metadata": {
        "id": "o9rUDffCq5X2"
      },
      "execution_count": 11,
      "outputs": []
    },
    {
      "cell_type": "code",
      "source": [
        "first_key = next(iter(filtered_data))\n",
        "first_value = filtered_data[first_key]\n",
        "\n",
        "print(\"First Key:\", first_key)\n",
        "print(\"First Value:\", first_value)"
      ],
      "metadata": {
        "id": "ufpAdV25sI5x",
        "outputId": "4d7060c2-7f86-45da-c2ad-fc9c4932e961",
        "colab": {
          "base_uri": "https://localhost:8080/"
        }
      },
      "execution_count": 16,
      "outputs": [
        {
          "output_type": "stream",
          "name": "stdout",
          "text": [
            "First Key: \"Lifetime\" Pass Holder\n",
            "First Value: {'colorIdentity': ['B'], 'colors': ['B'], 'convertedManaCost': 1.0, 'edhrecRank': 10479, 'edhrecSaltiness': 0.5, 'firstPrinting': 'UNF', 'foreignData': [], 'identifiers': {'scryfallOracleId': '7bf6f13a-3c90-4bda-bc84-e026828bf4d1'}, 'keywords': ['Open an Attraction', 'Roll to Visit Your Attractions'], 'layout': 'normal', 'legalities': {'commander': 'Legal', 'duel': 'Banned', 'legacy': 'Banned', 'oathbreaker': 'Banned', 'vintage': 'Banned'}, 'manaCost': '{B}', 'manaValue': 1.0, 'name': '\"Lifetime\" Pass Holder', 'power': '2', 'printings': ['UNF'], 'purchaseUrls': {'cardKingdom': 'https://mtgjson.com/links/9e1631dd345f664d', 'cardKingdomFoil': 'https://mtgjson.com/links/67667a01d3ca6254', 'cardmarket': 'https://mtgjson.com/links/4814d0ee0bfce13a', 'tcgplayer': 'https://mtgjson.com/links/e13efc749614f1a8'}, 'subtypes': ['Zombie', 'Guest'], 'supertypes': [], 'text': 'This creature enters tapped.\\nWhen this creature dies, open an Attraction.\\nWhenever you roll to visit your Attractions, if you roll a 6, you may return this card from your graveyard to the battlefield.', 'toughness': '1', 'type': 'Creature — Zombie Guest', 'types': ['Creature']}\n"
          ]
        }
      ]
    }
  ],
  "metadata": {
    "colab": {
      "name": "Welcome To Colab",
      "provenance": [],
      "include_colab_link": true
    },
    "kernelspec": {
      "display_name": "Python 3",
      "name": "python3"
    }
  },
  "nbformat": 4,
  "nbformat_minor": 0
}
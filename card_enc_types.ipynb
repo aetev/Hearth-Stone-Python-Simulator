{
  "cells": [
    {
      "cell_type": "markdown",
      "metadata": {
        "id": "view-in-github",
        "colab_type": "text"
      },
      "source": [
        "<a href=\"https://colab.research.google.com/github/aetev/Hearth-Stone-Python-Simulator/blob/main/card_enc_types.ipynb\" target=\"_parent\"><img src=\"https://colab.research.google.com/assets/colab-badge.svg\" alt=\"Open In Colab\"/></a>"
      ]
    },
    {
      "cell_type": "code",
      "source": [
        "from google.colab import drive\n",
        "drive.mount('/content/drive')"
      ],
      "metadata": {
        "colab": {
          "base_uri": "https://localhost:8080/"
        },
        "id": "3kHFncULcoGR",
        "outputId": "12c93e52-efad-46f3-8d6d-fb6a7d9542b0"
      },
      "execution_count": 1,
      "outputs": [
        {
          "output_type": "stream",
          "name": "stdout",
          "text": [
            "Mounted at /content/drive\n"
          ]
        }
      ]
    },
    {
      "cell_type": "code",
      "source": [
        "import json\n",
        "import tensorflow as tf\n",
        "import re\n",
        "from tensorflow.keras.layers import Embedding, TextVectorization\n",
        "# Assuming AtomicCards.json is in your Google Drive, adjust the path if necessary\n",
        "file_path = '/content/drive/MyDrive/MTGdata/AtomicCards.json'\n",
        "\n",
        "\n",
        "with open(file_path, 'r') as f:\n",
        "  data = json.load(f)['data']"
      ],
      "metadata": {
        "id": "Mx4GYeOpd3Ka"
      },
      "execution_count": 2,
      "outputs": []
    },
    {
      "cell_type": "code",
      "source": [
        "def filter_legal_cards(data):\n",
        "    legal_commander_data = {}\n",
        "    for card_name, card_data in data.items():\n",
        "        try:\n",
        "            if card_data[0]['legalities']['commander'] == 'Legal':\n",
        "                legal_commander_data[card_name] = card_data[0] # Store only the first element of card_data\n",
        "        except (KeyError, IndexError):\n",
        "            pass  # Or print a message, log it, etc.\n",
        "    return legal_commander_data\n",
        "\n",
        "filtered_data = filter_legal_cards(data)\n"
      ],
      "metadata": {
        "id": "o9rUDffCq5X2"
      },
      "execution_count": 3,
      "outputs": []
    },
    {
      "cell_type": "code",
      "source": [
        "items = list(filtered_data.items())\n",
        "\n",
        "\n",
        "type_list = []\n",
        "for row in items[:100]:\n",
        "  second_key, second_value = row\n",
        "  if second_value['type'] != None:\n",
        "    print(second_value['type'])\n",
        "    type_list.append(second_value['type'])"
      ],
      "metadata": {
        "id": "ufpAdV25sI5x",
        "outputId": "11f99d85-0415-4801-ce40-69e6afca3d2a",
        "colab": {
          "base_uri": "https://localhost:8080/"
        }
      },
      "execution_count": 4,
      "outputs": [
        {
          "output_type": "stream",
          "name": "stdout",
          "text": [
            "Creature — Zombie Guest\n",
            "Creature — Goblin Guest\n",
            "Artifact — Equipment\n",
            "Instant\n",
            "Enchantment\n",
            "Instant\n",
            "Enchantment\n",
            "Creature — Bird Rogue\n",
            "Legendary Creature — Insect Druid\n",
            "Legendary Creature — Astartes Warrior\n",
            "Sorcery\n",
            "Instant\n",
            "Sorcery\n",
            "Land\n",
            "Land\n",
            "Artifact\n",
            "Creature — Zombie\n",
            "Creature — Gargoyle\n",
            "Creature — Griffin\n",
            "Creature — Human Cleric\n",
            "Creature — Human Monk\n",
            "Legendary Creature — Human Warrior\n",
            "Enchantment — Aura\n",
            "Creature — Tyranid Mutant\n",
            "Creature — Human Elf Shaman\n",
            "Creature — Human Insect\n",
            "Instant\n",
            "Creature — Eye\n",
            "Creature — Demon\n",
            "Enchantment\n",
            "Instant\n",
            "Instant\n",
            "Creature — Fish Horror\n",
            "Instant\n",
            "Snow Creature — Treefolk\n",
            "Creature — Horror\n",
            "Creature — Horror\n",
            "Legendary Creature — Elf Horror\n",
            "Creature — Elemental\n",
            "Enchantment — Aura\n",
            "Legendary Creature — Octopus Noble\n",
            "Instant\n",
            "Instant\n",
            "Land — Desert\n",
            "Instant\n",
            "Enchantment\n",
            "Enchantment\n",
            "Creature — Thrull Cleric\n",
            "Creature — Lammasu\n",
            "Instant\n",
            "Instant\n",
            "Sorcery\n",
            "Legendary Land\n",
            "Instant\n",
            "Creature — Avatar\n",
            "Instant\n",
            "Creature — Human\n",
            "Sorcery\n",
            "Legendary Creature — Spirit\n",
            "Creature — Cat Cleric\n",
            "Instant\n",
            "Enchantment\n",
            "Enchantment — Aura\n",
            "Sorcery\n",
            "Creature — Eldrazi Leech\n",
            "Creature — Horror\n",
            "Creature — Horror\n",
            "Creature — Demon Warlock\n",
            "Creature — Horror\n",
            "Creature — Human Assassin\n",
            "Creature — Nightstalker\n",
            "Creature — Horror\n",
            "Creature — Demon\n",
            "Creature — Specter\n",
            "Instant\n",
            "Enchantment\n",
            "Artifact\n",
            "Creature — Human Cleric\n",
            "Creature — Dog Shaman\n",
            "Instant\n",
            "Creature — Human Soldier\n",
            "Creature — Human Warrior\n",
            "Creature — Human Warrior\n",
            "Enchantment — Aura\n",
            "Creature — Bird Soldier\n",
            "Instant\n",
            "Sorcery — Lesson\n",
            "Creature — Drake\n",
            "Creature — Human Wizard\n",
            "Creature — Human Wizard\n",
            "Creature — Human Wizard\n",
            "Artifact Creature — Assembly-Worker\n",
            "Creature — Human Warrior\n",
            "Creature — Human Cleric\n",
            "Creature — Human Wizard\n",
            "Legendary Land\n",
            "Creature — Wall\n",
            "Instant\n",
            "Instant\n",
            "Sorcery\n"
          ]
        }
      ]
    },
    {
      "cell_type": "code",
      "source": [
        "print(type_list[:150])"
      ],
      "metadata": {
        "id": "2bhKDEIfNYay",
        "outputId": "fe4cf402-552a-460a-cf3e-16401d9d1a73",
        "colab": {
          "base_uri": "https://localhost:8080/"
        }
      },
      "execution_count": 5,
      "outputs": [
        {
          "output_type": "stream",
          "name": "stdout",
          "text": [
            "['Creature — Zombie Guest', 'Creature — Goblin Guest', 'Artifact — Equipment', 'Instant', 'Enchantment', 'Instant', 'Enchantment', 'Creature — Bird Rogue', 'Legendary Creature — Insect Druid', 'Legendary Creature — Astartes Warrior', 'Sorcery', 'Instant', 'Sorcery', 'Land', 'Land', 'Artifact', 'Creature — Zombie', 'Creature — Gargoyle', 'Creature — Griffin', 'Creature — Human Cleric', 'Creature — Human Monk', 'Legendary Creature — Human Warrior', 'Enchantment — Aura', 'Creature — Tyranid Mutant', 'Creature — Human Elf Shaman', 'Creature — Human Insect', 'Instant', 'Creature — Eye', 'Creature — Demon', 'Enchantment', 'Instant', 'Instant', 'Creature — Fish Horror', 'Instant', 'Snow Creature — Treefolk', 'Creature — Horror', 'Creature — Horror', 'Legendary Creature — Elf Horror', 'Creature — Elemental', 'Enchantment — Aura', 'Legendary Creature — Octopus Noble', 'Instant', 'Instant', 'Land — Desert', 'Instant', 'Enchantment', 'Enchantment', 'Creature — Thrull Cleric', 'Creature — Lammasu', 'Instant', 'Instant', 'Sorcery', 'Legendary Land', 'Instant', 'Creature — Avatar', 'Instant', 'Creature — Human', 'Sorcery', 'Legendary Creature — Spirit', 'Creature — Cat Cleric', 'Instant', 'Enchantment', 'Enchantment — Aura', 'Sorcery', 'Creature — Eldrazi Leech', 'Creature — Horror', 'Creature — Horror', 'Creature — Demon Warlock', 'Creature — Horror', 'Creature — Human Assassin', 'Creature — Nightstalker', 'Creature — Horror', 'Creature — Demon', 'Creature — Specter', 'Instant', 'Enchantment', 'Artifact', 'Creature — Human Cleric', 'Creature — Dog Shaman', 'Instant', 'Creature — Human Soldier', 'Creature — Human Warrior', 'Creature — Human Warrior', 'Enchantment — Aura', 'Creature — Bird Soldier', 'Instant', 'Sorcery — Lesson', 'Creature — Drake', 'Creature — Human Wizard', 'Creature — Human Wizard', 'Creature — Human Wizard', 'Artifact Creature — Assembly-Worker', 'Creature — Human Warrior', 'Creature — Human Cleric', 'Creature — Human Wizard', 'Legendary Land', 'Creature — Wall', 'Instant', 'Instant', 'Sorcery']\n"
          ]
        }
      ]
    },
    {
      "cell_type": "code",
      "source": [
        "from typing_extensions import Self\n",
        "class TypeEncoderLayer(tf.keras.layers.Layer):\n",
        "    def __init__(self,card_dict, **kwargs):\n",
        "        super(TypeEncoderLayer, self).__init__(**kwargs)\n",
        "        self.vectorizer = TextVectorization(standardize=None, output_mode='multi_hot')\n",
        "\n",
        "        type_list = [types for card_name, card_data in card_dict.items() if card_data['type'] is not None for types in card_data['type']]\n",
        "        cleaned_type_list = self.clean_text(tf.constant(type_list))\n",
        "        self.vectorizer.adapt(cleaned_type_list)\n",
        "        self.embedding_layer = Embedding(input_dim=3000, output_dim=100)\n",
        "\n",
        "    def clean_text(self, text):\n",
        "        cleaned_text = tf.strings.regex_replace(text, '[^a-zA-Z0-9\\s]', '')\n",
        "        cleaned_text = tf.strings.lower(cleaned_text)\n",
        "        return cleaned_text\n",
        "\n",
        "    def call(self, inputs):\n",
        "        cleaned_text = self.clean_text(inputs)\n",
        "        vectorized_text = self.vectorizer(cleaned_text)\n",
        "        embedded_text = self.embedding_layer(vectorized_text)\n",
        "        return cleaned_text\n",
        "\n",
        "\n",
        "# Example usage with a batch of texts\n",
        "batch_texts = tf.constant(type_list)\n",
        "cleaned_text_layer = TypeEncoderLayer(filtered_data)\n",
        "cleaned_batch = cleaned_text_layer.call(batch_texts)\n",
        "for i in range(len(cleaned_batch)):\n",
        "  tf.print(cleaned_batch[i])"
      ],
      "metadata": {
        "id": "oXajsrp-VOCl"
      },
      "execution_count": null,
      "outputs": []
    }
  ],
  "metadata": {
    "colab": {
      "name": "Welcome To Colab",
      "provenance": [],
      "include_colab_link": true
    },
    "kernelspec": {
      "display_name": "Python 3",
      "name": "python3"
    }
  },
  "nbformat": 4,
  "nbformat_minor": 0
}
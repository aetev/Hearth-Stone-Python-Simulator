{
  "cells": [
    {
      "cell_type": "markdown",
      "metadata": {
        "id": "view-in-github",
        "colab_type": "text"
      },
      "source": [
        "<a href=\"https://colab.research.google.com/github/aetev/Hearth-Stone-Python-Simulator/blob/main/card_enc_types.ipynb\" target=\"_parent\"><img src=\"https://colab.research.google.com/assets/colab-badge.svg\" alt=\"Open In Colab\"/></a>"
      ]
    },
    {
      "cell_type": "code",
      "source": [
        "from google.colab import drive\n",
        "drive.mount('/content/drive')"
      ],
      "metadata": {
        "colab": {
          "base_uri": "https://localhost:8080/"
        },
        "id": "3kHFncULcoGR",
        "outputId": "e17f7622-ba01-408a-9875-78b6390e902a"
      },
      "execution_count": 2,
      "outputs": [
        {
          "output_type": "stream",
          "name": "stdout",
          "text": [
            "Mounted at /content/drive\n"
          ]
        }
      ]
    },
    {
      "cell_type": "code",
      "source": [
        "import json\n",
        "import tensorflow as tf\n",
        "import re\n",
        "from tensorflow.keras.layers import Embedding, TextVectorization\n",
        "# Assuming AtomicCards.json is in your Google Drive, adjust the path if necessary\n",
        "file_path = '/content/drive/MyDrive/MTGdata/AtomicCards.json'\n",
        "\n",
        "\n",
        "with open(file_path, 'r') as f:\n",
        "  data = json.load(f)['data']"
      ],
      "metadata": {
        "id": "Mx4GYeOpd3Ka"
      },
      "execution_count": 3,
      "outputs": []
    },
    {
      "cell_type": "code",
      "source": [
        "def filter_legal_cards(data):\n",
        "    legal_commander_data = {}\n",
        "    for card_name, card_data in data.items():\n",
        "        try:\n",
        "            if card_data[0]['legalities']['commander'] == 'Legal':\n",
        "                legal_commander_data[card_name] = card_data[0] # Store only the first element of card_data\n",
        "        except (KeyError, IndexError):\n",
        "            pass  # Or print a message, log it, etc.\n",
        "    return legal_commander_data\n",
        "\n",
        "filtered_data = filter_legal_cards(data)\n"
      ],
      "metadata": {
        "id": "o9rUDffCq5X2"
      },
      "execution_count": 4,
      "outputs": []
    },
    {
      "cell_type": "code",
      "source": [
        "items = list(filtered_data.items())\n",
        "\n",
        "\n",
        "type_list = []\n",
        "for row in items[:100]:\n",
        "  second_key, second_value = row\n",
        "  if second_value['type'] != None:\n",
        "    print(second_value['type'])\n",
        "    type_list.append(second_value['type'])"
      ],
      "metadata": {
        "id": "ufpAdV25sI5x"
      },
      "execution_count": null,
      "outputs": []
    },
    {
      "cell_type": "code",
      "source": [
        "print(type_list[:150])"
      ],
      "metadata": {
        "id": "2bhKDEIfNYay",
        "outputId": "3466e2f9-7f39-42a2-e73e-9aa9e030e478",
        "colab": {
          "base_uri": "https://localhost:8080/"
        }
      },
      "execution_count": 9,
      "outputs": [
        {
          "output_type": "stream",
          "name": "stdout",
          "text": [
            "[['Creature'], ['Creature'], ['Artifact'], ['Instant'], ['Enchantment'], ['Instant'], ['Enchantment'], ['Creature'], ['Creature'], ['Creature'], ['Sorcery'], ['Instant'], ['Sorcery'], ['Land'], ['Land'], ['Artifact'], ['Creature'], ['Creature'], ['Creature'], ['Creature'], ['Creature'], ['Creature'], ['Enchantment'], ['Creature'], ['Creature'], ['Creature'], ['Instant'], ['Creature'], ['Creature'], ['Enchantment'], ['Instant'], ['Instant'], ['Creature'], ['Instant'], ['Creature'], ['Creature'], ['Creature'], ['Creature'], ['Creature'], ['Enchantment'], ['Creature'], ['Instant'], ['Instant'], ['Land'], ['Instant'], ['Enchantment'], ['Enchantment'], ['Creature'], ['Creature'], ['Instant'], ['Instant'], ['Sorcery'], ['Land'], ['Instant'], ['Creature'], ['Instant'], ['Creature'], ['Sorcery'], ['Creature'], ['Creature'], ['Instant'], ['Enchantment'], ['Enchantment'], ['Sorcery'], ['Creature'], ['Creature'], ['Creature'], ['Creature'], ['Creature'], ['Creature'], ['Creature'], ['Creature'], ['Creature'], ['Creature'], ['Instant'], ['Enchantment'], ['Artifact'], ['Creature'], ['Creature'], ['Instant'], ['Creature'], ['Creature'], ['Creature'], ['Enchantment'], ['Creature'], ['Instant'], ['Sorcery'], ['Creature'], ['Creature'], ['Creature'], ['Creature'], ['Artifact', 'Creature'], ['Creature'], ['Creature'], ['Creature'], ['Land'], ['Creature'], ['Instant'], ['Instant'], ['Sorcery']]\n"
          ]
        }
      ]
    },
    {
      "cell_type": "code",
      "source": [
        "from typing_extensions import Self\n",
        "class TypeEncoderLayer(tf.keras.layers.Layer):\n",
        "    def __init__(self,card_dict, **kwargs):\n",
        "        super(TypeEncoderLayer, self).__init__(**kwargs)\n",
        "        self.vectorizer = TextVectorization(standardize=None, output_mode='multi_hot')\n",
        "\n",
        "        type_list = [self.clean_text(types) for card_name, card_data in card_dict.items() if card_data['type'] is not None for types in card_data['type']]\n",
        "\n",
        "\n",
        "        self.vectorizer.adapt(type_list)\n",
        "        self.embedding_layer = Embedding(input_dim=3000, output_dim=100)\n",
        "\n",
        "    def clean_text(self, text):\n",
        "        cleaned_text = tf.strings.regex_replace(text, '[^a-zA-Z0-9\\s]', '')\n",
        "        cleaned_text = tf.strings.lower(cleaned_text)\n",
        "        return cleaned_text\n",
        "\n",
        "    def call(self, inputs):\n",
        "        cleaned_text = self.clean_text(inputs)\n",
        "        vectorized_text = self.vectorizer(cleaned_text)\n",
        "        embedded_text = self.embedding_layer(vectorized_text)\n",
        "        return cleaned_text\n",
        "\n",
        "\n",
        "# Example usage with a batch of texts\n",
        "batch_texts = tf.constant(type_list)\n",
        "cleaned_text_layer = TypeEncoderLayer(filtered_data)\n",
        "cleaned_batch = cleaned_text_layer.call(batch_texts)\n",
        "for i in range(len(cleaned_batch)):\n",
        "  tf.print(cleaned_batch[i])"
      ],
      "metadata": {
        "id": "oXajsrp-VOCl",
        "outputId": "004af5e1-d2ef-4ae4-c1c8-81c3db8b8032",
        "colab": {
          "base_uri": "https://localhost:8080/"
        }
      },
      "execution_count": 21,
      "outputs": [
        {
          "output_type": "stream",
          "name": "stdout",
          "text": [
            "creature  zombie guest\n",
            "creature  goblin guest\n",
            "artifact  equipment\n",
            "instant\n",
            "enchantment\n",
            "instant\n",
            "enchantment\n",
            "creature  bird rogue\n",
            "legendary creature  insect druid\n",
            "legendary creature  astartes warrior\n",
            "sorcery\n",
            "instant\n",
            "sorcery\n",
            "land\n",
            "land\n",
            "artifact\n",
            "creature  zombie\n",
            "creature  gargoyle\n",
            "creature  griffin\n",
            "creature  human cleric\n",
            "creature  human monk\n",
            "legendary creature  human warrior\n",
            "enchantment  aura\n",
            "creature  tyranid mutant\n",
            "creature  human elf shaman\n",
            "creature  human insect\n",
            "instant\n",
            "creature  eye\n",
            "creature  demon\n",
            "enchantment\n",
            "instant\n",
            "instant\n",
            "creature  fish horror\n",
            "instant\n",
            "snow creature  treefolk\n",
            "creature  horror\n",
            "creature  horror\n",
            "legendary creature  elf horror\n",
            "creature  elemental\n",
            "enchantment  aura\n",
            "legendary creature  octopus noble\n",
            "instant\n",
            "instant\n",
            "land  desert\n",
            "instant\n",
            "enchantment\n",
            "enchantment\n",
            "creature  thrull cleric\n",
            "creature  lammasu\n",
            "instant\n",
            "instant\n",
            "sorcery\n",
            "legendary land\n",
            "instant\n",
            "creature  avatar\n",
            "instant\n",
            "creature  human\n",
            "sorcery\n",
            "legendary creature  spirit\n",
            "creature  cat cleric\n",
            "instant\n",
            "enchantment\n",
            "enchantment  aura\n",
            "sorcery\n",
            "creature  eldrazi leech\n",
            "creature  horror\n",
            "creature  horror\n",
            "creature  demon warlock\n",
            "creature  horror\n",
            "creature  human assassin\n",
            "creature  nightstalker\n",
            "creature  horror\n",
            "creature  demon\n",
            "creature  specter\n",
            "instant\n",
            "enchantment\n",
            "artifact\n",
            "creature  human cleric\n",
            "creature  dog shaman\n",
            "instant\n",
            "creature  human soldier\n",
            "creature  human warrior\n",
            "creature  human warrior\n",
            "enchantment  aura\n",
            "creature  bird soldier\n",
            "instant\n",
            "sorcery  lesson\n",
            "creature  drake\n",
            "creature  human wizard\n",
            "creature  human wizard\n",
            "creature  human wizard\n",
            "artifact creature  assemblyworker\n",
            "creature  human warrior\n",
            "creature  human cleric\n",
            "creature  human wizard\n",
            "legendary land\n",
            "creature  wall\n",
            "instant\n",
            "instant\n",
            "sorcery\n"
          ]
        }
      ]
    },
    {
      "cell_type": "code",
      "source": [],
      "metadata": {
        "id": "jrW25ialUQyH"
      },
      "execution_count": null,
      "outputs": []
    },
    {
      "cell_type": "code",
      "source": [
        "print(cleaned_text_layer.vectorizer.get_vocabulary())"
      ],
      "metadata": {
        "id": "Ck0PB6l15VFJ"
      },
      "execution_count": null,
      "outputs": []
    }
  ],
  "metadata": {
    "colab": {
      "name": "Welcome To Colab",
      "provenance": [],
      "include_colab_link": true
    },
    "kernelspec": {
      "display_name": "Python 3",
      "name": "python3"
    }
  },
  "nbformat": 4,
  "nbformat_minor": 0
}
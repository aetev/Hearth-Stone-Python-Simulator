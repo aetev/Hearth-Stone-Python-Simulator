{
  "cells": [
    {
      "cell_type": "markdown",
      "metadata": {
        "id": "view-in-github",
        "colab_type": "text"
      },
      "source": [
        "<a href=\"https://colab.research.google.com/github/aetev/Hearth-Stone-Python-Simulator/blob/main/cardeval.ipynb\" target=\"_parent\"><img src=\"https://colab.research.google.com/assets/colab-badge.svg\" alt=\"Open In Colab\"/></a>"
      ]
    },
    {
      "cell_type": "code",
      "source": [
        "from enum import IntEnum, auto\n",
        "\n",
        "class CType(IntEnum):\n",
        "    CREATURE = auto()\n",
        "    INSTANT = auto()\n",
        "    SORCERY = auto()\n",
        "    ENCHANTMENT = auto()\n",
        "    ARTIFACT = auto()\n",
        "    LAND = auto()\n",
        "    PLANESWALKER = auto()\n",
        "    TRIBAL = auto()\n",
        "    MERF = auto()\n",
        "\n",
        "class CSupType(IntEnum):\n",
        "    BASIC = auto()\n",
        "    LEGENDARY = auto()\n",
        "    SNOW = auto()\n",
        "    WORLD = auto()\n",
        "\n",
        "class CRace(IntEnum):\n",
        "    ORC = auto()\n",
        "\n",
        "class CClass(IntEnum):\n",
        "    Knight = auto()\n",
        "    Soldier = auto()\n",
        "\n",
        "\n",
        "class CEffect(IntEnum):\n",
        "    ENLIST = auto()\n",
        "    DISBAND = auto()\n",
        "    FLASH = auto()\n",
        "    DISCARD = auto()\n",
        "    TOKEN = auto()\n",
        "    COUNTER = auto()"
      ],
      "metadata": {
        "id": "LGDU165WZru7"
      },
      "execution_count": 8,
      "outputs": []
    },
    {
      "cell_type": "code",
      "source": [
        "class TOKEN:\n",
        "  def __init__(self,color,type,stype,race,clas):\n",
        "    self.card_color = color\n",
        "    self.card_type = type\n",
        "    self.card_supertype = stype\n",
        "    self.card_race = race\n",
        "    self.card_class = clas"
      ],
      "metadata": {
        "id": "QCSeJVeYgauk"
      },
      "execution_count": 7,
      "outputs": []
    },
    {
      "cell_type": "code",
      "source": [
        "class argivian_cavalier:\n",
        "  def __init__(self):\n",
        "    self.card_mana = \"2W\"\n",
        "    self.card_type = CType.CREATURE\n",
        "    self.card_supertype = CSupType.BASIC\n",
        "    self.card_race = CRace.ORC\n",
        "    self.card_class = CClass.Knight\n",
        "    self.card_enter = [CEffect.ENLIST,CEffect.TOKEN]\n",
        "    self.card_token = []"
      ],
      "metadata": {
        "id": "gBPQKPIbaM50"
      },
      "execution_count": 4,
      "outputs": []
    }
  ],
  "metadata": {
    "colab": {
      "name": "Welcome To Colab",
      "provenance": [],
      "include_colab_link": true
    },
    "kernelspec": {
      "display_name": "Python 3",
      "name": "python3"
    }
  },
  "nbformat": 4,
  "nbformat_minor": 0
}
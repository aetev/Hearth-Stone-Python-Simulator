{
  "cells": [
    {
      "cell_type": "markdown",
      "metadata": {
        "id": "view-in-github",
        "colab_type": "text"
      },
      "source": [
        "<a href=\"https://colab.research.google.com/github/aetev/Hearth-Stone-Python-Simulator/blob/main/card_enc.ipynb\" target=\"_parent\"><img src=\"https://colab.research.google.com/assets/colab-badge.svg\" alt=\"Open In Colab\"/></a>"
      ]
    },
    {
      "cell_type": "code",
      "source": [
        "from google.colab import drive\n",
        "drive.mount('/content/drive')"
      ],
      "metadata": {
        "colab": {
          "base_uri": "https://localhost:8080/"
        },
        "id": "3kHFncULcoGR",
        "outputId": "6703b5c1-3790-4c51-935a-1dcdf1595b4e"
      },
      "execution_count": 1,
      "outputs": [
        {
          "output_type": "stream",
          "name": "stdout",
          "text": [
            "Mounted at /content/drive\n"
          ]
        }
      ]
    },
    {
      "cell_type": "code",
      "source": [
        "import json\n",
        "import tensorflow as tf\n",
        "import re\n",
        "from tensorflow.keras.layers import Embedding\n",
        "# Assuming AtomicCards.json is in your Google Drive, adjust the path if necessary\n",
        "file_path = '/content/drive/MyDrive/MTGdata/AtomicCards.json'\n",
        "\n",
        "\n",
        "with open(file_path, 'r') as f:\n",
        "  data = json.load(f)['data']"
      ],
      "metadata": {
        "id": "Mx4GYeOpd3Ka"
      },
      "execution_count": 73,
      "outputs": []
    },
    {
      "cell_type": "code",
      "source": [
        "def filter_legal_cards(data):\n",
        "    legal_commander_data = {}\n",
        "    for card_name, card_data in data.items():\n",
        "        try:\n",
        "            if card_data[0]['legalities']['commander'] == 'Legal':\n",
        "                legal_commander_data[card_name] = card_data[0] # Store only the first element of card_data\n",
        "        except (KeyError, IndexError):\n",
        "            pass  # Or print a message, log it, etc.\n",
        "    return legal_commander_data\n",
        "\n",
        "filtered_data = filter_legal_cards(data)\n"
      ],
      "metadata": {
        "id": "o9rUDffCq5X2"
      },
      "execution_count": 6,
      "outputs": []
    },
    {
      "cell_type": "code",
      "source": [
        "items = list(filtered_data.items())\n",
        "\n",
        "second_key, second_value = items[11]\n",
        "\n",
        "text = second_value['text']\n",
        "print(text)"
      ],
      "metadata": {
        "colab": {
          "base_uri": "https://localhost:8080/"
        },
        "id": "ufpAdV25sI5x",
        "outputId": "9dcc3866-b214-496a-95a7-8df961223e26"
      },
      "execution_count": 35,
      "outputs": [
        {
          "output_type": "stream",
          "name": "stdout",
          "text": [
            "Up to two target creatures each get +1/+0 and gain first strike until end of turn. (They deal combat damage before creatures without first strike.)\n",
            "Madness {1}{R} (If you discard this card, discard it into exile. When you do, cast it for its madness cost or put it into your graveyard.)\n"
          ]
        }
      ]
    },
    {
      "cell_type": "code",
      "source": [
        "class TextCleaningLayer(tf.keras.layers.Layer):\n",
        "    def __init__(self,sentence_list, **kwargs):\n",
        "        super(TextCleaningLayer, self).__init__(**kwargs)\n",
        "        self.vectorizer = TextVectorization(standardize=None, ngrams=2, output_mode='int',output_sequence_length=150)\n",
        "        self.vectorizer.adapt(cleaned_text(sentence_list))\n",
        "        self.embedding_layer = Embedding(input_dim=len(self.vectorizer.get_vocabulary()), output_dim=128)\n",
        "\n",
        "    def clean_text(self, text):\n",
        "        # Convert input to string tensor if it's not already\n",
        "        if not isinstance(text, tf.Tensor):\n",
        "            text = tf.convert_to_tensor(text, dtype=tf.string)\n",
        "\n",
        "        cleaned_text = tf.strings.lower(text)\n",
        "        cleaned_text = tf.strings.regex_replace(cleaned_text, '\\n', '')\n",
        "        cleaned_text = tf.strings.regex_replace(cleaned_text, '\\.', ' ')\n",
        "        cleaned_text = tf.strings.regex_replace(cleaned_text, '\\{|\\}', ' ')\n",
        "        cleaned_text = tf.strings.regex_replace(cleaned_text, '\\([^)]*\\)', '')\n",
        "        cleaned_text = tf.strings.regex_replace(cleaned_text, '[^\\w\\s+/\\-]', '')\n",
        "        cleaned_text = tf.strings.regex_replace(cleaned_text, '\\s+', ' ')\n",
        "        return cleaned_text\n",
        "\n",
        "    def call(self, inputs):\n",
        "        cleaned_text = self.clean_text(inputs)\n",
        "        vectorized_text = self.vectorizer(cleaned_text)\n",
        "        embedded_text = self.embedding_layer(vectorized_text)\n",
        "\n",
        "        return embedded_text\n",
        "\n",
        "# Example usage with a batch of texts\n",
        "batch_texts = tf.constant([text, \"hello world test\", \"Another example\"])\n",
        "cleaned_text_layer = TextCleaningLayer(batch_texts)\n",
        "cleaned_batch = cleaned_text_layer.call(batch_texts)\n",
        "cleaned_batch\n"
      ],
      "metadata": {
        "colab": {
          "base_uri": "https://localhost:8080/"
        },
        "id": "oXajsrp-VOCl",
        "outputId": "8eb294c7-4d52-4448-c66b-bfe538b941da"
      },
      "execution_count": 94,
      "outputs": [
        {
          "output_type": "execute_result",
          "data": {
            "text/plain": [
              "<tf.Tensor: shape=(3, 150, 128), dtype=float32, numpy=\n",
              "array([[[ 0.03442221, -0.04857769,  0.02555412, ...,  0.01412399,\n",
              "         -0.02930635,  0.04968167],\n",
              "        [ 0.01911649, -0.04283419,  0.03621092, ...,  0.0102464 ,\n",
              "          0.01643336, -0.01412378],\n",
              "        [ 0.01949389,  0.0229933 , -0.0164119 , ..., -0.04278576,\n",
              "          0.02948723,  0.01850884],\n",
              "        ...,\n",
              "        [ 0.01764556, -0.01266303,  0.02155865, ...,  0.02600854,\n",
              "         -0.03756747, -0.02224294],\n",
              "        [ 0.01764556, -0.01266303,  0.02155865, ...,  0.02600854,\n",
              "         -0.03756747, -0.02224294],\n",
              "        [ 0.01764556, -0.01266303,  0.02155865, ...,  0.02600854,\n",
              "         -0.03756747, -0.02224294]],\n",
              "\n",
              "       [[ 0.04492183,  0.03616545, -0.03999305, ...,  0.02049213,\n",
              "          0.03244871,  0.01279643],\n",
              "        [-0.03509737,  0.02589252,  0.00741037, ...,  0.02265997,\n",
              "         -0.02332602,  0.00409671],\n",
              "        [ 0.03693782,  0.04974368, -0.04409073, ..., -0.02781264,\n",
              "          0.01214187, -0.02115973],\n",
              "        ...,\n",
              "        [ 0.01764556, -0.01266303,  0.02155865, ...,  0.02600854,\n",
              "         -0.03756747, -0.02224294],\n",
              "        [ 0.01764556, -0.01266303,  0.02155865, ...,  0.02600854,\n",
              "         -0.03756747, -0.02224294],\n",
              "        [ 0.01764556, -0.01266303,  0.02155865, ...,  0.02600854,\n",
              "         -0.03756747, -0.02224294]],\n",
              "\n",
              "       [[-0.00612967, -0.01172038,  0.0341501 , ..., -0.00756473,\n",
              "          0.02935864,  0.04979194],\n",
              "        [ 0.04900992,  0.04108877, -0.02580057, ...,  0.0103916 ,\n",
              "          0.01746619,  0.02005196],\n",
              "        [-0.03867415, -0.01844371, -0.02267255, ..., -0.03529762,\n",
              "         -0.01184971,  0.02848336],\n",
              "        ...,\n",
              "        [ 0.01764556, -0.01266303,  0.02155865, ...,  0.02600854,\n",
              "         -0.03756747, -0.02224294],\n",
              "        [ 0.01764556, -0.01266303,  0.02155865, ...,  0.02600854,\n",
              "         -0.03756747, -0.02224294],\n",
              "        [ 0.01764556, -0.01266303,  0.02155865, ...,  0.02600854,\n",
              "         -0.03756747, -0.02224294]]], dtype=float32)>"
            ]
          },
          "metadata": {},
          "execution_count": 94
        }
      ]
    },
    {
      "cell_type": "code",
      "source": [
        "\n",
        "\n",
        "# Assuming 'vectorized_text' is defined from the previous code\n",
        "\n",
        "# Define the embedding dimension\n",
        "embedding_dim = 128  # You can adjust this value\n",
        "\n",
        "# Create the embedding layer\n",
        "embedding_layer = Embedding(input_dim=len(vectorizer.get_vocabulary()), output_dim=embedding_dim)\n",
        "\n",
        "# Embed the vectorized text\n",
        "embedded_text = embedding_layer(vectorized_text)\n",
        "\n",
        "# Print the shape of the embedded text\n",
        "print(\"Shape of embedded text:\", embedded_text.shape)\n",
        "\n",
        "# Now 'embedded_text' contains the embedded word sequences.\n",
        "embedded_text\n"
      ],
      "metadata": {
        "id": "qH7G2ebLcyDn"
      },
      "execution_count": null,
      "outputs": []
    }
  ],
  "metadata": {
    "colab": {
      "name": "Welcome To Colab",
      "provenance": [],
      "include_colab_link": true
    },
    "kernelspec": {
      "display_name": "Python 3",
      "name": "python3"
    }
  },
  "nbformat": 4,
  "nbformat_minor": 0
}
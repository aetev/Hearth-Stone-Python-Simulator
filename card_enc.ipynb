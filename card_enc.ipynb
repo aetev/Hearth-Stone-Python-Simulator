{
  "cells": [
    {
      "cell_type": "markdown",
      "metadata": {
        "id": "view-in-github",
        "colab_type": "text"
      },
      "source": [
        "<a href=\"https://colab.research.google.com/github/aetev/Hearth-Stone-Python-Simulator/blob/main/card_enc.ipynb\" target=\"_parent\"><img src=\"https://colab.research.google.com/assets/colab-badge.svg\" alt=\"Open In Colab\"/></a>"
      ]
    },
    {
      "cell_type": "code",
      "source": [
        "from google.colab import drive\n",
        "drive.mount('/content/drive')"
      ],
      "metadata": {
        "colab": {
          "base_uri": "https://localhost:8080/"
        },
        "id": "3kHFncULcoGR",
        "outputId": "df6a98f6-1ce1-40d0-9610-7917be9a2da9"
      },
      "execution_count": 142,
      "outputs": [
        {
          "output_type": "stream",
          "name": "stdout",
          "text": [
            "Drive already mounted at /content/drive; to attempt to forcibly remount, call drive.mount(\"/content/drive\", force_remount=True).\n"
          ]
        }
      ]
    },
    {
      "cell_type": "code",
      "source": [
        "import json\n",
        "import tensorflow as tf\n",
        "import re\n",
        "from tensorflow.keras.layers import Embedding, TextVectorization\n",
        "# Assuming AtomicCards.json is in your Google Drive, adjust the path if necessary\n",
        "file_path = '/content/drive/MyDrive/MTGdata/AtomicCards.json'\n",
        "\n",
        "\n",
        "with open(file_path, 'r') as f:\n",
        "  data = json.load(f)['data']"
      ],
      "metadata": {
        "id": "Mx4GYeOpd3Ka"
      },
      "execution_count": 143,
      "outputs": []
    },
    {
      "cell_type": "code",
      "source": [
        "def filter_legal_cards(data):\n",
        "    legal_commander_data = {}\n",
        "    for card_name, card_data in data.items():\n",
        "        try:\n",
        "            if card_data[0]['legalities']['commander'] == 'Legal':\n",
        "                legal_commander_data[card_name] = card_data[0] # Store only the first element of card_data\n",
        "        except (KeyError, IndexError):\n",
        "            pass  # Or print a message, log it, etc.\n",
        "    return legal_commander_data\n",
        "\n",
        "filtered_data = filter_legal_cards(data)\n"
      ],
      "metadata": {
        "id": "o9rUDffCq5X2"
      },
      "execution_count": 144,
      "outputs": []
    },
    {
      "cell_type": "code",
      "source": [
        "items = list(filtered_data.items())\n",
        "\n",
        "text_list = []\n",
        "for row in items[:100]:\n",
        "  second_key, second_value = row\n",
        "  if second_value['text'] != None:\n",
        "    text_list.append(second_value['text'])\n"
      ],
      "metadata": {
        "id": "ufpAdV25sI5x"
      },
      "execution_count": 203,
      "outputs": []
    },
    {
      "cell_type": "code",
      "source": [
        "class TextCleaningLayer(tf.keras.layers.Layer):\n",
        "    def __init__(self,sentence_list, **kwargs):\n",
        "        super(TextCleaningLayer, self).__init__(**kwargs)\n",
        "        self.vectorizer = TextVectorization(standardize=None, output_mode='int',output_sequence_length=150)\n",
        "        self.vectorizer.adapt(self.clean_text(sentence_list))\n",
        "        self.embedding_layer = Embedding(input_dim=3000, output_dim=100)\n",
        "\n",
        "    def clean_text(self, text):\n",
        "\n",
        "        #text = card['text']\n",
        "        #card_name = card['name']\n",
        "\n",
        "\n",
        "        # Convert input to string tensor if it's not already\n",
        "        if not isinstance(text, tf.Tensor):\n",
        "            text = tf.convert_to_tensor(text, dtype=tf.string)\n",
        "\n",
        "        cleaned_text = tf.strings.lower(text)\n",
        "        cleaned_text = tf.strings.regex_replace(cleaned_text, '\\n', ' ')\n",
        "        cleaned_text = tf.strings.regex_replace(cleaned_text, '[\\/\\.]', ' ')\n",
        "        cleaned_text = tf.strings.regex_replace(cleaned_text, '[\\\"—\"]', ' ')\n",
        "        cleaned_text = tf.strings.regex_replace(cleaned_text, '\\{|\\}', ' ')\n",
        "        cleaned_text = tf.strings.regex_replace(cleaned_text, '\\([^)]*\\)', '')\n",
        "        cleaned_text = tf.strings.regex_replace(cleaned_text, '[^\\w\\s+/\\-]', '')\n",
        "        cleaned_text = tf.strings.regex_replace(cleaned_text, '\\s+', ' ')\n",
        "        return cleaned_text\n",
        "\n",
        "    def call(self, inputs):\n",
        "        cleaned_text = self.clean_text(inputs)\n",
        "        vectorized_text = self.vectorizer(cleaned_text)\n",
        "        embedded_text = self.embedding_layer(vectorized_text)\n",
        "        return cleaned_text\n",
        "\n",
        "\n",
        "# Example usage with a batch of texts\n",
        "batch_texts = tf.constant(text_list)\n",
        "cleaned_text_layer = TextCleaningLayer(batch_texts)\n",
        "cleaned_batch = cleaned_text_layer.call(batch_texts)\n",
        "for i in range(len(cleaned_batch)):\n",
        "  tf.print(cleaned_batch[i])\n",
        "\n",
        "\n"
      ],
      "metadata": {
        "colab": {
          "base_uri": "https://localhost:8080/"
        },
        "id": "oXajsrp-VOCl",
        "outputId": "49e7360d-f088-4123-caa9-0457e45559b1"
      },
      "execution_count": 204,
      "outputs": [
        {
          "output_type": "stream",
          "name": "stdout",
          "text": [
            "this creature enters tapped when this creature dies open an attraction whenever you roll to visit your attractions if you roll a 6 you may return this card from your graveyard to the battlefield \n",
            "when this creature enters from anywhere other than a graveyard or exile if its on the battlefield and you control 9 or fewer creatures named name sticker goblin roll a 20-sided die 1-6 add r r r r 7-14 add r r r r r 15-20 add r r r r r r \n",
            "equipped creature gets +2 +2 equip 3 \n",
            "tap up to two target creatures whenever you put a name sticker on a creature you may return this card from your graveyard to your hand \n",
            "when this enchantment enters create a 1 1 white human creature token a 1 1 blue merfolk creature token and a 1 1 red goblin creature token then secretly choose human merfolk or goblin sacrifice this enchantment reveal the creature type you chose if target attacking creature token is the chosen type put three +1 +1 counters on it and it gains deathtouch until end of turn \n",
            "casualty 1 look at the top two cards of your library put one of them into your hand and the other on the bottom of your library \n",
            "enchanted creatures you control get +2 +2 \n",
            "flying when this creature enters you take the initiative \n",
            "when aatchik enters create a 1 1 green insect creature token for each artifact and or creature card in your graveyard whenever another insect you control dies put a +1 +1 counter on aatchik each opponent loses 1 life \n",
            "trample mark of chaos ascendant during your turn spells you cast from your hand with mana value x or less have cascade where x is the total amount of life your opponents have lost this turn \n",
            "as an additional cost to cast this spell discard x cards look at target opponents hand and choose x cards from it that player discards those cards \n",
            "up to two target creatures each get +1 +0 and gain first strike until end of turn madness 1 r \n",
            "up to two target creatures cant block this turn flashback 3 r \n",
            "this land enters tapped unless a player has 13 or less life t add w or u \n",
            "this land enters tapped t add w t sacrifice this land add one mana of any color \n",
            "you may cast spells that have a cycling ability from your graveyard if a card that has a cycling ability would be put into your graveyard from anywhere and it wasnt cycled exile it instead \n",
            "first strike whenever a creature dealt damage by this creature this turn dies you gain life equal to that creatures toughness \n",
            "flying protection from red\n",
            "flying vigilance\n",
            " w t this creature gets +0 +3 until end of turn \n",
            "prowess when this creature enters exile the top card of your library until end of turn you may play that card \n",
            "when abdel adrian enters exile any number of other nonland permanents you control until abdel adrian leaves the battlefield create a 1 1 white soldier creature token for each permanent exiled this way choose a background \n",
            "enchant creature when this aura enters untap enchanted creature you control enchanted creature when enchanted creature dies return that card to the battlefield under its owners control \n",
            "ravenous trample heavy power hammer whenever this creature deals combat damage to a player destroy target artifact or enchantment that player controls \n",
            "psionic spells when this creature enters choose target instant or sorcery card in your graveyard then roll a d20 1 9 you may put that card on top of your library 10 20 return that card to your hand \n",
            "flying at the beginning of your upkeep mill a card if an instant or sorcery card was milled this way transform this creature \n",
            "until end of turn target player cant cast instant or sorcery spells and that player cant activate abilities that arent mana abilities draw a card \n",
            "as an additional cost to cast this spell exile six cards from your graveyard flying at the beginning of each opponents upkeep manifest dread \n",
            "flying when this creature enters create a number of 1 1 black harpy creature tokens with flying equal to your devotion to black at the beginning of your upkeep sacrifice a creature \n",
            "at the beginning of your end step choose one you gain 1 life return target creature card with mana value 1 from your graveyard to the battlefield \n",
            "as an additional cost to cast this spell sacrifice a blue permanent counter target spell \n",
            "until end of turn target creature gets +2 +0 and gains when this creature dies return it to the battlefield tapped under its owners control \n",
            "flash ward 2 probing telepathy whenever a creature entering under an opponents control causes a triggered ability of that creature to trigger you may copy that ability you may choose new targets for the copy \n",
            "you may discard a plains card rather than pay this spells mana cost destroy target artifact or enchantment \n",
            "trample abominable treefolks power and toughness are each equal to the number of snow permanents you control when this creature enters tap target creature an opponent controls that creature doesnt untap during its controllers next untap step \n",
            "whenever this creature blocks or becomes blocked by a green or white creature destroy that creature at end of combat \n",
            "flying whenever this creature deals combat damage to a player you may draw a card if you do discard a card morph 2 b g u \n",
            "vigilance menace abomination of llanowars power and toughness are each equal to the number of elves you control plus the number of elf cards in your graveyard \n",
            "cumulative upkeep put a -1 -1 counter on this creature \n",
            "enchant creature enchanted creature has flying threshold enchanted creature has shroud as long as seven or more cards are in your graveyard \n",
            "tap an untapped octopus you control tap target permanent u u u tap all creatures without flying \n",
            "switch target creatures power and toughness until end of turn \n",
            "choose one abrade deals 3 damage to target creature destroy target artifact \n",
            "this land enters tapped when this land enters it deals 1 damage to target opponent t add r or w \n",
            "this spell cant be countered destroy target nonland permanent with mana value 3 or less \n",
            "all creatures have protection from black \n",
            "all creatures have protection from red \n",
            "haunt when this creature enters or the creature it haunts dies destroy target enchantment \n",
            "flying when this creature enters all suspected creatures are no longer suspected when this creature dies you gain 3 life and suspect up to one target creature an opponent controls \n",
            "counter target spell you gain 3 life \n",
            "return target creature to its owners hand you may have shapeshifters you control become copies of that creature until end of turn \n",
            "target player loses 4 life and you gain 4 life basic landcycling 1 b \n",
            " t add c 1 t add one mana of any color 3 t exile abstergo entertainment return up to one target historic card from your graveyard to your hand then exile all graveyards \n",
            "devoid exile target nonland permanent you may cast that card for as long as it remains exiled and you may spend colorless mana as though it were mana of any color to cast that spell \n",
            "vigilance 1 t copy target activated or triggered ability you control from a colorless source you may choose new targets for the copy \n",
            "devoid counter target spell unless its controller pays 1 you create a 1 1 colorless eldrazi scion creature token it has sacrifice this token add c \n",
            "when this creature dies destroy all creatures blocking or blocked by it they cant be regenerated \n",
            "return target artifact or non-aura enchantment card from your graveyard to the battlefield with x additional +1 +1 counters on it its a 1 1 spirit creature with flying in addition to its other types \n",
            "flying ward 2 1 w u exile another target creature or artifact you control return it to the battlefield under its owners control at the beginning of the next end step \n",
            " t prevent the next 1 damage that would be dealt to any target this turn t prevent the next 2 damage that would be dealt to target artifact creature this turn \n",
            "choose one you gain 5 life prevent the next 5 damage that would be dealt to target creature this turn entwine 2 \n",
            "if you would draw a card you may instead choose land or nonland and reveal cards from the top of your library until you reveal a card of the chosen kind put that card into your hand and put all other cards revealed this way on the bottom of your library in any order \n",
            "enchant land when this aura enters draw a card enchanted land has t add one mana of any color \n",
            "choose land or nonland reveal cards from the top of your library until you reveal a card of the chosen kind put that card into your hand and the rest on the bottom of your library in a random order \n",
            "emerge 6 b when you cast this spell target opponent loses 3 life and you gain 3 life \n",
            "when this creature dies each player sacrifices a creature of their choice \n",
            "when this creature enters each player sacrifices two creatures of their choice \n",
            " t exile target creature card from a graveyard that was put there this turn create a token thats a copy of it except its a nightmare in addition to its other types then exile all other nightmare tokens you control \n",
            "flying when this creature enters target player discards two cards \n",
            " b t tap target creature this creature deals damage equal to its power to that creature \n",
            "whenever this creature attacks and isnt blocked defending player discards a card \n",
            "whenever an opponent discards a card this creature gets +2 +2 and gains fear until end of turn \n",
            "flying trample you cant win the game and your opponents cant lose the game \n",
            "flying whenever this creature deals damage to a player that player discards a card \n",
            "target player sacrifices an enchantment of their choice bolster 1 \n",
            "when this enchantment enters put a +1 +1 counter on each creature you control whenever a nontoken creature you control dies create a 1 1 white spirit creature token with flying \n",
            " t add w b or g w b g t sacrifice this artifact draw a card \n",
            "outlast w each creature you control with a +1 +1 counter on it has lifelink \n",
            "at the beginning of your upkeep draw a card if you control the creature with the greatest toughness or tied for the greatest toughness \n",
            "choose one exile target creature with power 3 or greater you draw two cards and you lose 2 life distribute two +1 +1 counters among one or two target creatures \n",
            "outlast w each creature you control with a +1 +1 counter on it has flying \n",
            "lifelink morph 2 w b g \n",
            "this creature has lifelink as long as you control a white or black permanent \n",
            "enchant creature enchanted creature gets +2 +2 enchanted creature has vigilance as long as you control a black or green permanent \n",
            "flying when this creature dies bolster 2 \n",
            "target creature blocks this turn if able you may have it gain reach until end of turn learn \n",
            "choose one choose a nonland card name opponents cant cast spells with the chosen name until your next turn choose target nonland permanent until your next turn it cant attack or block and its activated abilities cant be activated \n",
            "kicker 4 flying if this creature was kicked it enters with two +1 +1 counters on it \n",
            "this creature enters with x +1 +1 counters on it where x is the number of instant and sorcery cards in all graveyards 2 u remove a +1 +1 counter from this creature draw a card then discard a card \n",
            "this spell costs 1 less to cast if you control a wizard when this creature enters return target creature an opponent controls to its owners hand \n",
            "at the beginning of each players draw step that player may draw an additional card if they do spells they cast this turn cost 2 more to cast \n",
            "if you would create a clue food or treasure token instead create one of each \n",
            "intimidate whenever this creature deals combat damage to a player you may discard a card if you do draw a card \n",
            "when this creature dies you may exile it if you do search your library for an enchantment card put that card onto the battlefield then shuffle \n",
            "when this creature enters you may put an aura card from your hand onto the battlefield attached to this creature \n",
            " t add c 1 u t put target artifact card from your graveyard on top of your library \n",
            "defender whenever you cast an instant or sorcery spell you may draw a card if you do discard a card this ability triggers only once each turn \n",
            "target creature gains haste until end of turn draw a card \n",
            "target creature gets +x +x until end of turn where x is the highest mana value among permanents you control \n",
            "as an additional cost to cast this spell discard a card at random acceptable losses deals 5 damage to target creature \n"
          ]
        }
      ]
    },
    {
      "cell_type": "code",
      "source": [
        "print(cleaned_text_layer.vectorizer.get_vocabulary())"
      ],
      "metadata": {
        "colab": {
          "base_uri": "https://localhost:8080/"
        },
        "id": "Ck0PB6l15VFJ",
        "outputId": "b9f8b40e-c94d-4c65-9611-46c2031414b8"
      },
      "execution_count": 205,
      "outputs": [
        {
          "output_type": "stream",
          "name": "stdout",
          "text": [
            "['', '[UNK]', 'creature', 'this', 'a', 'you', 'of', 'the', 'target', 'card', 'to', 'your', '1', 'or', 'when', 'that', 'and', 'turn', 'enters', 'control', 'it', 'from', '+1', 'may', 'flying', 't', 'r', 'until', 'player', 'an', 'on', 'if', 'put', 'graveyard', 'end', 'each', 'choose', 'cast', 'with', 'whenever', 'its', 'creatures', 'one', 'life', 'exile', 'draw', 'cards', 'as', 'add', 'spell', 'dies', 'damage', 'token', 'return', 'mana', 'hand', 'at', 'w', 'two', 'library', 'has', 'cant', 'battlefield', '3', '2', 'land', 'in', 'gain', 'enchantment', 'enchanted', 'create', 'counter', 'artifact', 'all', '+2', 'x', 'u', 'permanent', 'deals', 'spells', 'other', 'opponent', 'nonland', 'next', 'have', 'for', 'discard', 'destroy', 'beginning', 'be', 'b', 'any', 'would', 'toughness', 'top', 'then', 'tap', 'sacrifice', 'power', 'opponents', 'number', 'gets', 'cost', 'additional', 'ability', 'white', 'upkeep', 'up', 'tapped', 'sorcery', 'reveal', 'owners', 'instant', 'equal', 'do', 'discards', 'counters', 'copy', 'black', 'vigilance', 'value', 'under', 'trample', 'step', 'roll', 'name', 'long', 'less', 'is', 'into', 'gains', 'g', 'enchant', 'dealt', 'controls', 'combat', 'color', 'chosen', 'are', 'where', 'way', 'was', 'untap', 'they', 'their', 'sacrifices', 'red', 'protection', 'prevent', 'permanents', 'loses', 'lifelink', 'instead', 'green', 'goblin', 'colorless', 'choice', 'c', 'by', 'bottom', 'blocked', 'aura', 'activated', 'abilities', '5', '4', '+0', 'ward', 'unless', 'types', 'type', 'triggered', 'tokens', 'than', 'targets', 'suspected', 'strike', 'sticker', 'spirit', 'random', 'outlast', 'order', 'onto', 'nightmare', 'new', 'morph', 'more', 'merfolk', 'lose', 'look', 'kind', 'insect', 'human', 'greatest', 'graveyards', 'get', 'game', 'first', 'exiled', 'during', 'devoid', 'cycling', 'bolster', 'blue', 'blocks', 'block', 'anywhere', 'another', 'among', 'adrian', 'addition', 'abdel', 'aatchik', '9', '6', '-1', '+x', 'wizard', 'without', 'win', 'were', 'wasnt', 'visit', 'untapped', 'triggers', 'trigger', 'treefolks', 'treasure', 'transform', 'total', 'tied', 'threshold', 'three', 'though', 'those', 'there', 'them', 'thats', 'telepathy', 'take', 'switch', 'suspect', 'spend', 'source', 'soldier', 'snow', 'six', 'shuffle', 'shroud', 'shapeshifters', 'seven', 'secretly', 'search', 'scion', 'revealed', 'rest', 'remove', 'remains', 'regenerated', 'reach', 'ravenous', 'rather', 'psionic', 'prowess', 'probing', 'plus', 'players', 'play', 'plains', 'pays', 'pay', 'open', 'only', 'once', 'octopus', 'nontoken', 'non-aura', 'no', 'named', 'milled', 'mill', 'menace', 'mark', 'manifest', 'madness', 'lost', 'losses', 'longer', 'llanowars', 'leaves', 'learn', 'landcycling', 'kicker', 'kicked', 'isnt', 'intimidate', 'initiative', 'historic', 'highest', 'heavy', 'haunts', 'haunt', 'haste', 'harpy', 'hammer', 'greater', 'food', 'flashback', 'flash', 'fewer', 'fear', 'except', 'equipped', 'equip', 'entwine', 'entertainment', 'entering', 'emerge', 'elves', 'elf', 'eldrazi', 'dread', 'doesnt', 'distribute', 'die', 'devotion', 'defending', 'defender', 'deathtouch', 'd20', 'cycled', 'cumulative', 'countered', 'costs', 'copies', 'controllers', 'controller', 'clue', 'chose', 'chaos', 'causes', 'casualty', 'cascade', 'blocking', 'becomes', 'become', 'basic', 'background', 'attractions', 'attraction', 'attacks', 'attacking', 'attack', 'attached', 'ascendant', 'arent', 'amount', 'activate', 'acceptable', 'abstergo', 'abrade', 'abomination', 'abominable', 'able', '7-14', '20-sided', '20', '15-20', '13', '10', '1-6', '+3']\n"
          ]
        }
      ]
    }
  ],
  "metadata": {
    "colab": {
      "name": "Welcome To Colab",
      "provenance": [],
      "include_colab_link": true
    },
    "kernelspec": {
      "display_name": "Python 3",
      "name": "python3"
    }
  },
  "nbformat": 4,
  "nbformat_minor": 0
}
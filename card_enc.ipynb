{
  "cells": [
    {
      "cell_type": "markdown",
      "metadata": {
        "id": "view-in-github",
        "colab_type": "text"
      },
      "source": [
        "<a href=\"https://colab.research.google.com/github/aetev/Hearth-Stone-Python-Simulator/blob/main/card_enc.ipynb\" target=\"_parent\"><img src=\"https://colab.research.google.com/assets/colab-badge.svg\" alt=\"Open In Colab\"/></a>"
      ]
    },
    {
      "cell_type": "code",
      "source": [
        "from google.colab import drive\n",
        "drive.mount('/content/drive')"
      ],
      "metadata": {
        "colab": {
          "base_uri": "https://localhost:8080/"
        },
        "id": "3kHFncULcoGR",
        "outputId": "6703b5c1-3790-4c51-935a-1dcdf1595b4e"
      },
      "execution_count": 1,
      "outputs": [
        {
          "output_type": "stream",
          "name": "stdout",
          "text": [
            "Mounted at /content/drive\n"
          ]
        }
      ]
    },
    {
      "cell_type": "code",
      "source": [
        "import json\n",
        "import tensorflow as tf\n",
        "import re\n",
        "from tensorflow.keras.layers import Embedding\n",
        "# Assuming AtomicCards.json is in your Google Drive, adjust the path if necessary\n",
        "file_path = '/content/drive/MyDrive/MTGdata/AtomicCards.json'\n",
        "\n",
        "\n",
        "with open(file_path, 'r') as f:\n",
        "  data = json.load(f)['data']"
      ],
      "metadata": {
        "id": "Mx4GYeOpd3Ka"
      },
      "execution_count": 73,
      "outputs": []
    },
    {
      "cell_type": "code",
      "source": [
        "def filter_legal_cards(data):\n",
        "    legal_commander_data = {}\n",
        "    for card_name, card_data in data.items():\n",
        "        try:\n",
        "            if card_data[0]['legalities']['commander'] == 'Legal':\n",
        "                legal_commander_data[card_name] = card_data[0] # Store only the first element of card_data\n",
        "        except (KeyError, IndexError):\n",
        "            pass  # Or print a message, log it, etc.\n",
        "    return legal_commander_data\n",
        "\n",
        "filtered_data = filter_legal_cards(data)\n"
      ],
      "metadata": {
        "id": "o9rUDffCq5X2"
      },
      "execution_count": 6,
      "outputs": []
    },
    {
      "cell_type": "code",
      "source": [
        "items = list(filtered_data.items())\n",
        "\n",
        "second_key, second_value = items[11]\n",
        "\n",
        "text = second_value['text']\n",
        "print(text)"
      ],
      "metadata": {
        "colab": {
          "base_uri": "https://localhost:8080/"
        },
        "id": "ufpAdV25sI5x",
        "outputId": "9dcc3866-b214-496a-95a7-8df961223e26"
      },
      "execution_count": 35,
      "outputs": [
        {
          "output_type": "stream",
          "name": "stdout",
          "text": [
            "Up to two target creatures each get +1/+0 and gain first strike until end of turn. (They deal combat damage before creatures without first strike.)\n",
            "Madness {1}{R} (If you discard this card, discard it into exile. When you do, cast it for its madness cost or put it into your graveyard.)\n"
          ]
        }
      ]
    },
    {
      "cell_type": "code",
      "source": [
        "class TextCleaningLayer(tf.keras.layers.Layer):\n",
        "    def __init__(self, **kwargs):\n",
        "        super(TextCleaningLayer, self).__init__(**kwargs)\n",
        "\n",
        "    def call(self, inputs):\n",
        "        # Convert input to string if it's not already\n",
        "        if not isinstance(inputs, tf.Tensor):\n",
        "           inputs = tf.convert_to_tensor(inputs, dtype=tf.string)\n",
        "\n",
        "        # 1. Lowercase the text\n",
        "        cleaned_text = tf.strings.lower(inputs)\n",
        "\n",
        "        # 2. Remove special characters (except for spaces + - /)\n",
        "\n",
        "        cleaned_text = tf.strings.regex_replace(cleaned_text, '\\n', '')\n",
        "        cleaned_text = tf.strings.regex_replace(cleaned_text, '\\.', ' ')\n",
        "        cleaned_text = tf.strings.regex_replace(cleaned_text, '\\{|\\}', ' ')\n",
        "        cleaned_text = tf.strings.regex_replace(cleaned_text, '\\([^)]*\\)', '')\n",
        "        cleaned_text = tf.strings.regex_replace(cleaned_text, '[^\\w\\s+/\\-]', '')\n",
        "        cleaned_text = tf.strings.regex_replace(cleaned_text, '\\s+', ' ')\n",
        "\n",
        "        return cleaned_text\n",
        "\n",
        "cleaned_text = TextCleaningLayer()\n",
        "print(text)\n",
        "print(cleaned_text.call(text))"
      ],
      "metadata": {
        "colab": {
          "base_uri": "https://localhost:8080/"
        },
        "id": "FwwnBtatMbIb",
        "outputId": "4e506b9b-6624-4295-b9ed-0a38d403f76a"
      },
      "execution_count": 64,
      "outputs": [
        {
          "output_type": "stream",
          "name": "stdout",
          "text": [
            "Up to two target creatures each get +1/+0 and gain first strike until end of turn. (They deal combat damage before creatures without first strike.)\n",
            "Madness {1}{R} (If you discard this card, discard it into exile. When you do, cast it for its madness cost or put it into your graveyard.)\n",
            "tf.Tensor(b'up to two target creatures each get +1/+0 and gain first strike until end of turn madness 1 r ', shape=(), dtype=string)\n"
          ]
        }
      ]
    },
    {
      "cell_type": "code",
      "source": [
        "# prompt: apply text vectorization to an input with ngram use multihot encoding\n",
        "\n",
        "from tensorflow.keras.layers import TextVectorization\n",
        "\n",
        "# Define the ngrams and output_mode\n",
        "ngrams = 2\n",
        "output_mode = \"int\"\n",
        "\n",
        "vectorizer = TextVectorization(standardize=None, ngrams=ngrams, output_mode=output_mode,output_sequence_length=100)\n",
        "\n",
        "# Adapt the vectorizer to the cleaned text\n",
        "vectorizer.adapt([cleaned_text.call(text)])\n",
        "\n",
        "# Vectorize the cleaned text\n",
        "vectorized_text = vectorizer(cleaned_text.call(text))\n",
        "\n",
        "# Print the vocabulary\n",
        "print(\"Vocabulary:\", vectorizer.get_vocabulary())\n",
        "vectorized_text\n",
        "\n",
        "embed_lyer = Embedding(input_dim=len(vectorizer.get_vocabulary()), output_dim=128)\n",
        "embedded_text = embed_lyer(vectorized_text)\n",
        "embedded_text\n"
      ],
      "metadata": {
        "colab": {
          "base_uri": "https://localhost:8080/"
        },
        "id": "oXajsrp-VOCl",
        "outputId": "ee2aa923-8c08-4db8-fa4b-5615644dc99a"
      },
      "execution_count": 74,
      "outputs": [
        {
          "output_type": "stream",
          "name": "stdout",
          "text": [
            "Vocabulary: ['', '[UNK]', 'up to', 'up', 'until end', 'until', 'two target', 'two', 'turn madness', 'turn', 'to two', 'to', 'target creatures', 'target', 'strike until', 'strike', 'r', 'of turn', 'of', 'madness 1', 'madness', 'get +1/+0', 'get', 'gain first', 'gain', 'first strike', 'first', 'end of', 'end', 'each get', 'each', 'creatures each', 'creatures', 'and gain', 'and', '1 r', '1', '+1/+0 and', '+1/+0']\n"
          ]
        },
        {
          "output_type": "execute_result",
          "data": {
            "text/plain": [
              "<tf.Tensor: shape=(100, 128), dtype=float32, numpy=\n",
              "array([[-0.00860237,  0.04610213,  0.02143567, ...,  0.04576937,\n",
              "        -0.0411425 ,  0.0271963 ],\n",
              "       [ 0.03436023,  0.04108   , -0.02913995, ..., -0.00946604,\n",
              "        -0.00472809,  0.01825922],\n",
              "       [-0.0049292 ,  0.03479016,  0.00176198, ..., -0.00337444,\n",
              "         0.02922377, -0.01973475],\n",
              "       ...,\n",
              "       [ 0.03339234, -0.03574512,  0.01823808, ..., -0.01043279,\n",
              "         0.01446059,  0.00075433],\n",
              "       [ 0.03339234, -0.03574512,  0.01823808, ..., -0.01043279,\n",
              "         0.01446059,  0.00075433],\n",
              "       [ 0.03339234, -0.03574512,  0.01823808, ..., -0.01043279,\n",
              "         0.01446059,  0.00075433]], dtype=float32)>"
            ]
          },
          "metadata": {},
          "execution_count": 74
        }
      ]
    },
    {
      "cell_type": "code",
      "source": [
        "\n",
        "\n",
        "# Assuming 'vectorized_text' is defined from the previous code\n",
        "\n",
        "# Define the embedding dimension\n",
        "embedding_dim = 128  # You can adjust this value\n",
        "\n",
        "# Create the embedding layer\n",
        "embedding_layer = Embedding(input_dim=len(vectorizer.get_vocabulary()), output_dim=embedding_dim)\n",
        "\n",
        "# Embed the vectorized text\n",
        "embedded_text = embedding_layer(vectorized_text)\n",
        "\n",
        "# Print the shape of the embedded text\n",
        "print(\"Shape of embedded text:\", embedded_text.shape)\n",
        "\n",
        "# Now 'embedded_text' contains the embedded word sequences.\n",
        "embedded_text\n"
      ],
      "metadata": {
        "id": "qH7G2ebLcyDn"
      },
      "execution_count": null,
      "outputs": []
    }
  ],
  "metadata": {
    "colab": {
      "name": "Welcome To Colab",
      "provenance": [],
      "include_colab_link": true
    },
    "kernelspec": {
      "display_name": "Python 3",
      "name": "python3"
    }
  },
  "nbformat": 4,
  "nbformat_minor": 0
}
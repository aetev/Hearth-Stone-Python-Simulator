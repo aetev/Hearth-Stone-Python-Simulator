{
  "cells": [
    {
      "cell_type": "markdown",
      "metadata": {
        "id": "view-in-github",
        "colab_type": "text"
      },
      "source": [
        "<a href=\"https://colab.research.google.com/github/aetev/Hearth-Stone-Python-Simulator/blob/main/card_enc.ipynb\" target=\"_parent\"><img src=\"https://colab.research.google.com/assets/colab-badge.svg\" alt=\"Open In Colab\"/></a>"
      ]
    },
    {
      "cell_type": "code",
      "source": [
        "from google.colab import drive\n",
        "drive.mount('/content/drive')"
      ],
      "metadata": {
        "colab": {
          "base_uri": "https://localhost:8080/"
        },
        "id": "3kHFncULcoGR",
        "outputId": "6703b5c1-3790-4c51-935a-1dcdf1595b4e"
      },
      "execution_count": 1,
      "outputs": [
        {
          "output_type": "stream",
          "name": "stdout",
          "text": [
            "Mounted at /content/drive\n"
          ]
        }
      ]
    },
    {
      "cell_type": "code",
      "source": [
        "import json\n",
        "import tensorflow as tf\n",
        "import re\n",
        "from tensorflow.keras.layers import Embedding\n",
        "# Assuming AtomicCards.json is in your Google Drive, adjust the path if necessary\n",
        "file_path = '/content/drive/MyDrive/MTGdata/AtomicCards.json'\n",
        "\n",
        "\n",
        "with open(file_path, 'r') as f:\n",
        "  data = json.load(f)['data']"
      ],
      "metadata": {
        "id": "Mx4GYeOpd3Ka"
      },
      "execution_count": 73,
      "outputs": []
    },
    {
      "cell_type": "code",
      "source": [
        "def filter_legal_cards(data):\n",
        "    legal_commander_data = {}\n",
        "    for card_name, card_data in data.items():\n",
        "        try:\n",
        "            if card_data[0]['legalities']['commander'] == 'Legal':\n",
        "                legal_commander_data[card_name] = card_data[0] # Store only the first element of card_data\n",
        "        except (KeyError, IndexError):\n",
        "            pass  # Or print a message, log it, etc.\n",
        "    return legal_commander_data\n",
        "\n",
        "filtered_data = filter_legal_cards(data)\n"
      ],
      "metadata": {
        "id": "o9rUDffCq5X2"
      },
      "execution_count": 6,
      "outputs": []
    },
    {
      "cell_type": "code",
      "source": [
        "items = list(filtered_data.items())\n",
        "\n",
        "second_key, second_value = items[11]\n",
        "\n",
        "text = second_value['text']\n",
        "print(text)"
      ],
      "metadata": {
        "colab": {
          "base_uri": "https://localhost:8080/"
        },
        "id": "ufpAdV25sI5x",
        "outputId": "9dcc3866-b214-496a-95a7-8df961223e26"
      },
      "execution_count": 35,
      "outputs": [
        {
          "output_type": "stream",
          "name": "stdout",
          "text": [
            "Up to two target creatures each get +1/+0 and gain first strike until end of turn. (They deal combat damage before creatures without first strike.)\n",
            "Madness {1}{R} (If you discard this card, discard it into exile. When you do, cast it for its madness cost or put it into your graveyard.)\n"
          ]
        }
      ]
    },
    {
      "cell_type": "code",
      "source": [
        "class TextCleaningLayer(tf.keras.layers.Layer):\n",
        "    def __init__(self,sentence_list, **kwargs):\n",
        "        super(TextCleaningLayer, self).__init__(**kwargs)\n",
        "        self.vectorizer = TextVectorization(standardize=None, ngrams=2, output_mode='int',output_sequence_length=150)\n",
        "        self.vectorizer.adapt(cleaned_text(sentence_list))\n",
        "        self.embedding_layer = Embedding(input_dim=len(self.vectorizer.get_vocabulary()), output_dim=128)\n",
        "\n",
        "    def clean_text(self, text):\n",
        "        # Convert input to string tensor if it's not already\n",
        "        if not isinstance(text, tf.Tensor):\n",
        "            text = tf.convert_to_tensor(text, dtype=tf.string)\n",
        "\n",
        "        cleaned_text = tf.strings.lower(text)\n",
        "        cleaned_text = tf.strings.regex_replace(cleaned_text, '\\n', '')\n",
        "        cleaned_text = tf.strings.regex_replace(cleaned_text, '\\.', ' ')\n",
        "        cleaned_text = tf.strings.regex_replace(cleaned_text, '\\{|\\}', ' ')\n",
        "        cleaned_text = tf.strings.regex_replace(cleaned_text, '\\([^)]*\\)', '')\n",
        "        cleaned_text = tf.strings.regex_replace(cleaned_text, '[^\\w\\s+/\\-]', '')\n",
        "        cleaned_text = tf.strings.regex_replace(cleaned_text, '\\s+', ' ')\n",
        "        return cleaned_text\n",
        "\n",
        "    def call(self, inputs):\n",
        "        cleaned_text = self.clean_text(inputs)\n",
        "        vectorized_text = self.vectorizer(cleaned_text)\n",
        "        embedded_text = self.embedding_layer(vectorized_text)\n",
        "\n",
        "        return embedded_text\n",
        "\n",
        "# Example usage with a batch of texts\n",
        "batch_texts = tf.constant([text, \"hello world test\", \"Another example\"])\n",
        "cleaned_text_layer = TextCleaningLayer(batch_texts)\n",
        "cleaned_batch = cleaned_text_layer.call(batch_texts)\n",
        "cleaned_batch\n"
      ],
      "metadata": {
        "colab": {
          "base_uri": "https://localhost:8080/"
        },
        "id": "oXajsrp-VOCl",
        "outputId": "25aef077-10bd-454f-b20a-6499d6ecb7fd"
      },
      "execution_count": 103,
      "outputs": [
        {
          "output_type": "execute_result",
          "data": {
            "text/plain": [
              "<tf.Tensor: shape=(3, 150, 128), dtype=float32, numpy=\n",
              "array([[[ 3.5406042e-02, -2.7813781e-02, -5.3073093e-04, ...,\n",
              "         -2.2590792e-02, -2.7713621e-02,  4.8941541e-02],\n",
              "        [-4.2807292e-02,  3.9193779e-04,  4.4053499e-02, ...,\n",
              "         -2.5137460e-02,  3.8147084e-03, -1.1839330e-02],\n",
              "        [ 1.4596548e-02, -7.8021772e-03, -2.0301118e-03, ...,\n",
              "         -3.8030647e-02, -4.2037688e-02, -4.6179544e-02],\n",
              "        ...,\n",
              "        [-4.7132254e-02,  3.9570834e-02,  1.6621780e-02, ...,\n",
              "         -2.2411956e-02, -2.6728138e-03,  3.0308042e-02],\n",
              "        [-4.7132254e-02,  3.9570834e-02,  1.6621780e-02, ...,\n",
              "         -2.2411956e-02, -2.6728138e-03,  3.0308042e-02],\n",
              "        [-4.7132254e-02,  3.9570834e-02,  1.6621780e-02, ...,\n",
              "         -2.2411956e-02, -2.6728138e-03,  3.0308042e-02]],\n",
              "\n",
              "       [[ 3.4413222e-02, -1.7720807e-02, -2.7569044e-02, ...,\n",
              "          1.3886716e-02, -4.5064654e-02, -1.9868959e-02],\n",
              "        [ 2.8596666e-02, -3.4812190e-02,  2.9844914e-02, ...,\n",
              "          9.9298954e-03, -1.9636607e-02, -2.3741854e-02],\n",
              "        [ 3.8042888e-03,  1.6416796e-03,  3.4350384e-02, ...,\n",
              "          4.5011315e-02,  8.9446530e-03, -2.6097512e-02],\n",
              "        ...,\n",
              "        [-4.7132254e-02,  3.9570834e-02,  1.6621780e-02, ...,\n",
              "         -2.2411956e-02, -2.6728138e-03,  3.0308042e-02],\n",
              "        [-4.7132254e-02,  3.9570834e-02,  1.6621780e-02, ...,\n",
              "         -2.2411956e-02, -2.6728138e-03,  3.0308042e-02],\n",
              "        [-4.7132254e-02,  3.9570834e-02,  1.6621780e-02, ...,\n",
              "         -2.2411956e-02, -2.6728138e-03,  3.0308042e-02]],\n",
              "\n",
              "       [[ 1.4528345e-02, -4.8849892e-02,  4.0813256e-02, ...,\n",
              "          2.4738424e-03, -4.7748089e-03,  1.9038226e-02],\n",
              "        [ 3.7620906e-02,  1.5012920e-06, -4.7795929e-02, ...,\n",
              "          1.0448672e-02,  4.9641002e-02, -1.0818481e-02],\n",
              "        [ 4.9156073e-02, -2.0549774e-02,  2.8663699e-02, ...,\n",
              "          3.3544425e-02,  4.7266547e-02,  4.4130947e-02],\n",
              "        ...,\n",
              "        [-4.7132254e-02,  3.9570834e-02,  1.6621780e-02, ...,\n",
              "         -2.2411956e-02, -2.6728138e-03,  3.0308042e-02],\n",
              "        [-4.7132254e-02,  3.9570834e-02,  1.6621780e-02, ...,\n",
              "         -2.2411956e-02, -2.6728138e-03,  3.0308042e-02],\n",
              "        [-4.7132254e-02,  3.9570834e-02,  1.6621780e-02, ...,\n",
              "         -2.2411956e-02, -2.6728138e-03,  3.0308042e-02]]], dtype=float32)>"
            ]
          },
          "metadata": {},
          "execution_count": 103
        }
      ]
    },
    {
      "cell_type": "code",
      "source": [
        "\n",
        "\n",
        "# Assuming 'vectorized_text' is defined from the previous code\n",
        "\n",
        "# Define the embedding dimension\n",
        "embedding_dim = 128  # You can adjust this value\n",
        "\n",
        "# Create the embedding layer\n",
        "embedding_layer = Embedding(input_dim=len(vectorizer.get_vocabulary()), output_dim=embedding_dim)\n",
        "\n",
        "# Embed the vectorized text\n",
        "embedded_text = embedding_layer(vectorized_text)\n",
        "\n",
        "# Print the shape of the embedded text\n",
        "print(\"Shape of embedded text:\", embedded_text.shape)\n",
        "\n",
        "# Now 'embedded_text' contains the embedded word sequences.\n",
        "embedded_text\n"
      ],
      "metadata": {
        "colab": {
          "base_uri": "https://localhost:8080/"
        },
        "id": "qH7G2ebLcyDn",
        "outputId": "149f2f45-b742-4149-f5cf-15561f375baa"
      },
      "execution_count": 95,
      "outputs": [
        {
          "output_type": "stream",
          "name": "stdout",
          "text": [
            "Shape of embedded text: (100, 128)\n"
          ]
        },
        {
          "output_type": "execute_result",
          "data": {
            "text/plain": [
              "<tf.Tensor: shape=(100, 128), dtype=float32, numpy=\n",
              "array([[ 0.01018262, -0.01596836,  0.02729158, ...,  0.0019261 ,\n",
              "        -0.03301797,  0.03238631],\n",
              "       [ 0.00254347,  0.03750212, -0.02892951, ...,  0.02927576,\n",
              "        -0.00974404, -0.02733778],\n",
              "       [ 0.02289246, -0.02318466, -0.04464887, ..., -0.03656035,\n",
              "        -0.02206706,  0.03524668],\n",
              "       ...,\n",
              "       [-0.02593027,  0.04201361,  0.02043838, ..., -0.03076535,\n",
              "         0.01708222, -0.0017042 ],\n",
              "       [-0.02593027,  0.04201361,  0.02043838, ..., -0.03076535,\n",
              "         0.01708222, -0.0017042 ],\n",
              "       [-0.02593027,  0.04201361,  0.02043838, ..., -0.03076535,\n",
              "         0.01708222, -0.0017042 ]], dtype=float32)>"
            ]
          },
          "metadata": {},
          "execution_count": 95
        }
      ]
    }
  ],
  "metadata": {
    "colab": {
      "name": "Welcome To Colab",
      "provenance": [],
      "include_colab_link": true
    },
    "kernelspec": {
      "display_name": "Python 3",
      "name": "python3"
    }
  },
  "nbformat": 4,
  "nbformat_minor": 0
}
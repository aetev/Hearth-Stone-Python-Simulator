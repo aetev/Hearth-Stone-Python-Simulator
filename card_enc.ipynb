{
  "cells": [
    {
      "cell_type": "markdown",
      "metadata": {
        "id": "view-in-github",
        "colab_type": "text"
      },
      "source": [
        "<a href=\"https://colab.research.google.com/github/aetev/Hearth-Stone-Python-Simulator/blob/main/card_enc.ipynb\" target=\"_parent\"><img src=\"https://colab.research.google.com/assets/colab-badge.svg\" alt=\"Open In Colab\"/></a>"
      ]
    },
    {
      "cell_type": "code",
      "source": [
        "from google.colab import drive\n",
        "drive.mount('/content/drive')"
      ],
      "metadata": {
        "colab": {
          "base_uri": "https://localhost:8080/"
        },
        "id": "3kHFncULcoGR",
        "outputId": "df6a98f6-1ce1-40d0-9610-7917be9a2da9"
      },
      "execution_count": 142,
      "outputs": [
        {
          "output_type": "stream",
          "name": "stdout",
          "text": [
            "Drive already mounted at /content/drive; to attempt to forcibly remount, call drive.mount(\"/content/drive\", force_remount=True).\n"
          ]
        }
      ]
    },
    {
      "cell_type": "code",
      "source": [
        "import json\n",
        "import tensorflow as tf\n",
        "import re\n",
        "from tensorflow.keras.layers import Embedding, TextVectorization\n",
        "# Assuming AtomicCards.json is in your Google Drive, adjust the path if necessary\n",
        "file_path = '/content/drive/MyDrive/MTGdata/AtomicCards.json'\n",
        "\n",
        "\n",
        "with open(file_path, 'r') as f:\n",
        "  data = json.load(f)['data']"
      ],
      "metadata": {
        "id": "Mx4GYeOpd3Ka"
      },
      "execution_count": 143,
      "outputs": []
    },
    {
      "cell_type": "code",
      "source": [
        "def filter_legal_cards(data):\n",
        "    legal_commander_data = {}\n",
        "    for card_name, card_data in data.items():\n",
        "        try:\n",
        "            if card_data[0]['legalities']['commander'] == 'Legal':\n",
        "                legal_commander_data[card_name] = card_data[0] # Store only the first element of card_data\n",
        "        except (KeyError, IndexError):\n",
        "            pass  # Or print a message, log it, etc.\n",
        "    return legal_commander_data\n",
        "\n",
        "filtered_data = filter_legal_cards(data)\n"
      ],
      "metadata": {
        "id": "o9rUDffCq5X2"
      },
      "execution_count": 144,
      "outputs": []
    },
    {
      "cell_type": "code",
      "source": [
        "items = list(filtered_data.items())\n",
        "\n",
        "text_list = []\n",
        "for row in items[:40]:\n",
        "  second_key, second_value = row\n",
        "  if second_value['text'] != None:\n",
        "    text_list.append(second_value['text'])\n",
        "\n",
        "\n",
        "for text in text_list:\n",
        "  print(text)"
      ],
      "metadata": {
        "colab": {
          "base_uri": "https://localhost:8080/"
        },
        "id": "ufpAdV25sI5x",
        "outputId": "af942356-34bf-4c16-90c2-2264ffe8ae2a"
      },
      "execution_count": 186,
      "outputs": [
        {
          "output_type": "stream",
          "name": "stdout",
          "text": [
            "This creature enters tapped.\n",
            "When this creature dies, open an Attraction.\n",
            "Whenever you roll to visit your Attractions, if you roll a 6, you may return this card from your graveyard to the battlefield.\n",
            "When this creature enters from anywhere other than a graveyard or exile, if it's on the battlefield and you control 9 or fewer creatures named \"Name Sticker\" Goblin, roll a 20-sided die.\n",
            "1-6 | Add {R}{R}{R}{R}.\n",
            "7-14 | Add {R}{R}{R}{R}{R}.\n",
            "15-20 | Add {R}{R}{R}{R}{R}{R}.\n",
            "Equipped creature gets +2/+2.\n",
            "Equip {3} ({3}: Attach to target creature you control. Equip only as a sorcery.)\n",
            "Tap up to two target creatures.\n",
            "Whenever you put a name sticker on a creature, you may return this card from your graveyard to your hand.\n",
            "When this enchantment enters, create a 1/1 white Human creature token, a 1/1 blue Merfolk creature token, and a 1/1 red Goblin creature token. Then secretly choose Human, Merfolk, or Goblin.\n",
            "Sacrifice this enchantment, Reveal the creature type you chose: If target attacking creature token is the chosen type, put three +1/+1 counters on it and it gains deathtouch until end of turn.\n",
            "Casualty 1 (As you cast this spell, you may sacrifice a creature with power 1 or greater. When you do, copy this spell.)\n",
            "Look at the top two cards of your library. Put one of them into your hand and the other on the bottom of your library.\n",
            "Enchanted creatures you control get +2/+2.\n",
            "Flying\n",
            "When this creature enters, you take the initiative.\n",
            "When Aatchik enters, create a 1/1 green Insect creature token for each artifact and/or creature card in your graveyard.\n",
            "Whenever another Insect you control dies, put a +1/+1 counter on Aatchik. Each opponent loses 1 life.\n",
            "Trample\n",
            "Mark of Chaos Ascendant — During your turn, spells you cast from your hand with mana value X or less have cascade, where X is the total amount of life your opponents have lost this turn.\n",
            "As an additional cost to cast this spell, discard X cards.\n",
            "Look at target opponent's hand and choose X cards from it. That player discards those cards.\n",
            "Up to two target creatures each get +1/+0 and gain first strike until end of turn. (They deal combat damage before creatures without first strike.)\n",
            "Madness {1}{R} (If you discard this card, discard it into exile. When you do, cast it for its madness cost or put it into your graveyard.)\n",
            "Up to two target creatures can't block this turn.\n",
            "Flashback {3}{R} (You may cast this card from your graveyard for its flashback cost. Then exile it.)\n",
            "This land enters tapped unless a player has 13 or less life.\n",
            "{T}: Add {W} or {U}.\n",
            "This land enters tapped.\n",
            "{T}: Add {W}.\n",
            "{T}, Sacrifice this land: Add one mana of any color.\n",
            "You may cast spells that have a cycling ability from your graveyard.\n",
            "If a card that has a cycling ability would be put into your graveyard from anywhere and it wasn't cycled, exile it instead.\n",
            "First strike\n",
            "Whenever a creature dealt damage by this creature this turn dies, you gain life equal to that creature's toughness.\n",
            "Flying, protection from red\n",
            "Flying, vigilance\n",
            "{W}, {T}: This creature gets +0/+3 until end of turn.\n",
            "Prowess (Whenever you cast a noncreature spell, this creature gets +1/+1 until end of turn.)\n",
            "When this creature enters, exile the top card of your library. Until end of turn, you may play that card.\n",
            "When Abdel Adrian enters, exile any number of other nonland permanents you control until Abdel Adrian leaves the battlefield. Create a 1/1 white Soldier creature token for each permanent exiled this way.\n",
            "Choose a Background (You can have a Background as a second commander.)\n",
            "Enchant creature\n",
            "When this Aura enters, untap enchanted creature.\n",
            "You control enchanted creature.\n",
            "When enchanted creature dies, return that card to the battlefield under its owner's control.\n",
            "Ravenous (This creature enters with X +1/+1 counters on it. If X is 5 or more, draw a card when it enters.)\n",
            "Trample\n",
            "Heavy Power Hammer — Whenever this creature deals combat damage to a player, destroy target artifact or enchantment that player controls.\n",
            "Psionic Spells — When this creature enters, choose target instant or sorcery card in your graveyard, then roll a d20.\n",
            "1—9 | You may put that card on top of your library.\n",
            "10—20 | Return that card to your hand.\n",
            "Flying\n",
            "At the beginning of your upkeep, mill a card. If an instant or sorcery card was milled this way, transform this creature. (To mill a card, put the top card of your library into your graveyard.)\n",
            "Until end of turn, target player can't cast instant or sorcery spells, and that player can't activate abilities that aren't mana abilities.\n",
            "Draw a card.\n",
            "As an additional cost to cast this spell, exile six cards from your graveyard.\n",
            "Flying\n",
            "At the beginning of each opponent's upkeep, manifest dread. (Look at the top two cards of your library. Put one onto the battlefield face down as a 2/2 creature and the other into your graveyard. Turn it face up any time for its mana cost if it's a creature card.)\n",
            "Flying\n",
            "When this creature enters, create a number of 1/1 black Harpy creature tokens with flying equal to your devotion to black. (Each {B} in the mana costs of permanents you control counts toward your devotion to black.)\n",
            "At the beginning of your upkeep, sacrifice a creature.\n",
            "At the beginning of your end step, choose one —\n",
            "• You gain 1 life.\n",
            "• Return target creature card with mana value 1 from your graveyard to the battlefield.\n",
            "As an additional cost to cast this spell, sacrifice a blue permanent.\n",
            "Counter target spell.\n",
            "Until end of turn, target creature gets +2/+0 and gains \"When this creature dies, return it to the battlefield tapped under its owner's control.\"\n",
            "Flash\n",
            "Ward {2}\n",
            "Probing Telepathy — Whenever a creature entering under an opponent's control causes a triggered ability of that creature to trigger, you may copy that ability. You may choose new targets for the copy.\n",
            "You may discard a Plains card rather than pay this spell's mana cost.\n",
            "Destroy target artifact or enchantment.\n",
            "Trample\n",
            "Abominable Treefolk's power and toughness are each equal to the number of snow permanents you control.\n",
            "When this creature enters, tap target creature an opponent controls. That creature doesn't untap during its controller's next untap step.\n",
            "Whenever this creature blocks or becomes blocked by a green or white creature, destroy that creature at end of combat.\n",
            "Flying\n",
            "Whenever this creature deals combat damage to a player, you may draw a card. If you do, discard a card.\n",
            "Morph {2}{B}{G}{U} (You may cast this card face down as a 2/2 creature for {3}. Turn it face up any time for its morph cost.)\n",
            "Vigilance; menace (This creature can't be blocked except by two or more creatures.)\n",
            "Abomination of Llanowar's power and toughness are each equal to the number of Elves you control plus the number of Elf cards in your graveyard.\n",
            "Cumulative upkeep—Put a -1/-1 counter on this creature. (At the beginning of your upkeep, put an age counter on this permanent, then sacrifice it unless you pay its upkeep cost for each age counter on it.)\n",
            "Enchant creature\n",
            "Enchanted creature has flying.\n",
            "Threshold — Enchanted creature has shroud as long as seven or more cards are in your graveyard. (It can't be the target of spells or abilities.)\n"
          ]
        }
      ]
    },
    {
      "cell_type": "code",
      "source": [
        "class TextCleaningLayer(tf.keras.layers.Layer):\n",
        "    def __init__(self,sentence_list, **kwargs):\n",
        "        super(TextCleaningLayer, self).__init__(**kwargs)\n",
        "        self.vectorizer = TextVectorization(standardize=None, ngrams=2, output_mode='int',output_sequence_length=150)\n",
        "        self.vectorizer.adapt(self.clean_text(sentence_list))\n",
        "        self.embedding_layer = Embedding(input_dim=3000, output_dim=100)\n",
        "\n",
        "    def clean_text(self, text):\n",
        "\n",
        "        #text = card['text']\n",
        "        #card_name = card['name']\n",
        "\n",
        "\n",
        "        # Convert input to string tensor if it's not already\n",
        "        if not isinstance(text, tf.Tensor):\n",
        "            text = tf.convert_to_tensor(text, dtype=tf.string)\n",
        "\n",
        "        cleaned_text = tf.strings.lower(text)\n",
        "        #cleaned_text = tf.strings.regex_replace(cleaned_text, card_name, 'self')\n",
        "        cleaned_text = tf.strings.regex_replace(cleaned_text, '\\n', ' ')\n",
        "        cleaned_text = tf.strings.regex_replace(cleaned_text, '[\\/\\.]', ' ')\n",
        "        cleaned_text = tf.strings.regex_replace(cleaned_text, '[\\\"—\"]', ' ')\n",
        "        cleaned_text = tf.strings.regex_replace(cleaned_text, '\\{|\\}', ' ')\n",
        "        cleaned_text = tf.strings.regex_replace(cleaned_text, '\\([^)]*\\)', '')\n",
        "        cleaned_text = tf.strings.regex_replace(cleaned_text, '[^\\w\\s+/\\-]', '')\n",
        "        cleaned_text = tf.strings.regex_replace(cleaned_text, '\\s+', ' ')\n",
        "        return cleaned_text\n",
        "\n",
        "    def call(self, inputs):\n",
        "        cleaned_text = self.clean_text(inputs)\n",
        "        vectorized_text = self.vectorizer(cleaned_text)\n",
        "        embedded_text = self.embedding_layer(vectorized_text)\n",
        "        return cleaned_text\n",
        "\n",
        "\n",
        "# Example usage with a batch of texts\n",
        "batch_texts = tf.constant(text_list)\n",
        "cleaned_text_layer = TextCleaningLayer(batch_texts)\n",
        "cleaned_batch = cleaned_text_layer.call(batch_texts)\n",
        "for i in range(len(cleaned_batch)):\n",
        "  tf.print(cleaned_batch[i])\n",
        "\n",
        "\n"
      ],
      "metadata": {
        "colab": {
          "base_uri": "https://localhost:8080/"
        },
        "id": "oXajsrp-VOCl",
        "outputId": "90883dee-513f-4ff1-e288-154406876b1f"
      },
      "execution_count": 199,
      "outputs": [
        {
          "output_type": "stream",
          "name": "stdout",
          "text": [
            "this creature enters tapped when this creature dies open an attraction whenever you roll to visit your attractions if you roll a 6 you may return this card from your graveyard to the battlefield \n",
            "when this creature enters from anywhere other than a graveyard or exile if its on the battlefield and you control 9 or fewer creatures named name sticker goblin roll a 20-sided die 1-6 add r r r r 7-14 add r r r r r 15-20 add r r r r r r \n",
            "equipped creature gets +2 +2 equip 3 \n",
            "tap up to two target creatures whenever you put a name sticker on a creature you may return this card from your graveyard to your hand \n",
            "when this enchantment enters create a 1 1 white human creature token a 1 1 blue merfolk creature token and a 1 1 red goblin creature token then secretly choose human merfolk or goblin sacrifice this enchantment reveal the creature type you chose if target attacking creature token is the chosen type put three +1 +1 counters on it and it gains deathtouch until end of turn \n",
            "casualty 1 look at the top two cards of your library put one of them into your hand and the other on the bottom of your library \n",
            "enchanted creatures you control get +2 +2 \n",
            "flying when this creature enters you take the initiative \n",
            "when aatchik enters create a 1 1 green insect creature token for each artifact and or creature card in your graveyard whenever another insect you control dies put a +1 +1 counter on aatchik each opponent loses 1 life \n",
            "trample mark of chaos ascendant during your turn spells you cast from your hand with mana value x or less have cascade where x is the total amount of life your opponents have lost this turn \n",
            "as an additional cost to cast this spell discard x cards look at target opponents hand and choose x cards from it that player discards those cards \n",
            "up to two target creatures each get +1 +0 and gain first strike until end of turn madness 1 r \n",
            "up to two target creatures cant block this turn flashback 3 r \n",
            "this land enters tapped unless a player has 13 or less life t add w or u \n",
            "this land enters tapped t add w t sacrifice this land add one mana of any color \n",
            "you may cast spells that have a cycling ability from your graveyard if a card that has a cycling ability would be put into your graveyard from anywhere and it wasnt cycled exile it instead \n",
            "first strike whenever a creature dealt damage by this creature this turn dies you gain life equal to that creatures toughness \n",
            "flying protection from red\n",
            "flying vigilance\n",
            " w t this creature gets +0 +3 until end of turn \n",
            "prowess when this creature enters exile the top card of your library until end of turn you may play that card \n",
            "when abdel adrian enters exile any number of other nonland permanents you control until abdel adrian leaves the battlefield create a 1 1 white soldier creature token for each permanent exiled this way choose a background \n",
            "enchant creature when this aura enters untap enchanted creature you control enchanted creature when enchanted creature dies return that card to the battlefield under its owners control \n",
            "ravenous trample heavy power hammer whenever this creature deals combat damage to a player destroy target artifact or enchantment that player controls \n",
            "psionic spells when this creature enters choose target instant or sorcery card in your graveyard then roll a d20 1 9 you may put that card on top of your library 10 20 return that card to your hand \n",
            "flying at the beginning of your upkeep mill a card if an instant or sorcery card was milled this way transform this creature \n",
            "until end of turn target player cant cast instant or sorcery spells and that player cant activate abilities that arent mana abilities draw a card \n",
            "as an additional cost to cast this spell exile six cards from your graveyard flying at the beginning of each opponents upkeep manifest dread \n",
            "flying when this creature enters create a number of 1 1 black harpy creature tokens with flying equal to your devotion to black at the beginning of your upkeep sacrifice a creature \n",
            "at the beginning of your end step choose one you gain 1 life return target creature card with mana value 1 from your graveyard to the battlefield \n",
            "as an additional cost to cast this spell sacrifice a blue permanent counter target spell \n",
            "until end of turn target creature gets +2 +0 and gains when this creature dies return it to the battlefield tapped under its owners control \n",
            "flash ward 2 probing telepathy whenever a creature entering under an opponents control causes a triggered ability of that creature to trigger you may copy that ability you may choose new targets for the copy \n",
            "you may discard a plains card rather than pay this spells mana cost destroy target artifact or enchantment \n",
            "trample abominable treefolks power and toughness are each equal to the number of snow permanents you control when this creature enters tap target creature an opponent controls that creature doesnt untap during its controllers next untap step \n",
            "whenever this creature blocks or becomes blocked by a green or white creature destroy that creature at end of combat \n",
            "flying whenever this creature deals combat damage to a player you may draw a card if you do discard a card morph 2 b g u \n",
            "vigilance menace abomination of llanowars power and toughness are each equal to the number of elves you control plus the number of elf cards in your graveyard \n",
            "cumulative upkeep put a -1 -1 counter on this creature \n",
            "enchant creature enchanted creature has flying threshold enchanted creature has shroud as long as seven or more cards are in your graveyard \n"
          ]
        }
      ]
    },
    {
      "cell_type": "code",
      "source": [
        "print(cleaned_text_layer.vectorizer.get_vocabulary())"
      ],
      "metadata": {
        "id": "Ck0PB6l15VFJ",
        "outputId": "83feba25-bd02-463e-d9fb-2c683aac26d9",
        "colab": {
          "base_uri": "https://localhost:8080/"
        }
      },
      "execution_count": 185,
      "outputs": [
        {
          "output_type": "stream",
          "name": "stdout",
          "text": [
            "['', '[UNK]', 'r', 'creature', 'r r', 'your', 'you', '1', 'a', 'this', 'the', 'of', 'when', 'token', 'or', 'on', 'enters', 'creature token', 'and', 'when this', 'to', 'this creature', 'put', 'graveyard', 'from', 'a 1', '1 1', '+2', '+1', 'your hand', 'your graveyard', 'you control', 'whenever', 'turn', 'roll', 'if', 'hand', 'goblin', 'from your', 'creatures', 'creature enters', 'control', 'card', 'add r', 'add', 'your library', 'you roll', 'you may', 'x', 'whenever you', 'type', 'two', 'this enchantment', 'this card', 'the battlefield', 'target', 'sticker', 'roll a', 'return this', 'return', 'put a', 'other', 'on the', 'of your', 'name sticker', 'name', 'merfolk', 'may return', 'may', 'life', 'library', 'it', 'is the', 'is', 'insect', 'human', 'have', 'graveyard to', 'enters create', 'enchantment', 'each', 'dies', 'create a', 'create', 'card from', 'battlefield', 'aatchik', '6', '20', '+2 +2', '+1 +1', 'your turn', 'your opponents', 'your attractions', 'you take', 'you put', 'you chose', 'you cast', 'x or', 'x is', 'with mana', 'with', 'white human', 'white', 'where x', 'where', 'whenever another', 'when aatchik', 'visit your', 'visit', 'value x', 'value', 'up to', 'up', 'until end', 'until', 'type you', 'type put', 'two target', 'two cards', 'turn spells', 'trample mark', 'trample', 'total amount', 'total', 'top two', 'top', 'token then', 'token is', 'token for', 'token and', 'token a', 'to your', 'to visit', 'to two', 'to the', 'three +1', 'three', 'this turn', 'then secretly', 'then', 'them into', 'them', 'the total', 'the top', 'the other', 'the initiative', 'the creature', 'the chosen', 'the bottom', 'than a', 'than', 'target creatures', 'target attacking', 'tapped when', 'tapped', 'tap up', 'tap', 'take the', 'take', 'sticker on', 'sticker goblin', 'spells you', 'spells', 'sided die', 'sided', 'secretly choose', 'secretly', 'sacrifice this', 'sacrifice', 'roll to', 'reveal the', 'reveal', 'red goblin', 'red', 'r 7', 'r 15', 'put three', 'put one', 'other than', 'other on', 'or less', 'or goblin', 'or fewer', 'or exile', 'or creature', 'opponents have', 'opponents', 'opponent loses', 'opponent', 'open an', 'open', 'one of', 'one', 'on it', 'on aatchik', 'on a', 'of turn', 'of them', 'of life', 'of chaos', 'named name', 'named', 'merfolk or', 'merfolk creature', 'mark of', 'mark', 'mana value', 'mana', 'lost this', 'lost', 'loses 1', 'loses', 'look at', 'look', 'life your', 'library put', 'less have', 'less', 'its on', 'its', 'it gains', 'it and', 'into your', 'into', 'insect you', 'insect creature', 'initiative', 'in your', 'in', 'if you', 'if target', 'if its', 'human merfolk', 'human creature', 'have lost', 'have cascade', 'hand with', 'hand and', 'green insect', 'green', 'graveyard whenever', 'graveyard or', 'goblin sacrifice', 'goblin roll', 'goblin creature', 'gets +2', 'gets', 'get +2', 'get', 'gains deathtouch', 'gains', 'from anywhere', 'for each', 'for', 'flying when', 'flying', 'fewer creatures', 'fewer', 'exile if', 'exile', 'equipped creature', 'equipped', 'equip 3', 'equip', 'enters you', 'enters tapped', 'enters from', 'end of', 'end', 'enchantment reveal', 'enchantment enters', 'enchanted creatures', 'enchanted', 'each opponent', 'each artifact', 'during your', 'during', 'dies put', 'dies open', 'die 1', 'die', 'deathtouch until', 'deathtouch', 'creatures you', 'creatures whenever', 'creatures named', 'creature you', 'creature type', 'creature gets', 'creature dies', 'creature card', 'counters on', 'counters', 'counter on', 'counter', 'control get', 'control dies', 'control 9', 'chosen type', 'chosen', 'chose if', 'chose', 'choose human', 'choose', 'chaos ascendant', 'chaos', 'casualty 1', 'casualty', 'cast from', 'cast', 'cascade where', 'cascade', 'cards of', 'cards', 'card in', 'bottom of', 'bottom', 'blue merfolk', 'blue', 'battlefield and', 'attractions if', 'attractions', 'attraction whenever', 'attraction', 'attacking creature', 'attacking', 'at the', 'at', 'ascendant during', 'ascendant', 'artifact and', 'artifact', 'anywhere other', 'anywhere', 'another insect', 'another', 'and you', 'and the', 'and or', 'and it', 'and a', 'an attraction', 'an', 'amount of', 'amount', 'aatchik enters', 'aatchik each', 'a name', 'a graveyard', 'a creature', 'a 6', 'a 20', 'a +1', '9 or', '9', '7 14', '7', '6 you', '6 add', '3', '20 sided', '20 add', '15 20', '15', '14 add', '14', '1 white', '1 red', '1 look', '1 life', '1 green', '1 blue', '1 6', '+2 equip', '+1 counters', '+1 counter']\n"
          ]
        }
      ]
    }
  ],
  "metadata": {
    "colab": {
      "name": "Welcome To Colab",
      "provenance": [],
      "include_colab_link": true
    },
    "kernelspec": {
      "display_name": "Python 3",
      "name": "python3"
    }
  },
  "nbformat": 4,
  "nbformat_minor": 0
}
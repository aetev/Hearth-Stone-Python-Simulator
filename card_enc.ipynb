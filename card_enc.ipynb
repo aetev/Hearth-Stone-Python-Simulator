{
  "cells": [
    {
      "cell_type": "markdown",
      "metadata": {
        "id": "view-in-github",
        "colab_type": "text"
      },
      "source": [
        "<a href=\"https://colab.research.google.com/github/aetev/Hearth-Stone-Python-Simulator/blob/main/card_enc.ipynb\" target=\"_parent\"><img src=\"https://colab.research.google.com/assets/colab-badge.svg\" alt=\"Open In Colab\"/></a>"
      ]
    },
    {
      "cell_type": "code",
      "source": [
        "from google.colab import drive\n",
        "drive.mount('/content/drive')"
      ],
      "metadata": {
        "colab": {
          "base_uri": "https://localhost:8080/"
        },
        "id": "3kHFncULcoGR",
        "outputId": "32074035-4954-4fa3-bc6f-06284788982f"
      },
      "execution_count": 3,
      "outputs": [
        {
          "output_type": "stream",
          "name": "stdout",
          "text": [
            "Drive already mounted at /content/drive; to attempt to forcibly remount, call drive.mount(\"/content/drive\", force_remount=True).\n"
          ]
        }
      ]
    },
    {
      "cell_type": "code",
      "source": [
        "import json\n",
        "\n",
        "# Assuming AtomicCards.json is in your Google Drive, adjust the path if necessary\n",
        "file_path = '/content/drive/MyDrive/AtomicCards.json'\n",
        "\n",
        "\n",
        "with open(file_path, 'r') as f:\n",
        "  data = json.load(f)['data'])"
      ],
      "metadata": {
        "id": "Mx4GYeOpd3Ka"
      },
      "execution_count": 4,
      "outputs": []
    },
    {
      "cell_type": "code",
      "source": [
        "def filter_legal_cards(data):\n",
        "    legal_commander_data = {}\n",
        "    for card_name, card_data in data.items():\n",
        "        try:\n",
        "            if card_data[0]['legalities']['commander'] == 'Legal':\n",
        "                legal_commander_data[card_name] = card_data[0] # Store only the first element of card_data\n",
        "        except (KeyError, IndexError):\n",
        "            # Handle cases where 'legalities' or 'commander' key is missing or card_data is empty\n",
        "            pass  # Or print a message, log it, etc.\n",
        "    return legal_commander_data\n",
        "\n",
        "filtered_data = filter_legal_cards(data)\n"
      ],
      "metadata": {
        "id": "o9rUDffCq5X2"
      },
      "execution_count": 11,
      "outputs": []
    },
    {
      "cell_type": "code",
      "source": [
        "items = list(filtered_data.items())\n",
        "\n",
        "first_value = filtered_data[first_key]\n",
        "second_key, second_value = items[4]\n",
        "print(\"Key:\", second_value)\n",
        "print(\"text:\", second_value['text'])\n",
        "print(\"keywords:\", second_value['keywords'])"
      ],
      "metadata": {
        "colab": {
          "base_uri": "https://localhost:8080/",
          "height": 248
        },
        "id": "ufpAdV25sI5x",
        "outputId": "e4e8d36b-8da2-468b-8b68-e0de00a7deb5"
      },
      "execution_count": 30,
      "outputs": [
        {
          "output_type": "stream",
          "name": "stdout",
          "text": [
            "Key: {'colorIdentity': ['G'], 'colors': ['G'], 'convertedManaCost': 5.0, 'edhrecRank': 21546, 'edhrecSaltiness': 0.11, 'firstPrinting': 'MKM', 'foreignData': [{'language': 'German', 'name': 'Mörder in unserer Mitte', 'text': 'Wenn Mörder in unserer Mitte ins Spiel kommt, erzeuge einen 1/1 weißen Mensch-Kreaturenspielstein, einen 1/1 blauen Meervolk-Kreaturenspielstein und einen 1/1 roten Goblin-Kreaturenspielstein. Bestimme dann geheim Mensch, Meervolk oder Goblin.\\nOpfere Mörder in unserer Mitte, offenbare den bestimmten Kreaturentyp: Falls ein angreifender Kreaturenspielstein deiner Wahl den bestimmten Typ hat, lege drei +1/+1-Marken auf ihn und er erhält Todesberührung bis zum Ende des Zuges.', 'type': 'Verzauberung'}, {'language': 'Spanish', 'name': 'Un asesino entre nosotros', 'text': 'Cuando Un asesino entre nosotros entre al campo de batalla, crea una ficha de criatura Humano blanca 1/1, una ficha de criatura Tritón azul 1/1 y una ficha de criatura Trasgo roja 1/1. Luego, elige en secreto Humano, Tritón o Trasgo.\\nSacrificar Un asesino entre nosotros, mostrar el tipo de criatura elegido: Si la ficha de criatura atacante objetivo es del tipo elegido, pon tres contadores +1/+1 sobre ella y gana la habilidad de toque mortal hasta el final del turno.', 'type': 'Encantamiento'}, {'language': 'French', 'name': 'Un meurtrier parmi nous', 'text': \"Quand Un meurtrier parmi nous arrive sur le champ de bataille, créez un jeton de créature 1/1 blanche Humain, un jeton de créature 1/1 bleue Ondin et un jeton de créature 1/1 rouge Gobelin. Puis choisissez secrètement humain, ondin ou gobelin.\\nSacrifiez Un meurtrier parmi nous, révélez le type de créature choisi : Si un jeton de créature attaquant ciblé a le type choisi, mettez trois marqueurs +1/+1 sur lui et il acquiert le contact mortel jusqu'à la fin du tour.\", 'type': 'Enchantement'}, {'language': 'Italian', 'name': 'Un Assassino tra Noi', 'text': 'Quando Un Assassino tra Noi entra nel campo di battaglia, crea una pedina creatura Umano 1/1 bianca, una pedina creatura Tritone 1/1 blu e una pedina creatura Goblin 1/1 rossa. Poi scegli segretamente Umano, Tritone o Goblin.\\nSacrifica Un Assassino tra Noi, Rivela il tipo di creatura scelto: Se una pedina creatura attaccante bersaglio è del tipo scelto, metti tre segnalini +1/+1 su di essa e ha tocco letale fino alla fine del turno.', 'type': 'Incantesimo'}, {'language': 'Japanese', 'name': '犯人はこの中にいる', 'text': '犯人はこの中にいるが戦場に出たとき、白の１/１の人間・クリーチャー・トークン１体と、青の１/１のマーフォーク・クリーチャー・トークン１体と、赤の１/１のゴブリン・クリーチャー・トークン１体を生成する。その後、人間やマーフォークやゴブリンのうち１つを秘密裏に選ぶ。\\n犯人はこの中にいるを生け贄に捧げる, その選んだクリーチャー・タイプを公開する：攻撃しているクリーチャー・トークン１体を対象とする。それがその選んだタイプなら、それの上に＋１/＋１カウンター３個を置き、ターン終了時まで、それは接死を得る。', 'type': 'エンチャント'}, {'language': 'Portuguese (Brazil)', 'name': 'Um Assassino Entre Nós', 'text': 'Quando Um Assassino Entre Nós entrar no campo de batalha, crie uma ficha de criatura Humano branca 1/1, uma ficha de criatura Tritão azul 1/1 e uma ficha de criatura Goblin vermelha 1/1 Depois, escolha em segredo Humano, Tritão ou Goblin.\\nSacrifique Um Assassino Entre Nós, revele o tipo de criatura escolhido: Se a ficha de criatura atacante alvo for do tipo escolhido, coloque três marcadores +1/+1 nela e ela ganha toque mortífero até o final do turno.', 'type': 'Encantamento'}, {'language': 'Chinese Simplified', 'name': '凶手在侧', 'text': '当凶手在侧进战场时，派出一个1/1白色人类衍生生物，一个1/1蓝色人鱼衍生生物和一个1/1红色鬼怪衍生生物。然后私下选择人类，人鱼或鬼怪。\\n牺牲凶手在侧，展示所选生物类别：如果目标进行攻击的衍生生物为该类别，则在其上放置三个+1/+1指示物且其获得死触异能直到回合结束。', 'type': '结界'}], 'identifiers': {'scryfallOracleId': '79d577a8-53c0-4220-bc0e-70764d72d5fd'}, 'layout': 'normal', 'legalities': {'alchemy': 'Legal', 'brawl': 'Legal', 'commander': 'Legal', 'duel': 'Legal', 'explorer': 'Legal', 'future': 'Legal', 'gladiator': 'Legal', 'historic': 'Legal', 'legacy': 'Legal', 'modern': 'Legal', 'oathbreaker': 'Legal', 'penny': 'Legal', 'pioneer': 'Legal', 'standard': 'Legal', 'standardbrawl': 'Legal', 'timeless': 'Legal', 'vintage': 'Legal'}, 'manaCost': '{4}{G}', 'manaValue': 5.0, 'name': 'A Killer Among Us', 'printings': ['MKM'], 'purchaseUrls': {'cardKingdom': 'https://mtgjson.com/links/26815f9e4806660a', 'cardKingdomFoil': 'https://mtgjson.com/links/6312b82718576cf5', 'cardmarket': 'https://mtgjson.com/links/b287bdc88ddf7b5d', 'tcgplayer': 'https://mtgjson.com/links/7d62d96762b70c80'}, 'rulings': [{'date': '2024-02-02', 'text': \"A Killer Among Us's last ability can target any attacking creature token, not just one of the tokens created by its first ability, and not just one of the chosen type. Only a token of the chosen type will get the bonuses, though.\"}, {'date': '2024-02-02', 'text': 'If you control multiple copies of A Killer Among Us, you may choose the same or different creature types for each one. Be careful to keep track of which type is chosen for each A Killer Among Us.'}, {'date': '2024-02-02', 'text': 'Only the player who secretly chose the creature type can reveal the creature type they chose. If another player gains control of A Killer Among Us, they will be unable to activate its last ability.'}, {'date': '2024-02-02', 'text': \"There are several ways to secretly choose one of the creature types, including writing that type on a piece of paper that's kept with A Killer Among Us.\"}], 'subtypes': [], 'supertypes': [], 'text': 'When this enchantment enters, create a 1/1 white Human creature token, a 1/1 blue Merfolk creature token, and a 1/1 red Goblin creature token. Then secretly choose Human, Merfolk, or Goblin.\\nSacrifice this enchantment, Reveal the creature type you chose: If target attacking creature token is the chosen type, put three +1/+1 counters on it and it gains deathtouch until end of turn.', 'type': 'Enchantment', 'types': ['Enchantment']}\n",
            "text: When this enchantment enters, create a 1/1 white Human creature token, a 1/1 blue Merfolk creature token, and a 1/1 red Goblin creature token. Then secretly choose Human, Merfolk, or Goblin.\n",
            "Sacrifice this enchantment, Reveal the creature type you chose: If target attacking creature token is the chosen type, put three +1/+1 counters on it and it gains deathtouch until end of turn.\n"
          ]
        },
        {
          "output_type": "error",
          "ename": "KeyError",
          "evalue": "'keywords'",
          "traceback": [
            "\u001b[0;31m---------------------------------------------------------------------------\u001b[0m",
            "\u001b[0;31mKeyError\u001b[0m                                  Traceback (most recent call last)",
            "\u001b[0;32m<ipython-input-30-26a09ae811d0>\u001b[0m in \u001b[0;36m<cell line: 0>\u001b[0;34m()\u001b[0m\n\u001b[1;32m      5\u001b[0m \u001b[0mprint\u001b[0m\u001b[0;34m(\u001b[0m\u001b[0;34m\"Key:\"\u001b[0m\u001b[0;34m,\u001b[0m \u001b[0msecond_value\u001b[0m\u001b[0;34m)\u001b[0m\u001b[0;34m\u001b[0m\u001b[0;34m\u001b[0m\u001b[0m\n\u001b[1;32m      6\u001b[0m \u001b[0mprint\u001b[0m\u001b[0;34m(\u001b[0m\u001b[0;34m\"text:\"\u001b[0m\u001b[0;34m,\u001b[0m \u001b[0msecond_value\u001b[0m\u001b[0;34m[\u001b[0m\u001b[0;34m'text'\u001b[0m\u001b[0;34m]\u001b[0m\u001b[0;34m)\u001b[0m\u001b[0;34m\u001b[0m\u001b[0;34m\u001b[0m\u001b[0m\n\u001b[0;32m----> 7\u001b[0;31m \u001b[0mprint\u001b[0m\u001b[0;34m(\u001b[0m\u001b[0;34m\"keywords:\"\u001b[0m\u001b[0;34m,\u001b[0m \u001b[0msecond_value\u001b[0m\u001b[0;34m[\u001b[0m\u001b[0;34m'keywords'\u001b[0m\u001b[0;34m]\u001b[0m\u001b[0;34m)\u001b[0m\u001b[0;34m\u001b[0m\u001b[0;34m\u001b[0m\u001b[0m\n\u001b[0m",
            "\u001b[0;31mKeyError\u001b[0m: 'keywords'"
          ]
        }
      ]
    },
    {
      "cell_type": "code",
      "source": [
        "# second_key, second_value = items[1]\n",
        "\n",
        "items = list(filtered_data.items())\n",
        "from google.colab import drive\n",
        "import json\n",
        "\n",
        "drive.mount('/content/drive')\n",
        "\n",
        "# Assuming AtomicCards.json is in your Google Drive, adjust the path if necessary\n",
        "file_path = '/content/drive/MyDrive/AtomicCards.json'\n",
        "\n",
        "\n",
        "with open(file_path, 'r') as f:\n",
        "  data = json.load(f)['data']\n",
        "\n",
        "def filter_legal_cards(data):\n",
        "    legal_commander_data = {}\n",
        "    for card_name, card_data in data.items():\n",
        "        try:\n",
        "            if card_data[0]['legalities']['commander'] == 'Legal':\n",
        "                legal_commander_data[card_name] = card_data[0] # Store only the first element of card_data\n",
        "        except (KeyError, IndexError):\n",
        "            # Handle cases where 'legalities' or 'commander' key is missing or card_data is empty\n",
        "            pass  # Or print a message, log it, etc.\n",
        "    return legal_commander_data\n",
        "\n",
        "filtered_data = filter_legal_cards(data)\n",
        "\n",
        "# Get the second item (key-value pair)\n",
        "\n",
        "if len(items) > 1:\n",
        "\n",
        "    print(\"Second Key:\", second_key)\n",
        "    print(\"Second text:\", second_value['text'])\n",
        "    print(\"Second keywords:\", second_value['keywords'])\n",
        "else:\n",
        "    print(\"The dictionary does not have a second item.\")\n"
      ],
      "metadata": {
        "id": "aomR85vox65F"
      },
      "execution_count": null,
      "outputs": []
    }
  ],
  "metadata": {
    "colab": {
      "name": "Welcome To Colab",
      "provenance": [],
      "include_colab_link": true
    },
    "kernelspec": {
      "display_name": "Python 3",
      "name": "python3"
    }
  },
  "nbformat": 4,
  "nbformat_minor": 0
}
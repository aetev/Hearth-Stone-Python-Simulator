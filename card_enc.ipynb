{
  "cells": [
    {
      "cell_type": "markdown",
      "metadata": {
        "id": "view-in-github",
        "colab_type": "text"
      },
      "source": [
        "<a href=\"https://colab.research.google.com/github/aetev/Hearth-Stone-Python-Simulator/blob/main/card_enc.ipynb\" target=\"_parent\"><img src=\"https://colab.research.google.com/assets/colab-badge.svg\" alt=\"Open In Colab\"/></a>"
      ]
    },
    {
      "cell_type": "code",
      "source": [
        "from google.colab import drive\n",
        "drive.mount('/content/drive')"
      ],
      "metadata": {
        "colab": {
          "base_uri": "https://localhost:8080/"
        },
        "id": "3kHFncULcoGR",
        "outputId": "df6a98f6-1ce1-40d0-9610-7917be9a2da9"
      },
      "execution_count": 142,
      "outputs": [
        {
          "output_type": "stream",
          "name": "stdout",
          "text": [
            "Drive already mounted at /content/drive; to attempt to forcibly remount, call drive.mount(\"/content/drive\", force_remount=True).\n"
          ]
        }
      ]
    },
    {
      "cell_type": "code",
      "source": [
        "import json\n",
        "import tensorflow as tf\n",
        "import re\n",
        "from tensorflow.keras.layers import Embedding, TextVectorization\n",
        "# Assuming AtomicCards.json is in your Google Drive, adjust the path if necessary\n",
        "file_path = '/content/drive/MyDrive/MTGdata/AtomicCards.json'\n",
        "\n",
        "\n",
        "with open(file_path, 'r') as f:\n",
        "  data = json.load(f)['data']"
      ],
      "metadata": {
        "id": "Mx4GYeOpd3Ka"
      },
      "execution_count": 143,
      "outputs": []
    },
    {
      "cell_type": "code",
      "source": [
        "def filter_legal_cards(data):\n",
        "    legal_commander_data = {}\n",
        "    for card_name, card_data in data.items():\n",
        "        try:\n",
        "            if card_data[0]['legalities']['commander'] == 'Legal':\n",
        "                legal_commander_data[card_name] = card_data[0] # Store only the first element of card_data\n",
        "        except (KeyError, IndexError):\n",
        "            pass  # Or print a message, log it, etc.\n",
        "    return legal_commander_data\n",
        "\n",
        "filtered_data = filter_legal_cards(data)\n"
      ],
      "metadata": {
        "id": "o9rUDffCq5X2"
      },
      "execution_count": 144,
      "outputs": []
    },
    {
      "cell_type": "code",
      "source": [
        "items = list(filtered_data.items())\n",
        "\n",
        "text_list = []\n",
        "for row in items[:10]:\n",
        "  second_key, second_value = row\n",
        "  if second_value['text'] != None:\n",
        "    text_list.append(second_value['text'])\n",
        "\n",
        "\n",
        "for text in text_list:\n",
        "  print(text)"
      ],
      "metadata": {
        "colab": {
          "base_uri": "https://localhost:8080/"
        },
        "id": "ufpAdV25sI5x",
        "outputId": "a543438b-f714-4799-de61-c1a7afd3d444"
      },
      "execution_count": 165,
      "outputs": [
        {
          "output_type": "stream",
          "name": "stdout",
          "text": [
            "This creature enters tapped.\n",
            "When this creature dies, open an Attraction.\n",
            "Whenever you roll to visit your Attractions, if you roll a 6, you may return this card from your graveyard to the battlefield.\n",
            "When this creature enters from anywhere other than a graveyard or exile, if it's on the battlefield and you control 9 or fewer creatures named \"Name Sticker\" Goblin, roll a 20-sided die.\n",
            "1-6 | Add {R}{R}{R}{R}.\n",
            "7-14 | Add {R}{R}{R}{R}{R}.\n",
            "15-20 | Add {R}{R}{R}{R}{R}{R}.\n",
            "Equipped creature gets +2/+2.\n",
            "Equip {3} ({3}: Attach to target creature you control. Equip only as a sorcery.)\n",
            "Tap up to two target creatures.\n",
            "Whenever you put a name sticker on a creature, you may return this card from your graveyard to your hand.\n",
            "When this enchantment enters, create a 1/1 white Human creature token, a 1/1 blue Merfolk creature token, and a 1/1 red Goblin creature token. Then secretly choose Human, Merfolk, or Goblin.\n",
            "Sacrifice this enchantment, Reveal the creature type you chose: If target attacking creature token is the chosen type, put three +1/+1 counters on it and it gains deathtouch until end of turn.\n",
            "Casualty 1 (As you cast this spell, you may sacrifice a creature with power 1 or greater. When you do, copy this spell.)\n",
            "Look at the top two cards of your library. Put one of them into your hand and the other on the bottom of your library.\n",
            "Enchanted creatures you control get +2/+2.\n",
            "Flying\n",
            "When this creature enters, you take the initiative.\n",
            "When Aatchik enters, create a 1/1 green Insect creature token for each artifact and/or creature card in your graveyard.\n",
            "Whenever another Insect you control dies, put a +1/+1 counter on Aatchik. Each opponent loses 1 life.\n",
            "Trample\n",
            "Mark of Chaos Ascendant — During your turn, spells you cast from your hand with mana value X or less have cascade, where X is the total amount of life your opponents have lost this turn.\n"
          ]
        }
      ]
    },
    {
      "cell_type": "code",
      "source": [
        "class TextCleaningLayer(tf.keras.layers.Layer):\n",
        "    def __init__(self,sentence_list, **kwargs):\n",
        "        super(TextCleaningLayer, self).__init__(**kwargs)\n",
        "        self.vectorizer = TextVectorization(standardize=None, ngrams=2, output_mode='int',output_sequence_length=150)\n",
        "        self.vectorizer.adapt(self.clean_text(sentence_list))\n",
        "        self.embedding_layer = Embedding(input_dim=3000, output_dim=100)\n",
        "\n",
        "    def clean_text(self, card):\n",
        "\n",
        "        text = card['text']\n",
        "        card_name = card['name']\n",
        "\n",
        "\n",
        "        # Convert input to string tensor if it's not already\n",
        "        if not isinstance(text, tf.Tensor):\n",
        "            text = tf.convert_to_tensor(text, dtype=tf.string)\n",
        "\n",
        "        cleaned_text = tf.strings.lower(text)\n",
        "        cleaned_text = tf.strings.regex_replace(cleaned_text, card_name, 'self')\n",
        "        cleaned_text = tf.strings.regex_replace(cleaned_text, '\\n', '')\n",
        "        cleaned_text = tf.strings.regex_replace(cleaned_text, '[\\/\\.]', ' ')\n",
        "        cleaned_text = tf.strings.regex_replace(cleaned_text, '\\-', ' ')\n",
        "        cleaned_text = tf.strings.regex_replace(cleaned_text, '\\{|\\}', ' ')\n",
        "        cleaned_text = tf.strings.regex_replace(cleaned_text, '\\([^)]*\\)', '')\n",
        "        cleaned_text = tf.strings.regex_replace(cleaned_text, '[^\\w\\s+/\\-]', '')\n",
        "        cleaned_text = tf.strings.regex_replace(cleaned_text, '\\s+', ' ')\n",
        "        return cleaned_text\n",
        "\n",
        "    def call(self, inputs):\n",
        "        cleaned_text = self.clean_text(inputs)\n",
        "        vectorized_text = self.vectorizer(cleaned_text)\n",
        "        embedded_text = self.embedding_layer(vectorized_text)\n",
        "        return cleaned_text\n",
        "\n",
        "\n",
        "# Example usage with a batch of texts\n",
        "batch_texts = tf.constant(text_list)\n",
        "cleaned_text_layer = TextCleaningLayer(batch_texts)\n",
        "cleaned_batch = cleaned_text_layer.call(batch_texts)\n",
        "for i in range(len(cleaned_batch)):\n",
        "  print(cleaned_batch[i])\n",
        "\n",
        "\n"
      ],
      "metadata": {
        "colab": {
          "base_uri": "https://localhost:8080/"
        },
        "id": "oXajsrp-VOCl",
        "outputId": "9f825b52-e2c4-4952-f1a3-aaf46e89abd5"
      },
      "execution_count": 179,
      "outputs": [
        {
          "output_type": "stream",
          "name": "stdout",
          "text": [
            "tf.Tensor(b'this creature enters tapped when this creature dies open an attraction whenever you roll to visit your attractions if you roll a 6 you may return this card from your graveyard to the battlefield ', shape=(), dtype=string)\n",
            "tf.Tensor(b'when this creature enters from anywhere other than a graveyard or exile if its on the battlefield and you control 9 or fewer creatures named name sticker goblin roll a 20 sided die 1 6 add r r r r 7 14 add r r r r r 15 20 add r r r r r r ', shape=(), dtype=string)\n",
            "tf.Tensor(b'equipped creature gets +2 +2 equip 3 ', shape=(), dtype=string)\n",
            "tf.Tensor(b'tap up to two target creatures whenever you put a name sticker on a creature you may return this card from your graveyard to your hand ', shape=(), dtype=string)\n",
            "tf.Tensor(b'when this enchantment enters create a 1 1 white human creature token a 1 1 blue merfolk creature token and a 1 1 red goblin creature token then secretly choose human merfolk or goblin sacrifice this enchantment reveal the creature type you chose if target attacking creature token is the chosen type put three +1 +1 counters on it and it gains deathtouch until end of turn ', shape=(), dtype=string)\n",
            "tf.Tensor(b'casualty 1 look at the top two cards of your library put one of them into your hand and the other on the bottom of your library ', shape=(), dtype=string)\n",
            "tf.Tensor(b'enchanted creatures you control get +2 +2 ', shape=(), dtype=string)\n",
            "tf.Tensor(b'flyingwhen this creature enters you take the initiative ', shape=(), dtype=string)\n",
            "tf.Tensor(b'when aatchik enters create a 1 1 green insect creature token for each artifact and or creature card in your graveyard whenever another insect you control dies put a +1 +1 counter on aatchik each opponent loses 1 life ', shape=(), dtype=string)\n",
            "tf.Tensor(b'tramplemark of chaos ascendant during your turn spells you cast from your hand with mana value x or less have cascade where x is the total amount of life your opponents have lost this turn ', shape=(), dtype=string)\n"
          ]
        }
      ]
    }
  ],
  "metadata": {
    "colab": {
      "name": "Welcome To Colab",
      "provenance": [],
      "include_colab_link": true
    },
    "kernelspec": {
      "display_name": "Python 3",
      "name": "python3"
    }
  },
  "nbformat": 4,
  "nbformat_minor": 0
}